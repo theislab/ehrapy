{
 "cells": [
  {
   "cell_type": "markdown",
   "id": "47bcd090-0737-4c94-91f9-a021efd73f18",
   "metadata": {},
   "source": [
    "# Ontology mapping"
   ]
  },
  {
   "cell_type": "markdown",
   "id": "62dc1484-a7eb-4f5b-aedc-b57ce865c920",
   "metadata": {},
   "source": [
    "Ontologies are structured and standardized representations of knowledge in a specific domain, defining the concepts, relationships, and properties within that domain. They matter for Electronic Health Records (EHR) as they provide a common vocabulary and framework for organizing and integrating healthcare data. By using ontologies, EHR systems can improve interoperability, semantic understanding, and facilitate effective data exchange, leading to enhanced decision support, data analysis, and collaboration among healthcare providers and also analysts."
   ]
  },
  {
   "cell_type": "markdown",
   "id": "86af2499-df15-4dac-b80d-7db600eba205",
   "metadata": {},
   "source": [
    "ehrapy is compatible with [Bionty](https://github.com/laminlabs/bionty) which provides access to public ontologies and functionality to map values against them.\n",
    "\n",
    "Here, we'll create an artificial AnnData object containing different diseases that we will map against to ensure that all of our annotations adhere to ontologies."
   ]
  },
  {
   "cell_type": "code",
   "execution_count": 1,
   "id": "d7579faa-c9a8-48aa-b385-8ab0c9f52ddf",
   "metadata": {
    "tags": []
   },
   "outputs": [],
   "source": [
    "import anndata as ad\n",
    "import numpy as np\n",
    "import pandas as pd"
   ]
  },
  {
   "cell_type": "markdown",
   "id": "9223258c-cded-49ed-8380-93e3870b3182",
   "metadata": {},
   "source": [
    "Create an AnnData object with disease annotations in the `obs` slot."
   ]
  },
  {
   "cell_type": "code",
   "execution_count": 2,
   "id": "79e34af4-bb5d-420c-b284-66a72168d611",
   "metadata": {
    "tags": []
   },
   "outputs": [
    {
     "name": "stderr",
     "output_type": "stream",
     "text": [
      "/home/zeth/miniconda3/envs/ehrapy/lib/python3.10/site-packages/anndata/_core/anndata.py:117: ImplicitModificationWarning: Transforming to str index.\n",
      "  warnings.warn(\"Transforming to str index.\", ImplicitModificationWarning)\n"
     ]
    },
    {
     "data": {
      "text/plain": [
       "AnnData object with n_obs × n_vars = 3 × 3\n",
       "    obs: 'Immune system disorders', 'nervous system disorder', 'injury'"
      ]
     },
     "execution_count": 2,
     "metadata": {},
     "output_type": "execute_result"
    }
   ],
   "source": [
    "adata = ad.AnnData(\n",
    "    X=np.random.random((3, 3)),\n",
    "    var=pd.DataFrame(index=[f\"Lab value {val}\" for val in range(3)]),\n",
    "    obs=pd.DataFrame(\n",
    "        columns=[\"Immune system disorders\", \"nervous system disorder\", \"injury\"],\n",
    "        data=[\n",
    "            [\"Rheumatoid arthritis\", \"Alzheimer's disease\", \"Fracture\"],\n",
    "            [\"Celiac disease\", \"Parkinson's disease\", \"Traumatic brain injury\"],\n",
    "            [\"Multipla sclurosis\", \"Epilepsy\", \"Fractured Femur\"],\n",
    "        ],\n",
    "    ),\n",
    ")\n",
    "adata"
   ]
  },
  {
   "cell_type": "code",
   "execution_count": 3,
   "id": "bffd9a56-8127-45cb-bd8b-ab86cdb54d1f",
   "metadata": {
    "tags": []
   },
   "outputs": [
    {
     "data": {
      "text/html": [
       "<div>\n",
       "<style scoped>\n",
       "    .dataframe tbody tr th:only-of-type {\n",
       "        vertical-align: middle;\n",
       "    }\n",
       "\n",
       "    .dataframe tbody tr th {\n",
       "        vertical-align: top;\n",
       "    }\n",
       "\n",
       "    .dataframe thead th {\n",
       "        text-align: right;\n",
       "    }\n",
       "</style>\n",
       "<table border=\"1\" class=\"dataframe\">\n",
       "  <thead>\n",
       "    <tr style=\"text-align: right;\">\n",
       "      <th></th>\n",
       "      <th>Immune system disorders</th>\n",
       "      <th>nervous system disorder</th>\n",
       "      <th>injury</th>\n",
       "    </tr>\n",
       "  </thead>\n",
       "  <tbody>\n",
       "    <tr>\n",
       "      <th>0</th>\n",
       "      <td>Rheumatoid arthritis</td>\n",
       "      <td>Alzheimer's disease</td>\n",
       "      <td>Fracture</td>\n",
       "    </tr>\n",
       "    <tr>\n",
       "      <th>1</th>\n",
       "      <td>Celiac disease</td>\n",
       "      <td>Parkinson's disease</td>\n",
       "      <td>Traumatic brain injury</td>\n",
       "    </tr>\n",
       "    <tr>\n",
       "      <th>2</th>\n",
       "      <td>Multipla sclurosis</td>\n",
       "      <td>Epilepsy</td>\n",
       "      <td>Fractured Femur</td>\n",
       "    </tr>\n",
       "  </tbody>\n",
       "</table>\n",
       "</div>"
      ],
      "text/plain": [
       "  Immune system disorders nervous system disorder                  injury\n",
       "0    Rheumatoid arthritis     Alzheimer's disease                Fracture\n",
       "1          Celiac disease     Parkinson's disease  Traumatic brain injury\n",
       "2      Multipla sclurosis                Epilepsy         Fractured Femur"
      ]
     },
     "execution_count": 3,
     "metadata": {},
     "output_type": "execute_result"
    }
   ],
   "source": [
    "adata.obs"
   ]
  },
  {
   "cell_type": "markdown",
   "id": "716fc989-1f56-428c-8c97-6c74e1a3b3a1",
   "metadata": {},
   "source": [
    "We notice that one of our injuries does not exist and we expect to have to correct it later."
   ]
  },
  {
   "cell_type": "markdown",
   "id": "900b48e8-3785-46fe-8659-8ecc0c9fecd5",
   "metadata": {},
   "source": [
    "## Introduction to Bionty"
   ]
  },
  {
   "cell_type": "markdown",
   "id": "7c267a1f-5e68-4761-ab6f-c704c7207479",
   "metadata": {},
   "source": [
    "First we import Bionty."
   ]
  },
  {
   "cell_type": "code",
   "execution_count": 4,
   "id": "f5b2634e-b809-4115-9440-7ef40399e38e",
   "metadata": {},
   "outputs": [
    {
     "name": "stdout",
     "output_type": "stream",
     "text": [
      "✅ New records found in the public sources.yaml, updated /home/zeth/.lamin/bionty/versions/sources.local.yaml!\n"
     ]
    }
   ],
   "source": [
    "import bionty as bt"
   ]
  },
  {
   "cell_type": "markdown",
   "id": "abca4350-8799-41fe-a955-0ea96201fc7b",
   "metadata": {},
   "source": [
    "Bionty provides support for several ontologies related to diseases."
   ]
  },
  {
   "cell_type": "code",
   "execution_count": 5,
   "id": "60d2a5b4-3a89-4dc7-9101-8d0ddb1705b7",
   "metadata": {
    "tags": []
   },
   "outputs": [
    {
     "data": {
      "text/html": [
       "<div>\n",
       "<style scoped>\n",
       "    .dataframe tbody tr th:only-of-type {\n",
       "        vertical-align: middle;\n",
       "    }\n",
       "\n",
       "    .dataframe tbody tr th {\n",
       "        vertical-align: top;\n",
       "    }\n",
       "\n",
       "    .dataframe thead th {\n",
       "        text-align: right;\n",
       "    }\n",
       "</style>\n",
       "<table border=\"1\" class=\"dataframe\">\n",
       "  <thead>\n",
       "    <tr style=\"text-align: right;\">\n",
       "      <th></th>\n",
       "      <th>source</th>\n",
       "      <th>species</th>\n",
       "      <th>version</th>\n",
       "      <th>url</th>\n",
       "      <th>md5</th>\n",
       "      <th>source_name</th>\n",
       "      <th>source_website</th>\n",
       "    </tr>\n",
       "    <tr>\n",
       "      <th>entity</th>\n",
       "      <th></th>\n",
       "      <th></th>\n",
       "      <th></th>\n",
       "      <th></th>\n",
       "      <th></th>\n",
       "      <th></th>\n",
       "      <th></th>\n",
       "    </tr>\n",
       "  </thead>\n",
       "  <tbody>\n",
       "    <tr>\n",
       "      <th>Disease</th>\n",
       "      <td>mondo</td>\n",
       "      <td>all</td>\n",
       "      <td>2023-02-06</td>\n",
       "      <td>None</td>\n",
       "      <td>2b7d479d4bd02a94eab47d1c9e64c5db</td>\n",
       "      <td>Mondo Disease Ontology</td>\n",
       "      <td>https://mondo.monarchinitiative.org/</td>\n",
       "    </tr>\n",
       "    <tr>\n",
       "      <th>Disease</th>\n",
       "      <td>mondo</td>\n",
       "      <td>all</td>\n",
       "      <td>2022-10-11</td>\n",
       "      <td>None</td>\n",
       "      <td>04b808d05c2c2e81430b20a0e87552bb</td>\n",
       "      <td>Mondo Disease Ontology</td>\n",
       "      <td>https://mondo.monarchinitiative.org/</td>\n",
       "    </tr>\n",
       "    <tr>\n",
       "      <th>Disease</th>\n",
       "      <td>doid</td>\n",
       "      <td>human</td>\n",
       "      <td>2023-01-30</td>\n",
       "      <td>None</td>\n",
       "      <td>9f0c92ad2896dda82195e9226a06dc36</td>\n",
       "      <td>Human Disease Ontology</td>\n",
       "      <td>https://disease-ontology.org/</td>\n",
       "    </tr>\n",
       "  </tbody>\n",
       "</table>\n",
       "</div>"
      ],
      "text/plain": [
       "        source species     version   url                               md5  \\\n",
       "entity                                                                       \n",
       "Disease  mondo     all  2023-02-06  None  2b7d479d4bd02a94eab47d1c9e64c5db   \n",
       "Disease  mondo     all  2022-10-11  None  04b808d05c2c2e81430b20a0e87552bb   \n",
       "Disease   doid   human  2023-01-30  None  9f0c92ad2896dda82195e9226a06dc36   \n",
       "\n",
       "                    source_name                        source_website  \n",
       "entity                                                                 \n",
       "Disease  Mondo Disease Ontology  https://mondo.monarchinitiative.org/  \n",
       "Disease  Mondo Disease Ontology  https://mondo.monarchinitiative.org/  \n",
       "Disease  Human Disease Ontology         https://disease-ontology.org/  "
      ]
     },
     "execution_count": 5,
     "metadata": {},
     "output_type": "execute_result"
    }
   ],
   "source": [
    "bt.display_available_sources().loc[\"Disease\"]"
   ]
  },
  {
   "cell_type": "markdown",
   "id": "b345b269-6b21-42ed-86a3-fa3e8d468b77",
   "metadata": {},
   "source": [
    "Bionty provides three key functionalities:\n",
    "\n",
    "1. `inspect`: Check whether any of our values (here diseases) are mappable against a specified ontology.\n",
    "2. `map_synonyms`: Map values against synonyms. This is not relevant for our diseases.\n",
    "3. `curate`: Curate ontology values against the ontology to ensure compliance."
   ]
  },
  {
   "cell_type": "markdown",
   "id": "81d67ba7-b8b1-4b6b-ad42-3fe122c60705",
   "metadata": {},
   "source": [
    "## Mapping against the MONDO Disease Ontology with Bionty"
   ]
  },
  {
   "cell_type": "markdown",
   "id": "35e32be9-4ade-411d-9e0f-fff64357a338",
   "metadata": {},
   "source": [
    "We will now showcase how to access the [Mondo Disease Ontology](https://mondo.monarchinitiative.org/) with Bionty.\n",
    "The Mondo Disease Ontology (Mondo) aims to harmonize disease definitions across the world.\n",
    "\n",
    "There are several different sources available that provide definitions and data models for diseases, such as [HPO](https://hpo.jax.org/app), [OMIM](https://omim.org/), [SNOMED CT](http://www.snomed.org/), [ICD](https://www.cdc.gov/nchs/icd/icd10cm.htm), [PhenoDB](https://phenodb.org/), [MedDRA](https://www.meddra.org/), [MedGen](https://www.ncbi.nlm.nih.gov/medgen/), [ORDO](https://www.orpha.net/consor/cgi-bin/index.php?lng=EN), [DO](http://disease-ontology.org/), [GARD](https://rarediseases.info.nih.gov/), and others. However, these sources often overlap and sometimes conflict with each other, making it challenging to understand how they are related.\n",
    "\n",
    "To address the need for a unified disease terminology that offers precise equivalences between disease concepts, Mondo was developed. Mondo is designed to unify multiple disease resources using a logic-based structure."
   ]
  },
  {
   "cell_type": "markdown",
   "id": "427cc9fe-ca9c-45ae-8670-a491fbac609c",
   "metadata": {},
   "source": [
    "Bionty is centered around Bionty entity objects that provide the above introduced functionality. We'll now create a Bionty Disease object with the MONDO ontology as our source and a specific version for reproducibility."
   ]
  },
  {
   "cell_type": "code",
   "execution_count": 6,
   "id": "2cb0a9c2-0f75-448e-858d-f93f73b6cd9a",
   "metadata": {
    "tags": []
   },
   "outputs": [
    {
     "data": {
      "text/plain": [
       "Disease\n",
       "Species: all\n",
       "Source: mondo, 2023-02-06\n",
       "\n",
       "📖 Disease.df(): ontology reference table\n",
       "🔎 Disease.lookup(): autocompletion of ontology terms\n",
       "🔗 Disease.ontology: Pronto.Ontology object"
      ]
     },
     "execution_count": 6,
     "metadata": {},
     "output_type": "execute_result"
    }
   ],
   "source": [
    "disease_bionty = bt.Disease(source=\"mondo\", version=\"2023-02-06\")\n",
    "disease_bionty"
   ]
  },
  {
   "cell_type": "markdown",
   "id": "d6cd8893-bc5d-424d-872e-80242ba26c68",
   "metadata": {},
   "source": [
    "We can access the DataFrame that contains all ontology terms:"
   ]
  },
  {
   "cell_type": "code",
   "execution_count": 7,
   "id": "8bf7ef19-aea8-4fc7-9360-8e544f59d3b7",
   "metadata": {
    "tags": []
   },
   "outputs": [
    {
     "data": {
      "text/html": [
       "<div>\n",
       "<style scoped>\n",
       "    .dataframe tbody tr th:only-of-type {\n",
       "        vertical-align: middle;\n",
       "    }\n",
       "\n",
       "    .dataframe tbody tr th {\n",
       "        vertical-align: top;\n",
       "    }\n",
       "\n",
       "    .dataframe thead th {\n",
       "        text-align: right;\n",
       "    }\n",
       "</style>\n",
       "<table border=\"1\" class=\"dataframe\">\n",
       "  <thead>\n",
       "    <tr style=\"text-align: right;\">\n",
       "      <th></th>\n",
       "      <th>name</th>\n",
       "      <th>definition</th>\n",
       "      <th>synonyms</th>\n",
       "      <th>children</th>\n",
       "    </tr>\n",
       "    <tr>\n",
       "      <th>ontology_id</th>\n",
       "      <th></th>\n",
       "      <th></th>\n",
       "      <th></th>\n",
       "      <th></th>\n",
       "    </tr>\n",
       "  </thead>\n",
       "  <tbody>\n",
       "    <tr>\n",
       "      <th>http://identifiers.org/hgnc/10001</th>\n",
       "      <td>RGS5</td>\n",
       "      <td>None</td>\n",
       "      <td>None</td>\n",
       "      <td>[]</td>\n",
       "    </tr>\n",
       "    <tr>\n",
       "      <th>http://identifiers.org/hgnc/10004</th>\n",
       "      <td>RGS9</td>\n",
       "      <td>None</td>\n",
       "      <td>None</td>\n",
       "      <td>[]</td>\n",
       "    </tr>\n",
       "    <tr>\n",
       "      <th>http://identifiers.org/hgnc/10006</th>\n",
       "      <td>RHAG</td>\n",
       "      <td>None</td>\n",
       "      <td>None</td>\n",
       "      <td>[]</td>\n",
       "    </tr>\n",
       "    <tr>\n",
       "      <th>http://identifiers.org/hgnc/10012</th>\n",
       "      <td>RHO</td>\n",
       "      <td>None</td>\n",
       "      <td>None</td>\n",
       "      <td>[]</td>\n",
       "    </tr>\n",
       "    <tr>\n",
       "      <th>http://identifiers.org/hgnc/10013</th>\n",
       "      <td>GRK1</td>\n",
       "      <td>None</td>\n",
       "      <td>None</td>\n",
       "      <td>[]</td>\n",
       "    </tr>\n",
       "    <tr>\n",
       "      <th>...</th>\n",
       "      <td>...</td>\n",
       "      <td>...</td>\n",
       "      <td>...</td>\n",
       "      <td>...</td>\n",
       "    </tr>\n",
       "    <tr>\n",
       "      <th>UBERON:8410056</th>\n",
       "      <td>capillary of anorectum</td>\n",
       "      <td>None</td>\n",
       "      <td>None</td>\n",
       "      <td>[]</td>\n",
       "    </tr>\n",
       "    <tr>\n",
       "      <th>UBERON:8410057</th>\n",
       "      <td>capillary of colon</td>\n",
       "      <td>None</td>\n",
       "      <td>None</td>\n",
       "      <td>[]</td>\n",
       "    </tr>\n",
       "    <tr>\n",
       "      <th>UBERON:8420000</th>\n",
       "      <td>hair of scalp</td>\n",
       "      <td>None</td>\n",
       "      <td>None</td>\n",
       "      <td>[]</td>\n",
       "    </tr>\n",
       "    <tr>\n",
       "      <th>UBERON:8440004</th>\n",
       "      <td>laminar subdivision of the cortex</td>\n",
       "      <td>None</td>\n",
       "      <td>None</td>\n",
       "      <td>[UBERON:0002301]</td>\n",
       "    </tr>\n",
       "    <tr>\n",
       "      <th>UPHENO:0001001</th>\n",
       "      <td>phenotype</td>\n",
       "      <td>None</td>\n",
       "      <td>None</td>\n",
       "      <td>[]</td>\n",
       "    </tr>\n",
       "  </tbody>\n",
       "</table>\n",
       "<p>41623 rows × 4 columns</p>\n",
       "</div>"
      ],
      "text/plain": [
       "                                                                name  \\\n",
       "ontology_id                                                            \n",
       "http://identifiers.org/hgnc/10001                               RGS5   \n",
       "http://identifiers.org/hgnc/10004                               RGS9   \n",
       "http://identifiers.org/hgnc/10006                               RHAG   \n",
       "http://identifiers.org/hgnc/10012                                RHO   \n",
       "http://identifiers.org/hgnc/10013                               GRK1   \n",
       "...                                                              ...   \n",
       "UBERON:8410056                                capillary of anorectum   \n",
       "UBERON:8410057                                    capillary of colon   \n",
       "UBERON:8420000                                         hair of scalp   \n",
       "UBERON:8440004                     laminar subdivision of the cortex   \n",
       "UPHENO:0001001                                             phenotype   \n",
       "\n",
       "                                  definition synonyms          children  \n",
       "ontology_id                                                              \n",
       "http://identifiers.org/hgnc/10001       None     None                []  \n",
       "http://identifiers.org/hgnc/10004       None     None                []  \n",
       "http://identifiers.org/hgnc/10006       None     None                []  \n",
       "http://identifiers.org/hgnc/10012       None     None                []  \n",
       "http://identifiers.org/hgnc/10013       None     None                []  \n",
       "...                                      ...      ...               ...  \n",
       "UBERON:8410056                          None     None                []  \n",
       "UBERON:8410057                          None     None                []  \n",
       "UBERON:8420000                          None     None                []  \n",
       "UBERON:8440004                          None     None  [UBERON:0002301]  \n",
       "UPHENO:0001001                          None     None                []  \n",
       "\n",
       "[41623 rows x 4 columns]"
      ]
     },
     "execution_count": 7,
     "metadata": {},
     "output_type": "execute_result"
    }
   ],
   "source": [
    "disease_bionty.df()"
   ]
  },
  {
   "cell_type": "markdown",
   "id": "c2dc951a-5e92-4753-a364-0bc5a87e0dd5",
   "metadata": {},
   "source": [
    "Let's inspect all of our \"Immune system disorders\" to learn which terms map against the MONDO Disease ontology.\n",
    "We "
   ]
  },
  {
   "cell_type": "code",
   "execution_count": 8,
   "id": "60563f60-b573-4182-9bae-9825ada8f943",
   "metadata": {
    "tags": []
   },
   "outputs": [
    {
     "name": "stdout",
     "output_type": "stream",
     "text": [
      "✅ 1 terms (33.3%) are mapped.\n",
      "🔶 2 terms (66.7%) are not mapped.\n"
     ]
    },
    {
     "data": {
      "text/html": [
       "<div>\n",
       "<style scoped>\n",
       "    .dataframe tbody tr th:only-of-type {\n",
       "        vertical-align: middle;\n",
       "    }\n",
       "\n",
       "    .dataframe tbody tr th {\n",
       "        vertical-align: top;\n",
       "    }\n",
       "\n",
       "    .dataframe thead th {\n",
       "        text-align: right;\n",
       "    }\n",
       "</style>\n",
       "<table border=\"1\" class=\"dataframe\">\n",
       "  <thead>\n",
       "    <tr style=\"text-align: right;\">\n",
       "      <th></th>\n",
       "      <th>__mapped__</th>\n",
       "    </tr>\n",
       "    <tr>\n",
       "      <th>Immune system disorders</th>\n",
       "      <th></th>\n",
       "    </tr>\n",
       "  </thead>\n",
       "  <tbody>\n",
       "    <tr>\n",
       "      <th>Rheumatoid arthritis</th>\n",
       "      <td>True</td>\n",
       "    </tr>\n",
       "    <tr>\n",
       "      <th>Celiac disease</th>\n",
       "      <td>False</td>\n",
       "    </tr>\n",
       "    <tr>\n",
       "      <th>Multipla sclurosis</th>\n",
       "      <td>False</td>\n",
       "    </tr>\n",
       "  </tbody>\n",
       "</table>\n",
       "</div>"
      ],
      "text/plain": [
       "                         __mapped__\n",
       "Immune system disorders            \n",
       "Rheumatoid arthritis           True\n",
       "Celiac disease                False\n",
       "Multipla sclurosis            False"
      ]
     },
     "execution_count": 8,
     "metadata": {},
     "output_type": "execute_result"
    }
   ],
   "source": [
    "disease_bionty.inspect(\n",
    "    adata.obs[\"Immune system disorders\"], field=disease_bionty.name, return_df=True\n",
    ")"
   ]
  },
  {
   "cell_type": "markdown",
   "id": "6d0383e6-09db-43f8-a52d-471046ebacdc",
   "metadata": {},
   "source": [
    "Apparently \"Rheumatoid arthritis\" could be mapped to the MONDO Disease ontology, but \"Celiac disease\" and \"Multiple sclerosis\" could not."
   ]
  },
  {
   "cell_type": "markdown",
   "id": "de59a7a1-8ccf-4b7c-a6e5-16bd2ca2e126",
   "metadata": {},
   "source": [
    "We can use Bionty's lookup functionality to try to find the corresponding term in the MONDO Disease ontology for the terms that could not be mapped using auto-complete.\n",
    "For this purpose we create a lookup object."
   ]
  },
  {
   "cell_type": "code",
   "execution_count": 9,
   "id": "5a570f24-44b4-43ad-b7ee-f1ba3bf922c9",
   "metadata": {},
   "outputs": [],
   "source": [
    "disease_bionty_lookup = disease_bionty.lookup()"
   ]
  },
  {
   "cell_type": "code",
   "execution_count": 10,
   "id": "aa16c040-961d-4905-affc-297d66cc1a9c",
   "metadata": {
    "tags": []
   },
   "outputs": [
    {
     "data": {
      "text/plain": [
       "disease(ontology_id='MONDO:0005130', name='celiac disease', definition='An Autoimmune Genetic Disorder With An Unknown Pattern Of Inheritance That Primarily Affects The Digestive Tract. It Is Caused By Intolerance To Dietary Gluten. Consumption Of Gluten Protein Triggers An Immune Response Which Damages Small Intestinal Villi And Prevents Adequate Absorption Of Nutrients. Clinical Signs Include Abdominal Cramping, Diarrhea Or Constipation And Weight Loss. If Untreated, The Clinical Course May Progress To Malnutrition, Anemia, Osteoporosis And An Increased Risk Of Intestinal Malignancies. However, The Prognosis Is Favorable With Successful Avoidance Of Gluten In The Diet.', synonyms='gluten-induced enteropathy|celiac sprue|idiopathic steatorrhea|gluten intolerance|coeliac disease|non tropical sprue', children=array(['MONDO:0800124'], dtype=object))"
      ]
     },
     "execution_count": 10,
     "metadata": {},
     "output_type": "execute_result"
    }
   ],
   "source": [
    "disease_bionty_lookup.celiac_disease"
   ]
  },
  {
   "cell_type": "markdown",
   "id": "53000247-6061-47c8-8f7d-794d9b8fc650",
   "metadata": {},
   "source": [
    "We found a match! Let's look at the definition of our result."
   ]
  },
  {
   "cell_type": "code",
   "execution_count": 11,
   "id": "87ef3eba-be0c-4816-95eb-5175d78250d9",
   "metadata": {
    "tags": []
   },
   "outputs": [
    {
     "data": {
      "text/plain": [
       "'An Autoimmune Genetic Disorder With An Unknown Pattern Of Inheritance That Primarily Affects The Digestive Tract. It Is Caused By Intolerance To Dietary Gluten. Consumption Of Gluten Protein Triggers An Immune Response Which Damages Small Intestinal Villi And Prevents Adequate Absorption Of Nutrients. Clinical Signs Include Abdominal Cramping, Diarrhea Or Constipation And Weight Loss. If Untreated, The Clinical Course May Progress To Malnutrition, Anemia, Osteoporosis And An Increased Risk Of Intestinal Malignancies. However, The Prognosis Is Favorable With Successful Avoidance Of Gluten In The Diet.'"
      ]
     },
     "execution_count": 11,
     "metadata": {},
     "output_type": "execute_result"
    }
   ],
   "source": [
    "disease_bionty_lookup.celiac_disease.definition"
   ]
  },
  {
   "cell_type": "markdown",
   "id": "168311ef-c77c-42cb-9faf-587150c152cd",
   "metadata": {},
   "source": [
    "This is exactly what we've been looking for. To find a final match for \"Multiple sclerosis\" we use Bionty's fuzzy matching."
   ]
  },
  {
   "cell_type": "code",
   "execution_count": 12,
   "id": "cdb65c6e-92b9-494e-96fd-f566cd68074d",
   "metadata": {
    "tags": []
   },
   "outputs": [
    {
     "data": {
      "text/html": [
       "<div>\n",
       "<style scoped>\n",
       "    .dataframe tbody tr th:only-of-type {\n",
       "        vertical-align: middle;\n",
       "    }\n",
       "\n",
       "    .dataframe tbody tr th {\n",
       "        vertical-align: top;\n",
       "    }\n",
       "\n",
       "    .dataframe thead th {\n",
       "        text-align: right;\n",
       "    }\n",
       "</style>\n",
       "<table border=\"1\" class=\"dataframe\">\n",
       "  <thead>\n",
       "    <tr style=\"text-align: right;\">\n",
       "      <th></th>\n",
       "      <th>ontology_id</th>\n",
       "      <th>definition</th>\n",
       "      <th>synonyms</th>\n",
       "      <th>children</th>\n",
       "      <th>__ratio__</th>\n",
       "    </tr>\n",
       "    <tr>\n",
       "      <th>name</th>\n",
       "      <th></th>\n",
       "      <th></th>\n",
       "      <th></th>\n",
       "      <th></th>\n",
       "      <th></th>\n",
       "    </tr>\n",
       "  </thead>\n",
       "  <tbody>\n",
       "    <tr>\n",
       "      <th>multiple sclerosis</th>\n",
       "      <td>MONDO:0005301</td>\n",
       "      <td>A Progressive Autoimmune Disorder Affecting Th...</td>\n",
       "      <td>None</td>\n",
       "      <td>[MONDO:0005314, MONDO:0005284]</td>\n",
       "      <td>88.888889</td>\n",
       "    </tr>\n",
       "  </tbody>\n",
       "</table>\n",
       "</div>"
      ],
      "text/plain": [
       "                      ontology_id  \\\n",
       "name                                \n",
       "multiple sclerosis  MONDO:0005301   \n",
       "\n",
       "                                                           definition  \\\n",
       "name                                                                    \n",
       "multiple sclerosis  A Progressive Autoimmune Disorder Affecting Th...   \n",
       "\n",
       "                   synonyms                        children  __ratio__  \n",
       "name                                                                    \n",
       "multiple sclerosis     None  [MONDO:0005314, MONDO:0005284]  88.888889  "
      ]
     },
     "execution_count": 12,
     "metadata": {},
     "output_type": "execute_result"
    }
   ],
   "source": [
    "disease_bionty.fuzzy_match(\n",
    "    \"Multipla sclurosis\", field=disease_bionty.name, case_sensitive=False\n",
    ")"
   ]
  },
  {
   "cell_type": "code",
   "execution_count": 13,
   "id": "7a84600e-43e6-4115-bbdc-ae2ac3bcd9ff",
   "metadata": {
    "tags": []
   },
   "outputs": [
    {
     "data": {
      "text/plain": [
       "disease(ontology_id='MONDO:0005301', name='multiple sclerosis', definition='A Progressive Autoimmune Disorder Affecting The Central Nervous System Resulting In Demyelination. Patients Develop Physical And Cognitive Impairments That Correspond With The Affected Nerve Fibers.', synonyms=None, children=array(['MONDO:0005314', 'MONDO:0005284'], dtype=object))"
      ]
     },
     "execution_count": 13,
     "metadata": {},
     "output_type": "execute_result"
    }
   ],
   "source": [
    "disease_bionty_lookup.multiple_sclerosis"
   ]
  },
  {
   "cell_type": "markdown",
   "id": "b71eb051-d388-4587-8def-54cbad53d6ed",
   "metadata": {},
   "source": [
    "Now we can finally replace the values of our obs column with the MONDO Disease ontology values."
   ]
  },
  {
   "cell_type": "code",
   "execution_count": 14,
   "id": "0a862857-929f-4e0a-97b4-2e84a695a2a8",
   "metadata": {
    "tags": []
   },
   "outputs": [
    {
     "data": {
      "text/plain": [
       "0    Rheumatoid arthritis\n",
       "1          celiac disease\n",
       "2      multiple sclerosis\n",
       "Name: Immune system disorders, dtype: object"
      ]
     },
     "execution_count": 14,
     "metadata": {},
     "output_type": "execute_result"
    }
   ],
   "source": [
    "adata.obs[\"Immune system disorders\"] = [\n",
    "    adata.obs[\"Immune system disorders\"][0],\n",
    "    disease_bionty_lookup.celiac_disease.name,\n",
    "    disease_bionty_lookup.multiple_sclerosis.name,\n",
    "]\n",
    "adata.obs[\"Immune system disorders\"]"
   ]
  },
  {
   "cell_type": "code",
   "execution_count": 15,
   "id": "c70b961d-d483-44ed-8f7b-575cb18265a3",
   "metadata": {
    "tags": []
   },
   "outputs": [
    {
     "name": "stdout",
     "output_type": "stream",
     "text": [
      "✅ 3 terms (100.0%) are mapped.\n",
      "🔶 0 terms (0.0%) are not mapped.\n"
     ]
    },
    {
     "data": {
      "text/html": [
       "<div>\n",
       "<style scoped>\n",
       "    .dataframe tbody tr th:only-of-type {\n",
       "        vertical-align: middle;\n",
       "    }\n",
       "\n",
       "    .dataframe tbody tr th {\n",
       "        vertical-align: top;\n",
       "    }\n",
       "\n",
       "    .dataframe thead th {\n",
       "        text-align: right;\n",
       "    }\n",
       "</style>\n",
       "<table border=\"1\" class=\"dataframe\">\n",
       "  <thead>\n",
       "    <tr style=\"text-align: right;\">\n",
       "      <th></th>\n",
       "      <th>__mapped__</th>\n",
       "    </tr>\n",
       "    <tr>\n",
       "      <th>Immune system disorders</th>\n",
       "      <th></th>\n",
       "    </tr>\n",
       "  </thead>\n",
       "  <tbody>\n",
       "    <tr>\n",
       "      <th>Rheumatoid arthritis</th>\n",
       "      <td>True</td>\n",
       "    </tr>\n",
       "    <tr>\n",
       "      <th>celiac disease</th>\n",
       "      <td>True</td>\n",
       "    </tr>\n",
       "    <tr>\n",
       "      <th>multiple sclerosis</th>\n",
       "      <td>True</td>\n",
       "    </tr>\n",
       "  </tbody>\n",
       "</table>\n",
       "</div>"
      ],
      "text/plain": [
       "                         __mapped__\n",
       "Immune system disorders            \n",
       "Rheumatoid arthritis           True\n",
       "celiac disease                 True\n",
       "multiple sclerosis             True"
      ]
     },
     "execution_count": 15,
     "metadata": {},
     "output_type": "execute_result"
    }
   ],
   "source": [
    "disease_bionty.inspect(\n",
    "    adata.obs[\"Immune system disorders\"], field=disease_bionty.name, return_df=True\n",
    ")"
   ]
  },
  {
   "cell_type": "markdown",
   "id": "c7a08e5e-039e-40ba-bf5d-2997a3a16c52",
   "metadata": {},
   "source": [
    "Voilà, all of our immune system disorders are mapped against the ontology. We could now repeat this process for all other columns."
   ]
  },
  {
   "cell_type": "markdown",
   "id": "8974c126-55c0-4d97-8889-39e396fc21ea",
   "metadata": {},
   "source": [
    "## Mapping against the Disease Ontology with Bionty"
   ]
  },
  {
   "cell_type": "markdown",
   "id": "9bb095a1-da4f-4f71-a8e6-d08459b27a8c",
   "metadata": {},
   "source": [
    "Bionty supports other ontologies besides the MONDO Disease Ontology like the [Disease Ontology](https://disease-ontology.org/). The workflow here is very similar.\n",
    "\n",
    "We solely need to adapt the source and the version."
   ]
  },
  {
   "cell_type": "code",
   "execution_count": 16,
   "id": "1227ca5f-80b9-491c-a7e4-dd309c599fd9",
   "metadata": {},
   "outputs": [],
   "source": [
    "disease_bionty = bt.Disease(source=\"doid\", version=\"2023-01-30\")"
   ]
  },
  {
   "cell_type": "markdown",
   "id": "226ad0a8-bd1e-4eb3-baf9-11402123a57c",
   "metadata": {},
   "source": [
    "The remaining workflow would be the same as above."
   ]
  },
  {
   "cell_type": "markdown",
   "id": "19bc232b-cd44-4505-a31f-ee65e37d29f6",
   "metadata": {},
   "source": [
    "## Conclusion"
   ]
  },
  {
   "cell_type": "markdown",
   "id": "7a15db25-70ea-4d0a-b7a4-49f2d4e35e1f",
   "metadata": {},
   "source": [
    "ehrapy provides support for ontology management, inspection and mapping through [Bionty](https://github.com/laminlabs/bionty).\n",
    "Bionty provide access to ontologies such as the [Mondo Disease Ontology](https://mondo.monarchinitiative.org/), [Disease Ontology](https://disease-ontology.org/) and many others.\n",
    "To access these ontologies we create a Bionty Disease objects that have class functions to map synonyms and to inspect data for adherence against ontologies.\n",
    "Mismatches can be remedied by finding the actual correct ontology name using lookup objects or fuzzy matching."
   ]
  }
 ],
 "metadata": {
  "kernelspec": {
   "display_name": "Python 3 (ipykernel)",
   "language": "python",
   "name": "python3"
  },
  "language_info": {
   "codemirror_mode": {
    "name": "ipython",
    "version": 3
   },
   "file_extension": ".py",
   "mimetype": "text/x-python",
   "name": "python",
   "nbconvert_exporter": "python",
   "pygments_lexer": "ipython3",
   "version": "3.10.12"
  }
 },
 "nbformat": 4,
 "nbformat_minor": 5
}
