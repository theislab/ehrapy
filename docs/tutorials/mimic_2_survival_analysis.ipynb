{
 "cells": [
  {
   "cell_type": "markdown",
   "id": "c9f3ba8d-da52-4038-8f63-2b513fd51fe4",
   "metadata": {},
   "source": [
    "# MIMIC-II Survival Analysis"
   ]
  },
  {
   "cell_type": "markdown",
   "id": "28605891-5073-4ef9-9cbc-1adbbe99d604",
   "metadata": {},
   "source": [
    "This tutorial explores the MIMIC-II IAC dataset. It was created for the purpose of a case study in the book: Secondary Analysis of Electronic Health Records, published by Springer in 2016. In particular, the dataset was used throughout Chapter 16 (Data Analysis) by Raffa J. et al. to investigate the effectiveness of indwelling arterial catheters in hemodynamically stable patients with respiratory failure for mortality outcomes. The dataset is derived from MIMIC-II, the publicly-accessible critical care database. It contains summary clinical data and  outcomes for 1,776 patients.\n",
    "\n",
    "Reference: \n",
    "\n",
    "[1] Critical Data, M.I.T., 2016. Secondary analysis of electronic health records (p. 427). Springer Nature. (https://link.springer.com/book/10.1007/978-3-319-43742-2)\n",
    "\n",
    "[2] https://github.com/MIT-LCP/critical-data-book/tree/master/part_ii/chapter_16/jupyter\n",
    "\n",
    "[3] https://stackoverflow.com/questions/27328623/anova-test-for-glm-in-python/60769343#60769343"
   ]
  },
  {
   "cell_type": "markdown",
   "id": "e77910ed-82d4-4b4c-93a6-7f3fae8b2cb1",
   "metadata": {},
   "source": [
    "More details on the dataset can be found here: https://physionet.org/content/mimic2-iaccd/1.0/."
   ]
  },
  {
   "cell_type": "markdown",
   "id": "8bd31bd3-c945-4314-be00-985be720d6e9",
   "metadata": {},
   "source": [
    "## Importing ehrapy and setting plotting parameters"
   ]
  },
  {
   "cell_type": "code",
   "execution_count": 1,
   "id": "ea172c3a-e8aa-469a-ba7c-5d4730fee1e0",
   "metadata": {},
   "outputs": [
    {
     "data": {
      "text/html": [
       "<pre style=\"white-space:pre;overflow-x:auto;line-height:normal;font-family:Menlo,'DejaVu Sans Mono',consolas,'Courier New',monospace\"><span style=\"color: #808000; text-decoration-color: #808000; font-weight: bold\">Installed version </span><span style=\"color: #808000; text-decoration-color: #808000; font-weight: bold\">0.3</span><span style=\"color: #808000; text-decoration-color: #808000; font-weight: bold\">.</span><span style=\"color: #808000; text-decoration-color: #808000; font-weight: bold\">0</span><span style=\"color: #808000; text-decoration-color: #808000; font-weight: bold\"> of ehrapy is newer than the latest release </span><span style=\"color: #808000; text-decoration-color: #808000; font-weight: bold\">0.2</span><span style=\"color: #808000; text-decoration-color: #808000; font-weight: bold\">.</span><span style=\"color: #808000; text-decoration-color: #808000; font-weight: bold\">0</span><span style=\"color: #808000; text-decoration-color: #808000; font-weight: bold\">! You are running a nightly version and </span>\n",
       "<span style=\"color: #808000; text-decoration-color: #808000; font-weight: bold\">features may break!</span>\n",
       "</pre>\n"
      ],
      "text/plain": [
       "\u001b[1;33mInstalled version \u001b[0m\u001b[1;33m0.3\u001b[0m\u001b[1;33m.\u001b[0m\u001b[1;33m0\u001b[0m\u001b[1;33m of ehrapy is newer than the latest release \u001b[0m\u001b[1;33m0.2\u001b[0m\u001b[1;33m.\u001b[0m\u001b[1;33m0\u001b[0m\u001b[1;33m! You are running a nightly version and \u001b[0m\n",
       "\u001b[1;33mfeatures may break!\u001b[0m\n"
      ]
     },
     "metadata": {},
     "output_type": "display_data"
    }
   ],
   "source": [
    "import ehrapy as ep\n",
    "import pandas as pd\n",
    "import numpy as np\n",
    "from statsmodels.stats.anova import anova_lm\n",
    "from itertools import product\n",
    "from lifelines import CoxPHFitter"
   ]
  },
  {
   "cell_type": "code",
   "execution_count": 2,
   "id": "d845678f-4473-48c1-9a9d-8dcc03ed41b6",
   "metadata": {},
   "outputs": [],
   "source": [
    "import warnings\n",
    "\n",
    "warnings.filterwarnings(\"ignore\")"
   ]
  },
  {
   "cell_type": "code",
   "execution_count": 3,
   "id": "3f45a5f8-409f-4c0d-802d-616473ae2810",
   "metadata": {},
   "outputs": [
    {
     "data": {
      "text/html": [
       "<pre style=\"white-space:pre;overflow-x:auto;line-height:normal;font-family:Menlo,'DejaVu Sans Mono',consolas,'Courier New',monospace\">-----\n",
       "ehrapy              <span style=\"color: #008080; text-decoration-color: #008080; font-weight: bold\">0.3</span>.<span style=\"color: #008080; text-decoration-color: #008080; font-weight: bold\">0</span>\n",
       "rich                NA\n",
       "scanpy              <span style=\"color: #008080; text-decoration-color: #008080; font-weight: bold\">1.9</span>.<span style=\"color: #008080; text-decoration-color: #008080; font-weight: bold\">1</span>\n",
       "session_info        <span style=\"color: #008080; text-decoration-color: #008080; font-weight: bold\">1.0</span>.<span style=\"color: #008080; text-decoration-color: #008080; font-weight: bold\">0</span>\n",
       "-----\n",
       "PIL                 <span style=\"color: #008080; text-decoration-color: #008080; font-weight: bold\">9.2</span>.<span style=\"color: #008080; text-decoration-color: #008080; font-weight: bold\">0</span>\n",
       "PyPDF2              <span style=\"color: #008080; text-decoration-color: #008080; font-weight: bold\">2.6</span>.<span style=\"color: #008080; text-decoration-color: #008080; font-weight: bold\">0</span>\n",
       "anndata             <span style=\"color: #008080; text-decoration-color: #008080; font-weight: bold\">0.8</span>.<span style=\"color: #008080; text-decoration-color: #008080; font-weight: bold\">0</span>\n",
       "appnope             <span style=\"color: #008080; text-decoration-color: #008080; font-weight: bold\">0.1</span>.<span style=\"color: #008080; text-decoration-color: #008080; font-weight: bold\">3</span>\n",
       "astor               <span style=\"color: #008080; text-decoration-color: #008080; font-weight: bold\">0.8</span>.<span style=\"color: #008080; text-decoration-color: #008080; font-weight: bold\">1</span>\n",
       "asttokens           NA\n",
       "attr                <span style=\"color: #008080; text-decoration-color: #008080; font-weight: bold\">21.4</span>.<span style=\"color: #008080; text-decoration-color: #008080; font-weight: bold\">0</span>\n",
       "autograd            NA\n",
       "autograd_gamma      NA\n",
       "backcall            <span style=\"color: #008080; text-decoration-color: #008080; font-weight: bold\">0.2</span>.<span style=\"color: #008080; text-decoration-color: #008080; font-weight: bold\">0</span>\n",
       "backports           NA\n",
       "bs4                 <span style=\"color: #008080; text-decoration-color: #008080; font-weight: bold\">4.11</span>.<span style=\"color: #008080; text-decoration-color: #008080; font-weight: bold\">1</span>\n",
       "camelot             <span style=\"color: #008080; text-decoration-color: #008080; font-weight: bold\">0.10</span>.<span style=\"color: #008080; text-decoration-color: #008080; font-weight: bold\">1</span>\n",
       "category_encoders   <span style=\"color: #008080; text-decoration-color: #008080; font-weight: bold\">2.5</span>.<span style=\"color: #008080; text-decoration-color: #008080; font-weight: bold\">0</span>\n",
       "certifi             <span style=\"color: #008080; text-decoration-color: #008080; font-weight: bold\">2022.06</span>.<span style=\"color: #008080; text-decoration-color: #008080; font-weight: bold\">15</span>\n",
       "cffi                <span style=\"color: #008080; text-decoration-color: #008080; font-weight: bold\">1.15</span>.<span style=\"color: #008080; text-decoration-color: #008080; font-weight: bold\">1</span>\n",
       "chardet             <span style=\"color: #008080; text-decoration-color: #008080; font-weight: bold\">5.0</span>.<span style=\"color: #008080; text-decoration-color: #008080; font-weight: bold\">0</span>\n",
       "charset_normalizer  <span style=\"color: #008080; text-decoration-color: #008080; font-weight: bold\">2.1</span>.<span style=\"color: #008080; text-decoration-color: #008080; font-weight: bold\">0</span>\n",
       "colorama            <span style=\"color: #008080; text-decoration-color: #008080; font-weight: bold\">0.4</span>.<span style=\"color: #008080; text-decoration-color: #008080; font-weight: bold\">5</span>\n",
       "cryptography        <span style=\"color: #008080; text-decoration-color: #008080; font-weight: bold\">37.0</span>.<span style=\"color: #008080; text-decoration-color: #008080; font-weight: bold\">4</span>\n",
       "cv2                 <span style=\"color: #008080; text-decoration-color: #008080; font-weight: bold\">4.6</span>.<span style=\"color: #008080; text-decoration-color: #008080; font-weight: bold\">0</span>\n",
       "cvxopt              <span style=\"color: #008080; text-decoration-color: #008080; font-weight: bold\">1.3</span>.<span style=\"color: #008080; text-decoration-color: #008080; font-weight: bold\">0</span>\n",
       "cycler              <span style=\"color: #008080; text-decoration-color: #008080; font-weight: bold\">0.10</span>.<span style=\"color: #008080; text-decoration-color: #008080; font-weight: bold\">0</span>\n",
       "cython_runtime      NA\n",
       "dateutil            <span style=\"color: #008080; text-decoration-color: #008080; font-weight: bold\">2.8</span>.<span style=\"color: #008080; text-decoration-color: #008080; font-weight: bold\">2</span>\n",
       "debugpy             <span style=\"color: #008080; text-decoration-color: #008080; font-weight: bold\">1.6</span>.<span style=\"color: #008080; text-decoration-color: #008080; font-weight: bold\">2</span>\n",
       "decorator           <span style=\"color: #008080; text-decoration-color: #008080; font-weight: bold\">5.1</span>.<span style=\"color: #008080; text-decoration-color: #008080; font-weight: bold\">1</span>\n",
       "deep_translator     <span style=\"color: #008080; text-decoration-color: #008080; font-weight: bold\">1.8</span>.<span style=\"color: #008080; text-decoration-color: #008080; font-weight: bold\">0</span>\n",
       "deepl               <span style=\"color: #008080; text-decoration-color: #008080; font-weight: bold\">1.9</span>.<span style=\"color: #008080; text-decoration-color: #008080; font-weight: bold\">0</span>\n",
       "defusedxml          <span style=\"color: #008080; text-decoration-color: #008080; font-weight: bold\">0.7</span>.<span style=\"color: #008080; text-decoration-color: #008080; font-weight: bold\">1</span>\n",
       "entrypoints         <span style=\"color: #008080; text-decoration-color: #008080; font-weight: bold\">0.4</span>\n",
       "executing           <span style=\"color: #008080; text-decoration-color: #008080; font-weight: bold\">0.8</span>.<span style=\"color: #008080; text-decoration-color: #008080; font-weight: bold\">3</span>\n",
       "formulaic           <span style=\"color: #008080; text-decoration-color: #008080; font-weight: bold\">0.3</span>.<span style=\"color: #008080; text-decoration-color: #008080; font-weight: bold\">4</span>\n",
       "future              <span style=\"color: #008080; text-decoration-color: #008080; font-weight: bold\">0.18</span>.<span style=\"color: #008080; text-decoration-color: #008080; font-weight: bold\">2</span>\n",
       "h5py                <span style=\"color: #008080; text-decoration-color: #008080; font-weight: bold\">3.7</span>.<span style=\"color: #008080; text-decoration-color: #008080; font-weight: bold\">0</span>\n",
       "idna                <span style=\"color: #008080; text-decoration-color: #008080; font-weight: bold\">3.3</span>\n",
       "igraph              <span style=\"color: #008080; text-decoration-color: #008080; font-weight: bold\">0.9</span>.<span style=\"color: #008080; text-decoration-color: #008080; font-weight: bold\">11</span>\n",
       "interface_meta      <span style=\"color: #008080; text-decoration-color: #008080; font-weight: bold\">1.3</span>.<span style=\"color: #008080; text-decoration-color: #008080; font-weight: bold\">0</span>\n",
       "ipykernel           <span style=\"color: #008080; text-decoration-color: #008080; font-weight: bold\">6.15</span>.<span style=\"color: #008080; text-decoration-color: #008080; font-weight: bold\">1</span>\n",
       "jedi                <span style=\"color: #008080; text-decoration-color: #008080; font-weight: bold\">0.18</span>.<span style=\"color: #008080; text-decoration-color: #008080; font-weight: bold\">1</span>\n",
       "joblib              <span style=\"color: #008080; text-decoration-color: #008080; font-weight: bold\">1.1</span>.<span style=\"color: #008080; text-decoration-color: #008080; font-weight: bold\">0</span>\n",
       "kiwisolver          <span style=\"color: #008080; text-decoration-color: #008080; font-weight: bold\">1.4</span>.<span style=\"color: #008080; text-decoration-color: #008080; font-weight: bold\">4</span>\n",
       "leidenalg           <span style=\"color: #008080; text-decoration-color: #008080; font-weight: bold\">0.8</span>.<span style=\"color: #008080; text-decoration-color: #008080; font-weight: bold\">10</span>\n",
       "lifelines           <span style=\"color: #008080; text-decoration-color: #008080; font-weight: bold\">0.27</span>.<span style=\"color: #008080; text-decoration-color: #008080; font-weight: bold\">1</span>\n",
       "llvmlite            <span style=\"color: #008080; text-decoration-color: #008080; font-weight: bold\">0.34</span>.<span style=\"color: #008080; text-decoration-color: #008080; font-weight: bold\">0</span>\n",
       "matplotlib          <span style=\"color: #008080; text-decoration-color: #008080; font-weight: bold\">3.5</span>.<span style=\"color: #008080; text-decoration-color: #008080; font-weight: bold\">2</span>\n",
       "mpl_toolkits        NA\n",
       "mudata              <span style=\"color: #008080; text-decoration-color: #008080; font-weight: bold\">0.2</span>.<span style=\"color: #008080; text-decoration-color: #008080; font-weight: bold\">0</span>\n",
       "natsort             <span style=\"color: #008080; text-decoration-color: #008080; font-weight: bold\">8.1</span>.<span style=\"color: #008080; text-decoration-color: #008080; font-weight: bold\">0</span>\n",
       "numba               <span style=\"color: #008080; text-decoration-color: #008080; font-weight: bold\">0.51</span>.<span style=\"color: #008080; text-decoration-color: #008080; font-weight: bold\">2</span>\n",
       "numpy               <span style=\"color: #008080; text-decoration-color: #008080; font-weight: bold\">1.23</span>.<span style=\"color: #008080; text-decoration-color: #008080; font-weight: bold\">1</span>\n",
       "packaging           <span style=\"color: #008080; text-decoration-color: #008080; font-weight: bold\">21.3</span>\n",
       "pandas              <span style=\"color: #008080; text-decoration-color: #008080; font-weight: bold\">1.4</span>.<span style=\"color: #008080; text-decoration-color: #008080; font-weight: bold\">2</span>\n",
       "parso               <span style=\"color: #008080; text-decoration-color: #008080; font-weight: bold\">0.8</span>.<span style=\"color: #008080; text-decoration-color: #008080; font-weight: bold\">3</span>\n",
       "patsy               <span style=\"color: #008080; text-decoration-color: #008080; font-weight: bold\">0.5</span>.<span style=\"color: #008080; text-decoration-color: #008080; font-weight: bold\">2</span>\n",
       "pdfminer            <span style=\"color: #008080; text-decoration-color: #008080; font-weight: bold\">20220524</span>\n",
       "pexpect             <span style=\"color: #008080; text-decoration-color: #008080; font-weight: bold\">4.8</span>.<span style=\"color: #008080; text-decoration-color: #008080; font-weight: bold\">0</span>\n",
       "pickleshare         <span style=\"color: #008080; text-decoration-color: #008080; font-weight: bold\">0.7</span>.<span style=\"color: #008080; text-decoration-color: #008080; font-weight: bold\">5</span>\n",
       "pkg_resources       NA\n",
       "prompt_toolkit      <span style=\"color: #008080; text-decoration-color: #008080; font-weight: bold\">3.0</span>.<span style=\"color: #008080; text-decoration-color: #008080; font-weight: bold\">30</span>\n",
       "psutil              <span style=\"color: #008080; text-decoration-color: #008080; font-weight: bold\">5.9</span>.<span style=\"color: #008080; text-decoration-color: #008080; font-weight: bold\">1</span>\n",
       "ptyprocess          <span style=\"color: #008080; text-decoration-color: #008080; font-weight: bold\">0.7</span>.<span style=\"color: #008080; text-decoration-color: #008080; font-weight: bold\">0</span>\n",
       "pure_eval           <span style=\"color: #008080; text-decoration-color: #008080; font-weight: bold\">0.2</span>.<span style=\"color: #008080; text-decoration-color: #008080; font-weight: bold\">2</span>\n",
       "pydantic            NA\n",
       "pydev_ipython       NA\n",
       "pydevconsole        NA\n",
       "pydevd              <span style=\"color: #008080; text-decoration-color: #008080; font-weight: bold\">2.8</span>.<span style=\"color: #008080; text-decoration-color: #008080; font-weight: bold\">0</span>\n",
       "pydevd_file_utils   NA\n",
       "pydevd_plugins      NA\n",
       "pydevd_tracing      NA\n",
       "pygments            <span style=\"color: #008080; text-decoration-color: #008080; font-weight: bold\">2.12</span>.<span style=\"color: #008080; text-decoration-color: #008080; font-weight: bold\">0</span>\n",
       "pyhpo               <span style=\"color: #008080; text-decoration-color: #008080; font-weight: bold\">3.1</span>.<span style=\"color: #008080; text-decoration-color: #008080; font-weight: bold\">2</span>\n",
       "pyparsing           <span style=\"color: #008080; text-decoration-color: #008080; font-weight: bold\">3.0</span>.<span style=\"color: #008080; text-decoration-color: #008080; font-weight: bold\">9</span>\n",
       "pypi_latest         <span style=\"color: #008080; text-decoration-color: #008080; font-weight: bold\">0.1</span>.<span style=\"color: #008080; text-decoration-color: #008080; font-weight: bold\">2</span>\n",
       "pytz                <span style=\"color: #008080; text-decoration-color: #008080; font-weight: bold\">2022.1</span>\n",
       "questionary         <span style=\"color: #008080; text-decoration-color: #008080; font-weight: bold\">1.10</span>.<span style=\"color: #008080; text-decoration-color: #008080; font-weight: bold\">0</span>\n",
       "requests            <span style=\"color: #008080; text-decoration-color: #008080; font-weight: bold\">2.28</span>.<span style=\"color: #008080; text-decoration-color: #008080; font-weight: bold\">1</span>\n",
       "ruamel              NA\n",
       "scipy               <span style=\"color: #008080; text-decoration-color: #008080; font-weight: bold\">1.6</span>.<span style=\"color: #008080; text-decoration-color: #008080; font-weight: bold\">1</span>\n",
       "setuptools          <span style=\"color: #008080; text-decoration-color: #008080; font-weight: bold\">63.1</span>.<span style=\"color: #008080; text-decoration-color: #008080; font-weight: bold\">0</span>\n",
       "setuptools_scm      NA\n",
       "six                 <span style=\"color: #008080; text-decoration-color: #008080; font-weight: bold\">1.16</span>.<span style=\"color: #008080; text-decoration-color: #008080; font-weight: bold\">0</span>\n",
       "sklearn             <span style=\"color: #008080; text-decoration-color: #008080; font-weight: bold\">1.1</span>.<span style=\"color: #008080; text-decoration-color: #008080; font-weight: bold\">1</span>\n",
       "soupsieve           <span style=\"color: #008080; text-decoration-color: #008080; font-weight: bold\">2.3</span>.<span style=\"color: #008080; text-decoration-color: #008080; font-weight: bold\">2.</span>post1\n",
       "sphinxcontrib       NA\n",
       "stack_data          <span style=\"color: #008080; text-decoration-color: #008080; font-weight: bold\">0.3</span>.<span style=\"color: #008080; text-decoration-color: #008080; font-weight: bold\">0</span>\n",
       "statsmodels         <span style=\"color: #008080; text-decoration-color: #008080; font-weight: bold\">0.13</span>.<span style=\"color: #008080; text-decoration-color: #008080; font-weight: bold\">2</span>\n",
       "tabulate            <span style=\"color: #008080; text-decoration-color: #008080; font-weight: bold\">0.8</span>.<span style=\"color: #008080; text-decoration-color: #008080; font-weight: bold\">10</span>\n",
       "texttable           <span style=\"color: #008080; text-decoration-color: #008080; font-weight: bold\">1.6</span>.<span style=\"color: #008080; text-decoration-color: #008080; font-weight: bold\">4</span>\n",
       "threadpoolctl       <span style=\"color: #008080; text-decoration-color: #008080; font-weight: bold\">3.1</span>.<span style=\"color: #008080; text-decoration-color: #008080; font-weight: bold\">0</span>\n",
       "tornado             <span style=\"color: #008080; text-decoration-color: #008080; font-weight: bold\">6.2</span>\n",
       "traitlets           <span style=\"color: #008080; text-decoration-color: #008080; font-weight: bold\">5.3</span>.<span style=\"color: #008080; text-decoration-color: #008080; font-weight: bold\">0</span>\n",
       "typing_extensions   NA\n",
       "urllib3             <span style=\"color: #008080; text-decoration-color: #008080; font-weight: bold\">1.26</span>.<span style=\"color: #008080; text-decoration-color: #008080; font-weight: bold\">10</span>\n",
       "wcwidth             <span style=\"color: #008080; text-decoration-color: #008080; font-weight: bold\">0.2</span>.<span style=\"color: #008080; text-decoration-color: #008080; font-weight: bold\">5</span>\n",
       "wrapt               <span style=\"color: #008080; text-decoration-color: #008080; font-weight: bold\">1.14</span>.<span style=\"color: #008080; text-decoration-color: #008080; font-weight: bold\">1</span>\n",
       "yaml                <span style=\"color: #008080; text-decoration-color: #008080; font-weight: bold\">6.0</span>\n",
       "zipp                NA\n",
       "zmq                 <span style=\"color: #008080; text-decoration-color: #008080; font-weight: bold\">23.2</span>.<span style=\"color: #008080; text-decoration-color: #008080; font-weight: bold\">0</span>\n",
       "-----\n",
       "IPython             <span style=\"color: #008080; text-decoration-color: #008080; font-weight: bold\">8.4</span>.<span style=\"color: #008080; text-decoration-color: #008080; font-weight: bold\">0</span>\n",
       "jupyter_client      <span style=\"color: #008080; text-decoration-color: #008080; font-weight: bold\">7.3</span>.<span style=\"color: #008080; text-decoration-color: #008080; font-weight: bold\">4</span>\n",
       "jupyter_core        <span style=\"color: #008080; text-decoration-color: #008080; font-weight: bold\">4.11</span>.<span style=\"color: #008080; text-decoration-color: #008080; font-weight: bold\">1</span>\n",
       "-----\n",
       "Python <span style=\"color: #008080; text-decoration-color: #008080; font-weight: bold\">3.8</span>.<span style=\"color: #008080; text-decoration-color: #008080; font-weight: bold\">2</span> <span style=\"font-weight: bold\">(</span>default, Apr  <span style=\"color: #008080; text-decoration-color: #008080; font-weight: bold\">8</span> <span style=\"color: #008080; text-decoration-color: #008080; font-weight: bold\">2021</span>, <span style=\"color: #00ff00; text-decoration-color: #00ff00; font-weight: bold\">23:19:18</span><span style=\"font-weight: bold\">)</span> <span style=\"font-weight: bold\">[</span>Clang <span style=\"color: #008080; text-decoration-color: #008080; font-weight: bold\">12.0</span>.<span style=\"color: #008080; text-decoration-color: #008080; font-weight: bold\">5</span> <span style=\"font-weight: bold\">(</span>clang-<span style=\"color: #008080; text-decoration-color: #008080; font-weight: bold\">1205.0</span>.<span style=\"color: #008080; text-decoration-color: #008080; font-weight: bold\">22.9</span><span style=\"font-weight: bold\">)]</span>\n",
       "macOS-<span style=\"color: #008080; text-decoration-color: #008080; font-weight: bold\">12.5</span>-x86_64-i386-64bit\n",
       "-----\n",
       "Session information updated at <span style=\"color: #008080; text-decoration-color: #008080; font-weight: bold\">2022</span>-<span style=\"color: #008080; text-decoration-color: #008080; font-weight: bold\">08</span>-<span style=\"color: #008080; text-decoration-color: #008080; font-weight: bold\">09</span> <span style=\"color: #00ff00; text-decoration-color: #00ff00; font-weight: bold\">12:04</span>\n",
       "\n",
       "</pre>\n"
      ],
      "text/plain": [
       "-----\n",
       "ehrapy              \u001b[1;36m0.3\u001b[0m.\u001b[1;36m0\u001b[0m\n",
       "rich                NA\n",
       "scanpy              \u001b[1;36m1.9\u001b[0m.\u001b[1;36m1\u001b[0m\n",
       "session_info        \u001b[1;36m1.0\u001b[0m.\u001b[1;36m0\u001b[0m\n",
       "-----\n",
       "PIL                 \u001b[1;36m9.2\u001b[0m.\u001b[1;36m0\u001b[0m\n",
       "PyPDF2              \u001b[1;36m2.6\u001b[0m.\u001b[1;36m0\u001b[0m\n",
       "anndata             \u001b[1;36m0.8\u001b[0m.\u001b[1;36m0\u001b[0m\n",
       "appnope             \u001b[1;36m0.1\u001b[0m.\u001b[1;36m3\u001b[0m\n",
       "astor               \u001b[1;36m0.8\u001b[0m.\u001b[1;36m1\u001b[0m\n",
       "asttokens           NA\n",
       "attr                \u001b[1;36m21.4\u001b[0m.\u001b[1;36m0\u001b[0m\n",
       "autograd            NA\n",
       "autograd_gamma      NA\n",
       "backcall            \u001b[1;36m0.2\u001b[0m.\u001b[1;36m0\u001b[0m\n",
       "backports           NA\n",
       "bs4                 \u001b[1;36m4.11\u001b[0m.\u001b[1;36m1\u001b[0m\n",
       "camelot             \u001b[1;36m0.10\u001b[0m.\u001b[1;36m1\u001b[0m\n",
       "category_encoders   \u001b[1;36m2.5\u001b[0m.\u001b[1;36m0\u001b[0m\n",
       "certifi             \u001b[1;36m2022.06\u001b[0m.\u001b[1;36m15\u001b[0m\n",
       "cffi                \u001b[1;36m1.15\u001b[0m.\u001b[1;36m1\u001b[0m\n",
       "chardet             \u001b[1;36m5.0\u001b[0m.\u001b[1;36m0\u001b[0m\n",
       "charset_normalizer  \u001b[1;36m2.1\u001b[0m.\u001b[1;36m0\u001b[0m\n",
       "colorama            \u001b[1;36m0.4\u001b[0m.\u001b[1;36m5\u001b[0m\n",
       "cryptography        \u001b[1;36m37.0\u001b[0m.\u001b[1;36m4\u001b[0m\n",
       "cv2                 \u001b[1;36m4.6\u001b[0m.\u001b[1;36m0\u001b[0m\n",
       "cvxopt              \u001b[1;36m1.3\u001b[0m.\u001b[1;36m0\u001b[0m\n",
       "cycler              \u001b[1;36m0.10\u001b[0m.\u001b[1;36m0\u001b[0m\n",
       "cython_runtime      NA\n",
       "dateutil            \u001b[1;36m2.8\u001b[0m.\u001b[1;36m2\u001b[0m\n",
       "debugpy             \u001b[1;36m1.6\u001b[0m.\u001b[1;36m2\u001b[0m\n",
       "decorator           \u001b[1;36m5.1\u001b[0m.\u001b[1;36m1\u001b[0m\n",
       "deep_translator     \u001b[1;36m1.8\u001b[0m.\u001b[1;36m0\u001b[0m\n",
       "deepl               \u001b[1;36m1.9\u001b[0m.\u001b[1;36m0\u001b[0m\n",
       "defusedxml          \u001b[1;36m0.7\u001b[0m.\u001b[1;36m1\u001b[0m\n",
       "entrypoints         \u001b[1;36m0.4\u001b[0m\n",
       "executing           \u001b[1;36m0.8\u001b[0m.\u001b[1;36m3\u001b[0m\n",
       "formulaic           \u001b[1;36m0.3\u001b[0m.\u001b[1;36m4\u001b[0m\n",
       "future              \u001b[1;36m0.18\u001b[0m.\u001b[1;36m2\u001b[0m\n",
       "h5py                \u001b[1;36m3.7\u001b[0m.\u001b[1;36m0\u001b[0m\n",
       "idna                \u001b[1;36m3.3\u001b[0m\n",
       "igraph              \u001b[1;36m0.9\u001b[0m.\u001b[1;36m11\u001b[0m\n",
       "interface_meta      \u001b[1;36m1.3\u001b[0m.\u001b[1;36m0\u001b[0m\n",
       "ipykernel           \u001b[1;36m6.15\u001b[0m.\u001b[1;36m1\u001b[0m\n",
       "jedi                \u001b[1;36m0.18\u001b[0m.\u001b[1;36m1\u001b[0m\n",
       "joblib              \u001b[1;36m1.1\u001b[0m.\u001b[1;36m0\u001b[0m\n",
       "kiwisolver          \u001b[1;36m1.4\u001b[0m.\u001b[1;36m4\u001b[0m\n",
       "leidenalg           \u001b[1;36m0.8\u001b[0m.\u001b[1;36m10\u001b[0m\n",
       "lifelines           \u001b[1;36m0.27\u001b[0m.\u001b[1;36m1\u001b[0m\n",
       "llvmlite            \u001b[1;36m0.34\u001b[0m.\u001b[1;36m0\u001b[0m\n",
       "matplotlib          \u001b[1;36m3.5\u001b[0m.\u001b[1;36m2\u001b[0m\n",
       "mpl_toolkits        NA\n",
       "mudata              \u001b[1;36m0.2\u001b[0m.\u001b[1;36m0\u001b[0m\n",
       "natsort             \u001b[1;36m8.1\u001b[0m.\u001b[1;36m0\u001b[0m\n",
       "numba               \u001b[1;36m0.51\u001b[0m.\u001b[1;36m2\u001b[0m\n",
       "numpy               \u001b[1;36m1.23\u001b[0m.\u001b[1;36m1\u001b[0m\n",
       "packaging           \u001b[1;36m21.3\u001b[0m\n",
       "pandas              \u001b[1;36m1.4\u001b[0m.\u001b[1;36m2\u001b[0m\n",
       "parso               \u001b[1;36m0.8\u001b[0m.\u001b[1;36m3\u001b[0m\n",
       "patsy               \u001b[1;36m0.5\u001b[0m.\u001b[1;36m2\u001b[0m\n",
       "pdfminer            \u001b[1;36m20220524\u001b[0m\n",
       "pexpect             \u001b[1;36m4.8\u001b[0m.\u001b[1;36m0\u001b[0m\n",
       "pickleshare         \u001b[1;36m0.7\u001b[0m.\u001b[1;36m5\u001b[0m\n",
       "pkg_resources       NA\n",
       "prompt_toolkit      \u001b[1;36m3.0\u001b[0m.\u001b[1;36m30\u001b[0m\n",
       "psutil              \u001b[1;36m5.9\u001b[0m.\u001b[1;36m1\u001b[0m\n",
       "ptyprocess          \u001b[1;36m0.7\u001b[0m.\u001b[1;36m0\u001b[0m\n",
       "pure_eval           \u001b[1;36m0.2\u001b[0m.\u001b[1;36m2\u001b[0m\n",
       "pydantic            NA\n",
       "pydev_ipython       NA\n",
       "pydevconsole        NA\n",
       "pydevd              \u001b[1;36m2.8\u001b[0m.\u001b[1;36m0\u001b[0m\n",
       "pydevd_file_utils   NA\n",
       "pydevd_plugins      NA\n",
       "pydevd_tracing      NA\n",
       "pygments            \u001b[1;36m2.12\u001b[0m.\u001b[1;36m0\u001b[0m\n",
       "pyhpo               \u001b[1;36m3.1\u001b[0m.\u001b[1;36m2\u001b[0m\n",
       "pyparsing           \u001b[1;36m3.0\u001b[0m.\u001b[1;36m9\u001b[0m\n",
       "pypi_latest         \u001b[1;36m0.1\u001b[0m.\u001b[1;36m2\u001b[0m\n",
       "pytz                \u001b[1;36m2022.1\u001b[0m\n",
       "questionary         \u001b[1;36m1.10\u001b[0m.\u001b[1;36m0\u001b[0m\n",
       "requests            \u001b[1;36m2.28\u001b[0m.\u001b[1;36m1\u001b[0m\n",
       "ruamel              NA\n",
       "scipy               \u001b[1;36m1.6\u001b[0m.\u001b[1;36m1\u001b[0m\n",
       "setuptools          \u001b[1;36m63.1\u001b[0m.\u001b[1;36m0\u001b[0m\n",
       "setuptools_scm      NA\n",
       "six                 \u001b[1;36m1.16\u001b[0m.\u001b[1;36m0\u001b[0m\n",
       "sklearn             \u001b[1;36m1.1\u001b[0m.\u001b[1;36m1\u001b[0m\n",
       "soupsieve           \u001b[1;36m2.3\u001b[0m.\u001b[1;36m2.\u001b[0mpost1\n",
       "sphinxcontrib       NA\n",
       "stack_data          \u001b[1;36m0.3\u001b[0m.\u001b[1;36m0\u001b[0m\n",
       "statsmodels         \u001b[1;36m0.13\u001b[0m.\u001b[1;36m2\u001b[0m\n",
       "tabulate            \u001b[1;36m0.8\u001b[0m.\u001b[1;36m10\u001b[0m\n",
       "texttable           \u001b[1;36m1.6\u001b[0m.\u001b[1;36m4\u001b[0m\n",
       "threadpoolctl       \u001b[1;36m3.1\u001b[0m.\u001b[1;36m0\u001b[0m\n",
       "tornado             \u001b[1;36m6.2\u001b[0m\n",
       "traitlets           \u001b[1;36m5.3\u001b[0m.\u001b[1;36m0\u001b[0m\n",
       "typing_extensions   NA\n",
       "urllib3             \u001b[1;36m1.26\u001b[0m.\u001b[1;36m10\u001b[0m\n",
       "wcwidth             \u001b[1;36m0.2\u001b[0m.\u001b[1;36m5\u001b[0m\n",
       "wrapt               \u001b[1;36m1.14\u001b[0m.\u001b[1;36m1\u001b[0m\n",
       "yaml                \u001b[1;36m6.0\u001b[0m\n",
       "zipp                NA\n",
       "zmq                 \u001b[1;36m23.2\u001b[0m.\u001b[1;36m0\u001b[0m\n",
       "-----\n",
       "IPython             \u001b[1;36m8.4\u001b[0m.\u001b[1;36m0\u001b[0m\n",
       "jupyter_client      \u001b[1;36m7.3\u001b[0m.\u001b[1;36m4\u001b[0m\n",
       "jupyter_core        \u001b[1;36m4.11\u001b[0m.\u001b[1;36m1\u001b[0m\n",
       "-----\n",
       "Python \u001b[1;36m3.8\u001b[0m.\u001b[1;36m2\u001b[0m \u001b[1m(\u001b[0mdefault, Apr  \u001b[1;36m8\u001b[0m \u001b[1;36m2021\u001b[0m, \u001b[1;92m23:19:18\u001b[0m\u001b[1m)\u001b[0m \u001b[1m[\u001b[0mClang \u001b[1;36m12.0\u001b[0m.\u001b[1;36m5\u001b[0m \u001b[1m(\u001b[0mclang-\u001b[1;36m1205.0\u001b[0m.\u001b[1;36m22.9\u001b[0m\u001b[1m)\u001b[0m\u001b[1m]\u001b[0m\n",
       "macOS-\u001b[1;36m12.5\u001b[0m-x86_64-i386-64bit\n",
       "-----\n",
       "Session information updated at \u001b[1;36m2022\u001b[0m-\u001b[1;36m08\u001b[0m-\u001b[1;36m09\u001b[0m \u001b[1;92m12:04\u001b[0m\n",
       "\n"
      ]
     },
     "metadata": {},
     "output_type": "display_data"
    }
   ],
   "source": [
    "ep.print_versions()"
   ]
  },
  {
   "cell_type": "markdown",
   "id": "7d01b06d-cd7a-4caf-8a41-e9ee2202e897",
   "metadata": {},
   "source": [
    "## MIMIC-II dataset preparation"
   ]
  },
  {
   "cell_type": "code",
   "execution_count": 4,
   "id": "95a30585-8194-4dc6-986d-e27c21a124c3",
   "metadata": {
    "tags": []
   },
   "outputs": [],
   "source": [
    "adata = ep.dt.mimic_2(encoded=False)"
   ]
  },
  {
   "cell_type": "markdown",
   "id": "4b8c9f2c-817b-4366-8764-2ae64785b2dd",
   "metadata": {},
   "source": [
    "It is also possible to get the MIMIC-II dataset already pre-encoded by setting the encoded flag to 'True'. ehrapy's default encoding is a simple label encoding in this case."
   ]
  },
  {
   "cell_type": "markdown",
   "id": "2cd9592a-ef02-47d7-8576-e73aac96b8ae",
   "metadata": {},
   "source": [
    "The MIMIC-II dataset has 1776 patients as described above with 46 features."
   ]
  },
  {
   "cell_type": "code",
   "execution_count": 5,
   "id": "29f0bda7-471c-4387-b259-7bb1535093a2",
   "metadata": {},
   "outputs": [
    {
     "data": {
      "text/plain": [
       "AnnData object with n_obs × n_vars = 1776 × 46\n",
       "    uns: 'numerical_columns', 'non_numerical_columns'\n",
       "    layers: 'original'"
      ]
     },
     "execution_count": 5,
     "metadata": {},
     "output_type": "execute_result"
    }
   ],
   "source": [
    "adata"
   ]
  },
  {
   "cell_type": "markdown",
   "id": "21ffeab3-d1e6-4c91-a6c3-b6d641a9f4af",
   "metadata": {},
   "source": [
    "After one-hot encoding the two columns we've expanded our matrix from 46 to 54 features.\n",
    "Let's verify that we've indeed encoded all columns and are ready to proceed."
   ]
  },
  {
   "cell_type": "markdown",
   "id": "9df205a5",
   "metadata": {},
   "source": [
    "## Linear Regression"
   ]
  },
  {
   "cell_type": "markdown",
   "id": "c54d865e",
   "metadata": {},
   "source": [
    "### Introduction"
   ]
  },
  {
   "cell_type": "markdown",
   "id": "04daa32c",
   "metadata": {},
   "source": [
    "Linear regression provides the foundation for many types of analyses we perform on health data.  In the simplest scenario, we try to relate one continuous outcome, $y$, to a single continuous covariate, $x$, by trying to find values for $\\beta_0$ and $\\beta_1$ so that the following equation describes our observations:\n",
    "$y=\\beta_0 + \\beta_1 \\times x$"
   ]
  },
  {
   "cell_type": "markdown",
   "id": "86ec200c",
   "metadata": {},
   "source": [
    "It is always a good idea to visualize the data when you can, which allows one to assess if the subsequent analysis corresponds to what you could see with your eyes.  In this case, a scatter plot has been used, producing the scattered points:"
   ]
  },
  {
   "cell_type": "code",
   "execution_count": 6,
   "id": "ed85cc55",
   "metadata": {},
   "outputs": [
    {
     "data": {
      "image/png": "[encoded data removed]",
      "text/plain": [
       "<Figure size 524.678x345.6 with 1 Axes>"
      ]
     },
     "metadata": {
      "needs_background": "light"
     },
     "output_type": "display_data"
    }
   ],
   "source": [
    "ax = ep.pl.scatter(adata, x=\"pco2_first\", y=\"tco2_first\")"
   ]
  },
  {
   "cell_type": "markdown",
   "id": "2966db28",
   "metadata": {},
   "source": [
    "Finding the best fit line for the scatter plot above using `ep.tl.ols (ehrapy.tools.ols)` is relatively straightforward:"
   ]
  },
  {
   "cell_type": "code",
   "execution_count": 7,
   "id": "1b0b2d2e",
   "metadata": {},
   "outputs": [],
   "source": [
    "var_names = [\"pco2_first\", \"tco2_first\", \"gender_num\"]\n",
    "formula = \"tco2_first ~ pco2_first\"\n",
    "co2_lm = ep.tl.ols(adata, var_names, formula, missing=\"drop\")"
   ]
  },
  {
   "cell_type": "markdown",
   "id": "c8697fa9",
   "metadata": {},
   "source": [
    "Dissecting this command from left to right: The `co2_lm =` part assigns the right part of the command to a new variable called `co2_lm`.  The right side of this command runs the `OLS` function in `Python`. The basic `OLS` command has two parts.  The first is the formula which has the general syntax `outcome ~ covariates`.  Here, our outcome variable is called `tco2_first` and we are just fitting one covariate, `pco2_first`, so our formula is `tco2_first ~ pco2_first`.  The second argument is separated by a comma and is specifying the data frame to use.  In our case, the data frame is called `dat`, so we pass `data=dat`, noting that both `tco2_first` and `pco2_first` are columns in the dataframe `dat`. The overall procedure of specifying a model formula (`tco2_first ~ pco2_first`), a data frame (`data=dat`) and passing it an appropriate `Python` function (`OLS`) will be used throughout this chapter, and is the foundation for many types of statistical modeling in `Python`.\n",
    "\n",
    "We would like to see some information about the model we just fit, and often a good way of doing this is to run the `summary` command on the object we created:"
   ]
  },
  {
   "cell_type": "code",
   "execution_count": 8,
   "id": "0bcd26ef",
   "metadata": {},
   "outputs": [
    {
     "data": {
      "text/html": [
       "<table class=\"simpletable\">\n",
       "<caption>OLS Regression Results</caption>\n",
       "<tr>\n",
       "  <th>Dep. Variable:</th>       <td>tco2_first</td>    <th>  R-squared:         </th> <td>   0.265</td> \n",
       "</tr>\n",
       "<tr>\n",
       "  <th>Model:</th>                   <td>OLS</td>       <th>  Adj. R-squared:    </th> <td>   0.264</td> \n",
       "</tr>\n",
       "<tr>\n",
       "  <th>Method:</th>             <td>Least Squares</td>  <th>  F-statistic:       </th> <td>   571.8</td> \n",
       "</tr>\n",
       "<tr>\n",
       "  <th>Date:</th>             <td>Tue, 09 Aug 2022</td> <th>  Prob (F-statistic):</th> <td>3.52e-108</td>\n",
       "</tr>\n",
       "<tr>\n",
       "  <th>Time:</th>                 <td>12:04:16</td>     <th>  Log-Likelihood:    </th> <td> -4609.1</td> \n",
       "</tr>\n",
       "<tr>\n",
       "  <th>No. Observations:</th>      <td>  1590</td>      <th>  AIC:               </th> <td>   9222.</td> \n",
       "</tr>\n",
       "<tr>\n",
       "  <th>Df Residuals:</th>          <td>  1588</td>      <th>  BIC:               </th> <td>   9233.</td> \n",
       "</tr>\n",
       "<tr>\n",
       "  <th>Df Model:</th>              <td>     1</td>      <th>                     </th>     <td> </td>    \n",
       "</tr>\n",
       "<tr>\n",
       "  <th>Covariance Type:</th>      <td>nonrobust</td>    <th>                     </th>     <td> </td>    \n",
       "</tr>\n",
       "</table>\n",
       "<table class=\"simpletable\">\n",
       "<tr>\n",
       "       <td></td>         <th>coef</th>     <th>std err</th>      <th>t</th>      <th>P>|t|</th>  <th>[0.025</th>    <th>0.975]</th>  \n",
       "</tr>\n",
       "<tr>\n",
       "  <th>Intercept</th>  <td>   16.2109</td> <td>    0.360</td> <td>   45.071</td> <td> 0.000</td> <td>   15.505</td> <td>   16.916</td>\n",
       "</tr>\n",
       "<tr>\n",
       "  <th>pco2_first</th> <td>    0.1886</td> <td>    0.008</td> <td>   23.912</td> <td> 0.000</td> <td>    0.173</td> <td>    0.204</td>\n",
       "</tr>\n",
       "</table>\n",
       "<table class=\"simpletable\">\n",
       "<tr>\n",
       "  <th>Omnibus:</th>       <td>94.233</td> <th>  Durbin-Watson:     </th> <td>   1.963</td>\n",
       "</tr>\n",
       "<tr>\n",
       "  <th>Prob(Omnibus):</th> <td> 0.000</td> <th>  Jarque-Bera (JB):  </th> <td> 195.722</td>\n",
       "</tr>\n",
       "<tr>\n",
       "  <th>Skew:</th>          <td>-0.389</td> <th>  Prob(JB):          </th> <td>3.16e-43</td>\n",
       "</tr>\n",
       "<tr>\n",
       "  <th>Kurtosis:</th>      <td> 4.532</td> <th>  Cond. No.          </th> <td>    149.</td>\n",
       "</tr>\n",
       "</table><br/><br/>Notes:<br/>[1] Standard Errors assume that the covariance matrix of the errors is correctly specified."
      ],
      "text/plain": [
       "<class 'statsmodels.iolib.summary.Summary'>\n",
       "\"\"\"\n",
       "                            OLS Regression Results                            \n",
       "==============================================================================\n",
       "Dep. Variable:             tco2_first   R-squared:                       0.265\n",
       "Model:                            OLS   Adj. R-squared:                  0.264\n",
       "Method:                 Least Squares   F-statistic:                     571.8\n",
       "Date:                Tue, 09 Aug 2022   Prob (F-statistic):          3.52e-108\n",
       "Time:                        12:04:16   Log-Likelihood:                -4609.1\n",
       "No. Observations:                1590   AIC:                             9222.\n",
       "Df Residuals:                    1588   BIC:                             9233.\n",
       "Df Model:                           1                                         \n",
       "Covariance Type:            nonrobust                                         \n",
       "==============================================================================\n",
       "                 coef    std err          t      P>|t|      [0.025      0.975]\n",
       "------------------------------------------------------------------------------\n",
       "Intercept     16.2109      0.360     45.071      0.000      15.505      16.916\n",
       "pco2_first     0.1886      0.008     23.912      0.000       0.173       0.204\n",
       "==============================================================================\n",
       "Omnibus:                       94.233   Durbin-Watson:                   1.963\n",
       "Prob(Omnibus):                  0.000   Jarque-Bera (JB):              195.722\n",
       "Skew:                          -0.389   Prob(JB):                     3.16e-43\n",
       "Kurtosis:                       4.532   Cond. No.                         149.\n",
       "==============================================================================\n",
       "\n",
       "Notes:\n",
       "[1] Standard Errors assume that the covariance matrix of the errors is correctly specified.\n",
       "\"\"\""
      ]
     },
     "execution_count": 8,
     "metadata": {},
     "output_type": "execute_result"
    }
   ],
   "source": [
    "co2_lm_result = co2_lm.fit()\n",
    "co2_lm_result.summary()"
   ]
  },
  {
   "cell_type": "markdown",
   "id": "f724fd7c",
   "metadata": {},
   "source": [
    "This outputs information about the `OLS` object we created in the previous step.  The first part recalls the model we fit, which is useful when we have fit many models, and are trying to compare them.  The second part lists some summary information about what are called residuals -- a topic we will cover later on in this book (Chapter 2.6).  Next lists the coefficient estimates -- these are the $\\hat{\\beta}_0$, `(Intercept)`, and $\\hat{\\beta}_1$, `pco2_first`, parameters in the best fit line we are trying to estimate.  This output is telling us that the best fit equation for the data is:\n",
    "\n",
    "`tco2_first` = 16.21 + 0.189 $\\times$ `pco2_first`."
   ]
  },
  {
   "cell_type": "markdown",
   "id": "04927b2d",
   "metadata": {},
   "source": [
    "### Model Selection"
   ]
  },
  {
   "cell_type": "markdown",
   "id": "eed7bbaa",
   "metadata": {},
   "source": [
    "Model selection is the procedure to select the best model from a list (perhaps rather large list) of candidate models. Different approaches and techniques exist for this procedure.  We will cover some basics here, as more complicated techniques will be covered in a later chapter.  In the simplest case, we have two models, and we want to know which one we should use.\n",
    "\n",
    "We will begin by examining if the relationship between TCO2 and PCO2 is more complicated than the model we fit in the previous section.  If you recall, we fit a model where we considered a linear `pco2_first` term: `tco2_first` = $\\beta_0 + \\beta_1 \\times$ `pco2_first`.  One may wonder if including a quadratic term would fit the data better, i.e. whether:\n",
    "\n",
    "`tco2_first` = $\\beta_0 + \\beta_1 \\times$ `pco2_first` + $\\beta_2 \\times$ `pco2_first`$^2$,\n",
    "\n",
    "is a better model."
   ]
  },
  {
   "cell_type": "markdown",
   "id": "408a42c0",
   "metadata": {},
   "source": [
    "Adding a quadratic term (or any other function) is quite easy using the `OLS` function. Fitting this model, and running the `summary` function for the model:"
   ]
  },
  {
   "cell_type": "code",
   "execution_count": 9,
   "id": "ea0bf4f2",
   "metadata": {},
   "outputs": [
    {
     "data": {
      "text/html": [
       "<table class=\"simpletable\">\n",
       "<caption>OLS Regression Results</caption>\n",
       "<tr>\n",
       "  <th>Dep. Variable:</th>       <td>tco2_first</td>    <th>  R-squared:         </th> <td>   0.265</td> \n",
       "</tr>\n",
       "<tr>\n",
       "  <th>Model:</th>                   <td>OLS</td>       <th>  Adj. R-squared:    </th> <td>   0.264</td> \n",
       "</tr>\n",
       "<tr>\n",
       "  <th>Method:</th>             <td>Least Squares</td>  <th>  F-statistic:       </th> <td>   285.7</td> \n",
       "</tr>\n",
       "<tr>\n",
       "  <th>Date:</th>             <td>Tue, 09 Aug 2022</td> <th>  Prob (F-statistic):</th> <td>1.04e-106</td>\n",
       "</tr>\n",
       "<tr>\n",
       "  <th>Time:</th>                 <td>12:04:16</td>     <th>  Log-Likelihood:    </th> <td> -4609.1</td> \n",
       "</tr>\n",
       "<tr>\n",
       "  <th>No. Observations:</th>      <td>  1590</td>      <th>  AIC:               </th> <td>   9224.</td> \n",
       "</tr>\n",
       "<tr>\n",
       "  <th>Df Residuals:</th>          <td>  1587</td>      <th>  BIC:               </th> <td>   9240.</td> \n",
       "</tr>\n",
       "<tr>\n",
       "  <th>Df Model:</th>              <td>     2</td>      <th>                     </th>     <td> </td>    \n",
       "</tr>\n",
       "<tr>\n",
       "  <th>Covariance Type:</th>      <td>nonrobust</td>    <th>                     </th>     <td> </td>    \n",
       "</tr>\n",
       "</table>\n",
       "<table class=\"simpletable\">\n",
       "<tr>\n",
       "            <td></td>               <th>coef</th>     <th>std err</th>      <th>t</th>      <th>P>|t|</th>  <th>[0.025</th>    <th>0.975]</th>  \n",
       "</tr>\n",
       "<tr>\n",
       "  <th>Intercept</th>             <td>   16.0916</td> <td>    0.771</td> <td>   20.862</td> <td> 0.000</td> <td>   14.579</td> <td>   17.605</td>\n",
       "</tr>\n",
       "<tr>\n",
       "  <th>pco2_first</th>            <td>    0.1930</td> <td>    0.027</td> <td>    7.231</td> <td> 0.000</td> <td>    0.141</td> <td>    0.245</td>\n",
       "</tr>\n",
       "<tr>\n",
       "  <th>np.square(pco2_first)</th> <td>-3.569e-05</td> <td>    0.000</td> <td>   -0.175</td> <td> 0.861</td> <td>   -0.000</td> <td>    0.000</td>\n",
       "</tr>\n",
       "</table>\n",
       "<table class=\"simpletable\">\n",
       "<tr>\n",
       "  <th>Omnibus:</th>       <td>93.522</td> <th>  Durbin-Watson:     </th> <td>   1.963</td>\n",
       "</tr>\n",
       "<tr>\n",
       "  <th>Prob(Omnibus):</th> <td> 0.000</td> <th>  Jarque-Bera (JB):  </th> <td> 194.937</td>\n",
       "</tr>\n",
       "<tr>\n",
       "  <th>Skew:</th>          <td>-0.385</td> <th>  Prob(JB):          </th> <td>4.68e-43</td>\n",
       "</tr>\n",
       "<tr>\n",
       "  <th>Kurtosis:</th>      <td> 4.533</td> <th>  Cond. No.          </th> <td>1.94e+04</td>\n",
       "</tr>\n",
       "</table><br/><br/>Notes:<br/>[1] Standard Errors assume that the covariance matrix of the errors is correctly specified.<br/>[2] The condition number is large, 1.94e+04. This might indicate that there are<br/>strong multicollinearity or other numerical problems."
      ],
      "text/plain": [
       "<class 'statsmodels.iolib.summary.Summary'>\n",
       "\"\"\"\n",
       "                            OLS Regression Results                            \n",
       "==============================================================================\n",
       "Dep. Variable:             tco2_first   R-squared:                       0.265\n",
       "Model:                            OLS   Adj. R-squared:                  0.264\n",
       "Method:                 Least Squares   F-statistic:                     285.7\n",
       "Date:                Tue, 09 Aug 2022   Prob (F-statistic):          1.04e-106\n",
       "Time:                        12:04:16   Log-Likelihood:                -4609.1\n",
       "No. Observations:                1590   AIC:                             9224.\n",
       "Df Residuals:                    1587   BIC:                             9240.\n",
       "Df Model:                           2                                         \n",
       "Covariance Type:            nonrobust                                         \n",
       "=========================================================================================\n",
       "                            coef    std err          t      P>|t|      [0.025      0.975]\n",
       "-----------------------------------------------------------------------------------------\n",
       "Intercept                16.0916      0.771     20.862      0.000      14.579      17.605\n",
       "pco2_first                0.1930      0.027      7.231      0.000       0.141       0.245\n",
       "np.square(pco2_first) -3.569e-05      0.000     -0.175      0.861      -0.000       0.000\n",
       "==============================================================================\n",
       "Omnibus:                       93.522   Durbin-Watson:                   1.963\n",
       "Prob(Omnibus):                  0.000   Jarque-Bera (JB):              194.937\n",
       "Skew:                          -0.385   Prob(JB):                     4.68e-43\n",
       "Kurtosis:                       4.533   Cond. No.                     1.94e+04\n",
       "==============================================================================\n",
       "\n",
       "Notes:\n",
       "[1] Standard Errors assume that the covariance matrix of the errors is correctly specified.\n",
       "[2] The condition number is large, 1.94e+04. This might indicate that there are\n",
       "strong multicollinearity or other numerical problems.\n",
       "\"\"\""
      ]
     },
     "execution_count": 9,
     "metadata": {},
     "output_type": "execute_result"
    }
   ],
   "source": [
    "formula = \"tco2_first ~ pco2_first + np.square(pco2_first)\"\n",
    "\n",
    "o2_quad_lm = ep.tl.ols(adata, var_names, formula, missing=\"drop\")\n",
    "co2_quad_lm_result = o2_quad_lm.fit()\n",
    "co2_quad_lm_result.summary()"
   ]
  },
  {
   "cell_type": "markdown",
   "id": "44a6bec8",
   "metadata": {},
   "source": [
    "Looking first at the coefficients estimates, we see the best fit line is estimated as:\n",
    "\n",
    "`tco2_first` = 16.09 + 0.19 $\\times$ `pco2_first` + 0.00004 $\\times$ `pco2_first`$^2$.\n"
   ]
  },
  {
   "cell_type": "markdown",
   "id": "13aab529",
   "metadata": {},
   "source": [
    "We can add both best fit lines to the former scattered points."
   ]
  },
  {
   "cell_type": "code",
   "execution_count": 10,
   "id": "baf67f71",
   "metadata": {},
   "outputs": [
    {
     "data": {
      "image/png": "[encoded data removed]",
      "text/plain": [
       "<Figure size 432x288 with 1 Axes>"
      ]
     },
     "metadata": {
      "needs_background": "light"
     },
     "output_type": "display_data"
    }
   ],
   "source": [
    "ep.pl.ols(\n",
    "    adata,\n",
    "    x=\"pco2_first\",\n",
    "    y=\"tco2_first\",\n",
    "    ols_results=[co2_lm_result, co2_quad_lm_result],\n",
    "    ols_color=[\"red\", \"blue\"],\n",
    "    xlabel=\"PCO2\",\n",
    "    ylabel=\"TCO2\",\n",
    "    show=True,\n",
    ")"
   ]
  },
  {
   "cell_type": "markdown",
   "id": "443ce7eb",
   "metadata": {},
   "source": [
    "Figure Scatterplot of PCO2 (x-axis) and TCO2 (y-axis) along with linear regression estimates from the quadratic model (co2_quad_lm) and linear only model (co2_lm)"
   ]
  },
  {
   "cell_type": "markdown",
   "id": "75c15fac",
   "metadata": {},
   "source": [
    "And one can see that the red (linear term only) and blue (linear and quadratic terms) fits are nearly identical.  This corresponds with the relatively small coefficient estimate for the `(pco2_first^2)` term.  The p-value for this coefficient is about 0.86, and at the 0.05 significance level we would likely conclude that a quadratic term is not necessary in our model to fit the data, as the linear term only model fits the data nearly as well."
   ]
  },
  {
   "cell_type": "markdown",
   "id": "4d83a8b2",
   "metadata": {},
   "source": [
    "#### Statistical Interactions and Testing Nested Models"
   ]
  },
  {
   "cell_type": "markdown",
   "id": "4a7024e1",
   "metadata": {},
   "source": [
    "We can also consider additional features in our model. For this, we can start with e.g. gender as a covariate, but no interaction.  We can do this by simply adding the variable `gender_num` to the previous formula for our `co2_lm` model fit."
   ]
  },
  {
   "cell_type": "code",
   "execution_count": 11,
   "id": "d867ac3d",
   "metadata": {},
   "outputs": [
    {
     "data": {
      "text/html": [
       "<table class=\"simpletable\">\n",
       "<caption>OLS Regression Results</caption>\n",
       "<tr>\n",
       "  <th>Dep. Variable:</th>       <td>tco2_first</td>    <th>  R-squared:         </th> <td>   0.265</td> \n",
       "</tr>\n",
       "<tr>\n",
       "  <th>Model:</th>                   <td>OLS</td>       <th>  Adj. R-squared:    </th> <td>   0.264</td> \n",
       "</tr>\n",
       "<tr>\n",
       "  <th>Method:</th>             <td>Least Squares</td>  <th>  F-statistic:       </th> <td>   286.1</td> \n",
       "</tr>\n",
       "<tr>\n",
       "  <th>Date:</th>             <td>Tue, 09 Aug 2022</td> <th>  Prob (F-statistic):</th> <td>7.60e-107</td>\n",
       "</tr>\n",
       "<tr>\n",
       "  <th>Time:</th>                 <td>12:04:17</td>     <th>  Log-Likelihood:    </th> <td> -4608.7</td> \n",
       "</tr>\n",
       "<tr>\n",
       "  <th>No. Observations:</th>      <td>  1590</td>      <th>  AIC:               </th> <td>   9223.</td> \n",
       "</tr>\n",
       "<tr>\n",
       "  <th>Df Residuals:</th>          <td>  1587</td>      <th>  BIC:               </th> <td>   9240.</td> \n",
       "</tr>\n",
       "<tr>\n",
       "  <th>Df Model:</th>              <td>     2</td>      <th>                     </th>     <td> </td>    \n",
       "</tr>\n",
       "<tr>\n",
       "  <th>Covariance Type:</th>      <td>nonrobust</td>    <th>                     </th>     <td> </td>    \n",
       "</tr>\n",
       "</table>\n",
       "<table class=\"simpletable\">\n",
       "<tr>\n",
       "       <td></td>         <th>coef</th>     <th>std err</th>      <th>t</th>      <th>P>|t|</th>  <th>[0.025</th>    <th>0.975]</th>  \n",
       "</tr>\n",
       "<tr>\n",
       "  <th>Intercept</th>  <td>   16.3044</td> <td>    0.378</td> <td>   43.166</td> <td> 0.000</td> <td>   15.564</td> <td>   17.045</td>\n",
       "</tr>\n",
       "<tr>\n",
       "  <th>pco2_first</th> <td>    0.1889</td> <td>    0.008</td> <td>   23.922</td> <td> 0.000</td> <td>    0.173</td> <td>    0.204</td>\n",
       "</tr>\n",
       "<tr>\n",
       "  <th>gender_num</th> <td>   -0.1817</td> <td>    0.224</td> <td>   -0.812</td> <td> 0.417</td> <td>   -0.621</td> <td>    0.257</td>\n",
       "</tr>\n",
       "</table>\n",
       "<table class=\"simpletable\">\n",
       "<tr>\n",
       "  <th>Omnibus:</th>       <td>94.658</td> <th>  Durbin-Watson:     </th> <td>   1.964</td>\n",
       "</tr>\n",
       "<tr>\n",
       "  <th>Prob(Omnibus):</th> <td> 0.000</td> <th>  Jarque-Bera (JB):  </th> <td> 194.982</td>\n",
       "</tr>\n",
       "<tr>\n",
       "  <th>Skew:</th>          <td>-0.394</td> <th>  Prob(JB):          </th> <td>4.57e-43</td>\n",
       "</tr>\n",
       "<tr>\n",
       "  <th>Kurtosis:</th>      <td> 4.524</td> <th>  Cond. No.          </th> <td>    160.</td>\n",
       "</tr>\n",
       "</table><br/><br/>Notes:<br/>[1] Standard Errors assume that the covariance matrix of the errors is correctly specified."
      ],
      "text/plain": [
       "<class 'statsmodels.iolib.summary.Summary'>\n",
       "\"\"\"\n",
       "                            OLS Regression Results                            \n",
       "==============================================================================\n",
       "Dep. Variable:             tco2_first   R-squared:                       0.265\n",
       "Model:                            OLS   Adj. R-squared:                  0.264\n",
       "Method:                 Least Squares   F-statistic:                     286.1\n",
       "Date:                Tue, 09 Aug 2022   Prob (F-statistic):          7.60e-107\n",
       "Time:                        12:04:17   Log-Likelihood:                -4608.7\n",
       "No. Observations:                1590   AIC:                             9223.\n",
       "Df Residuals:                    1587   BIC:                             9240.\n",
       "Df Model:                           2                                         \n",
       "Covariance Type:            nonrobust                                         \n",
       "==============================================================================\n",
       "                 coef    std err          t      P>|t|      [0.025      0.975]\n",
       "------------------------------------------------------------------------------\n",
       "Intercept     16.3044      0.378     43.166      0.000      15.564      17.045\n",
       "pco2_first     0.1889      0.008     23.922      0.000       0.173       0.204\n",
       "gender_num    -0.1817      0.224     -0.812      0.417      -0.621       0.257\n",
       "==============================================================================\n",
       "Omnibus:                       94.658   Durbin-Watson:                   1.964\n",
       "Prob(Omnibus):                  0.000   Jarque-Bera (JB):              194.982\n",
       "Skew:                          -0.394   Prob(JB):                     4.57e-43\n",
       "Kurtosis:                       4.524   Cond. No.                         160.\n",
       "==============================================================================\n",
       "\n",
       "Notes:\n",
       "[1] Standard Errors assume that the covariance matrix of the errors is correctly specified.\n",
       "\"\"\""
      ]
     },
     "execution_count": 11,
     "metadata": {},
     "output_type": "execute_result"
    }
   ],
   "source": [
    "formula = \"tco2_first ~ pco2_first + gender_num\"\n",
    "var_names = [\"tco2_first\", \"pco2_first\", \"gender_num\"]\n",
    "co2_gender_lm = ep.tl.ols(adata, var_names, formula, missing=\"drop\")\n",
    "co2_gender_lm_result = co2_gender_lm.fit()\n",
    "co2_gender_lm_result.summary()"
   ]
  },
  {
   "cell_type": "markdown",
   "id": "8eeb520f",
   "metadata": {},
   "source": [
    "This output is very similar to what we had before, but now there's a `gender_num` term as well.  The `1` is present in the first column after `gender_num`, and it tells us who this coefficient is relevant to (subjects with `1` for the `gender_num` -- men).  This is always relative to the baseline group, and in this case this is women.  The estimate is negative, meaning that the line fit for males will be below the line for females.  Plotting this fit curve:"
   ]
  },
  {
   "cell_type": "code",
   "execution_count": 12,
   "id": "0bad1e7d",
   "metadata": {},
   "outputs": [
    {
     "data": {
      "image/png": "[encoded data removed]",
      "text/plain": [
       "<Figure size 432x288 with 1 Axes>"
      ]
     },
     "metadata": {
      "needs_background": "light"
     },
     "output_type": "display_data"
    }
   ],
   "source": [
    "# s stands for slope of the line, i stands for intercept of the line\n",
    "s_female = co2_gender_lm_result.params[1]\n",
    "i_female = co2_gender_lm_result.params[0]\n",
    "s_male = co2_gender_lm_result.params[1]\n",
    "i_male = co2_gender_lm_result.params[0] + co2_gender_lm_result.params[2]\n",
    "ep.pl.ols(\n",
    "    lines=[(s_female, i_female), (s_male, i_male)],\n",
    "    lines_color=[\"k\", \"r\"],\n",
    "    lines_label=[\"Female\", \"Male\"],\n",
    "    xlabel=\"PCO2\",\n",
    "    ylabel=\"TCO2\",\n",
    "    xlim=(0, 40),\n",
    "    ylim=(15, 25),\n",
    "    show=True,\n",
    ")"
   ]
  },
  {
   "cell_type": "markdown",
   "id": "767dd36e",
   "metadata": {},
   "source": [
    "We see that the lines are parallel, but almost indistinguishable.  In fact, this plot has been cropped in order to see any difference at all.  From the estimate from the `summary` output above, the difference between the two lines is -0.182 mmol/L, which is quite small, so perhaps this isn't too surprising.  We can also see in the above `summary` output that the p-value is about 0.42, and we would likely *not* reject the null hypothesis that the true value of the `gender_num` coefficient is zero."
   ]
  },
  {
   "cell_type": "markdown",
   "id": "41b6181f",
   "metadata": {},
   "source": [
    "Next, we can explore our model with an interaction between `pco2_first` and `gender_num`.  To add an interaction between two variables use the `*` operator within a model formula.  By default, `Python` will add all of the main effects (variables contained in the interaction) to the model as well, so simply adding `pco2_first*gender_num` will add effects for `pco2_first` and `gender_num` in addition to the interaction between them to the model fit.\n"
   ]
  },
  {
   "cell_type": "code",
   "execution_count": 13,
   "id": "e498860e",
   "metadata": {},
   "outputs": [
    {
     "data": {
      "text/html": [
       "<table class=\"simpletable\">\n",
       "<caption>OLS Regression Results</caption>\n",
       "<tr>\n",
       "  <th>Dep. Variable:</th>       <td>tco2_first</td>    <th>  R-squared:         </th> <td>   0.266</td> \n",
       "</tr>\n",
       "<tr>\n",
       "  <th>Model:</th>                   <td>OLS</td>       <th>  Adj. R-squared:    </th> <td>   0.265</td> \n",
       "</tr>\n",
       "<tr>\n",
       "  <th>Method:</th>             <td>Least Squares</td>  <th>  F-statistic:       </th> <td>   191.6</td> \n",
       "</tr>\n",
       "<tr>\n",
       "  <th>Date:</th>             <td>Tue, 09 Aug 2022</td> <th>  Prob (F-statistic):</th> <td>5.09e-106</td>\n",
       "</tr>\n",
       "<tr>\n",
       "  <th>Time:</th>                 <td>12:04:17</td>     <th>  Log-Likelihood:    </th> <td> -4607.7</td> \n",
       "</tr>\n",
       "<tr>\n",
       "  <th>No. Observations:</th>      <td>  1590</td>      <th>  AIC:               </th> <td>   9223.</td> \n",
       "</tr>\n",
       "<tr>\n",
       "  <th>Df Residuals:</th>          <td>  1586</td>      <th>  BIC:               </th> <td>   9245.</td> \n",
       "</tr>\n",
       "<tr>\n",
       "  <th>Df Model:</th>              <td>     3</td>      <th>                     </th>     <td> </td>    \n",
       "</tr>\n",
       "<tr>\n",
       "  <th>Covariance Type:</th>      <td>nonrobust</td>    <th>                     </th>     <td> </td>    \n",
       "</tr>\n",
       "</table>\n",
       "<table class=\"simpletable\">\n",
       "<tr>\n",
       "            <td></td>               <th>coef</th>     <th>std err</th>      <th>t</th>      <th>P>|t|</th>  <th>[0.025</th>    <th>0.975]</th>  \n",
       "</tr>\n",
       "<tr>\n",
       "  <th>Intercept</th>             <td>   15.8544</td> <td>    0.489</td> <td>   32.443</td> <td> 0.000</td> <td>   14.896</td> <td>   16.813</td>\n",
       "</tr>\n",
       "<tr>\n",
       "  <th>pco2_first</th>            <td>    0.1994</td> <td>    0.011</td> <td>   18.585</td> <td> 0.000</td> <td>    0.178</td> <td>    0.220</td>\n",
       "</tr>\n",
       "<tr>\n",
       "  <th>gender_num</th>            <td>    0.8144</td> <td>    0.722</td> <td>    1.128</td> <td> 0.260</td> <td>   -0.602</td> <td>    2.231</td>\n",
       "</tr>\n",
       "<tr>\n",
       "  <th>pco2_first:gender_num</th> <td>   -0.0230</td> <td>    0.016</td> <td>   -1.450</td> <td> 0.147</td> <td>   -0.054</td> <td>    0.008</td>\n",
       "</tr>\n",
       "</table>\n",
       "<table class=\"simpletable\">\n",
       "<tr>\n",
       "  <th>Omnibus:</th>       <td>97.108</td> <th>  Durbin-Watson:     </th> <td>   1.964</td>\n",
       "</tr>\n",
       "<tr>\n",
       "  <th>Prob(Omnibus):</th> <td> 0.000</td> <th>  Jarque-Bera (JB):  </th> <td> 200.324</td>\n",
       "</tr>\n",
       "<tr>\n",
       "  <th>Skew:</th>          <td>-0.403</td> <th>  Prob(JB):          </th> <td>3.16e-44</td>\n",
       "</tr>\n",
       "<tr>\n",
       "  <th>Kurtosis:</th>      <td> 4.541</td> <th>  Cond. No.          </th> <td>    399.</td>\n",
       "</tr>\n",
       "</table><br/><br/>Notes:<br/>[1] Standard Errors assume that the covariance matrix of the errors is correctly specified."
      ],
      "text/plain": [
       "<class 'statsmodels.iolib.summary.Summary'>\n",
       "\"\"\"\n",
       "                            OLS Regression Results                            \n",
       "==============================================================================\n",
       "Dep. Variable:             tco2_first   R-squared:                       0.266\n",
       "Model:                            OLS   Adj. R-squared:                  0.265\n",
       "Method:                 Least Squares   F-statistic:                     191.6\n",
       "Date:                Tue, 09 Aug 2022   Prob (F-statistic):          5.09e-106\n",
       "Time:                        12:04:17   Log-Likelihood:                -4607.7\n",
       "No. Observations:                1590   AIC:                             9223.\n",
       "Df Residuals:                    1586   BIC:                             9245.\n",
       "Df Model:                           3                                         \n",
       "Covariance Type:            nonrobust                                         \n",
       "=========================================================================================\n",
       "                            coef    std err          t      P>|t|      [0.025      0.975]\n",
       "-----------------------------------------------------------------------------------------\n",
       "Intercept                15.8544      0.489     32.443      0.000      14.896      16.813\n",
       "pco2_first                0.1994      0.011     18.585      0.000       0.178       0.220\n",
       "gender_num                0.8144      0.722      1.128      0.260      -0.602       2.231\n",
       "pco2_first:gender_num    -0.0230      0.016     -1.450      0.147      -0.054       0.008\n",
       "==============================================================================\n",
       "Omnibus:                       97.108   Durbin-Watson:                   1.964\n",
       "Prob(Omnibus):                  0.000   Jarque-Bera (JB):              200.324\n",
       "Skew:                          -0.403   Prob(JB):                     3.16e-44\n",
       "Kurtosis:                       4.541   Cond. No.                         399.\n",
       "==============================================================================\n",
       "\n",
       "Notes:\n",
       "[1] Standard Errors assume that the covariance matrix of the errors is correctly specified.\n",
       "\"\"\""
      ]
     },
     "execution_count": 13,
     "metadata": {},
     "output_type": "execute_result"
    }
   ],
   "source": [
    "formula = \"tco2_first ~ pco2_first * gender_num\"\n",
    "var_names = [\"tco2_first\", \"pco2_first\", \"gender_num\"]\n",
    "\n",
    "co2_gender_interaction_lm = ep.tl.ols(adata, var_names, formula, missing=\"drop\")\n",
    "co2_gender_interaction_lm_result = co2_gender_interaction_lm.fit()\n",
    "co2_gender_interaction_lm_result.summary()"
   ]
  },
  {
   "cell_type": "markdown",
   "id": "07b0ee86",
   "metadata": {},
   "source": [
    "The estimated coefficients are $\\hat{\\beta}_0, \\hat{\\beta}_1, \\hat{\\beta}_2$ and $\\hat{\\beta}_3$, respectively, and we can determine the best fit lines for men:\n",
    "\n",
    "\n",
    "`tco2_first` = $(15.85 + 0.81)$ + $(0.20 - 0.023)$ $\\times$ `pco2_first` =  $16.67$ + $0.18$ $\\times$ `pco2_first`,\n",
    "\n",
    "and for women:\n",
    "\n",
    "`tco2_first` = $15.85$ + $0.20$ $\\times$ `pco2_first`.\n",
    "\n",
    "Based on this, the men's intercept should be higher, but their slope should be not as steep, relative to the women.  Let's check this and add the new model fits as dotted lines and add a legend to the above figure.\n"
   ]
  },
  {
   "cell_type": "code",
   "execution_count": 14,
   "id": "10e22ae3",
   "metadata": {},
   "outputs": [
    {
     "data": {
      "image/png": "[encoded data removed]",
      "text/plain": [
       "<Figure size 432x288 with 1 Axes>"
      ]
     },
     "metadata": {
      "needs_background": "light"
     },
     "output_type": "display_data"
    }
   ],
   "source": [
    "# s stands for slope of the line, i stands for intercept of the line\n",
    "s_female_interaction = co2_gender_interaction_lm_result.params[1]\n",
    "i_female_interaction = co2_gender_interaction_lm_result.params[0]\n",
    "s_male_interaction = (\n",
    "    co2_gender_interaction_lm_result.params[1]\n",
    "    + co2_gender_interaction_lm_result.params[3]\n",
    ")\n",
    "i_male_interaction = (\n",
    "    co2_gender_interaction_lm_result.params[0]\n",
    "    + co2_gender_interaction_lm_result.params[2]\n",
    ")\n",
    "\n",
    "lines = [\n",
    "    (s_female, i_female),\n",
    "    (s_male, i_male),\n",
    "    (s_female_interaction, i_female_interaction),\n",
    "    (s_male_interaction, i_male_interaction),\n",
    "]\n",
    "lines_color = [\"k\", \"r\", \"k\", \"r\"]\n",
    "lines_style = [\"-\", \"-\", \":\", \":\"]\n",
    "lines_label = [\n",
    "    \"Female\",\n",
    "    \"Male\",\n",
    "    \"Female (Interaction Model)\",\n",
    "    \"Male (Interaction Model)\",\n",
    "]\n",
    "ep.pl.ols(\n",
    "    lines=lines,\n",
    "    lines_color=lines_color,\n",
    "    lines_style=lines_style,\n",
    "    lines_label=lines_label,\n",
    "    xlabel=\"PCO2\",\n",
    "    ylabel=\"TCO2\",\n",
    "    xlim=(0, 40),\n",
    "    ylim=(15, 25),\n",
    "    show=True,\n",
    ")"
   ]
  },
  {
   "cell_type": "markdown",
   "id": "b6314674",
   "metadata": {},
   "source": [
    "Regression fits of PCO2 on TCO2 with gender (black female; red male; solid no interaction; dotted with interaction). Note both axes are cropped for illustration purposes"
   ]
  },
  {
   "cell_type": "markdown",
   "id": "381b9481",
   "metadata": {},
   "source": [
    "We can see that the fits generated from this plot are a little different than the one generated for a model without the interaction.  The biggest difference is that the dotted lines are no longer parallel.  This has some serious implications, particularly when it comes to interpreting our result.  First note that the estimated coefficient for the `gender_num` variable is now positive.  This means that at `pco2_first=0`, men (red) have higher `tco2_first` levels than women (black).  If you recall in the previous model fit, women had higher levels of `tco2_first` at all levels of `pco2_first`.  At some point around `pco2_first=35` this changes and women (black) have higher `tco2_first` levels than men (red).  This means that the effect of `gender_num` *may* vary as you change the level of `pco2_first`, and is why interactions are often referred to as effect modification in the epidemiological literature.  The effect need not change signs (i.e., the lines do not need to cross) over the observed range of values for an interaction to be present.\n",
    "\n",
    "The question remains, is the variable `gender_num` important?  We looked at this briefly when we examined the `t value` column in the no interaction model which included `gender_num`.  What if we wanted to test (simultaneously) the null hypothesis: $\\beta_2$  *and*  $\\beta_3=0$  There is a useful test known as the F-test which can help us in this exact scenario where we want to look at if we should use a larger model (more covariates) or use a smaller model (fewer covariates).  The F-test applies only to *nested models* -- the larger model *must* contain each covariate that is used in the smaller model, and the smaller model *cannot* contain covariates which are not in the larger model.  The interaction model and the model with gender are nested models since all the covariates in the model with gender are also in the larger interaction model.  An example of a non-nested model would be the quadratic model and the interaction model: the smaller (quadratic) model has a term (`pco2_first`$^2$) which is not in the larger (interaction) model.  An F-test would not be appropriate for this latter case.\n",
    "\n",
    "To perform an F-test, first fit the two models you wish to consider, and then run the `anova_lm` command passing the two model objects.\n",
    "\n"
   ]
  },
  {
   "cell_type": "code",
   "execution_count": 15,
   "id": "4ab389ae",
   "metadata": {},
   "outputs": [
    {
     "data": {
      "text/html": [
       "<div>\n",
       "<style scoped>\n",
       "    .dataframe tbody tr th:only-of-type {\n",
       "        vertical-align: middle;\n",
       "    }\n",
       "\n",
       "    .dataframe tbody tr th {\n",
       "        vertical-align: top;\n",
       "    }\n",
       "\n",
       "    .dataframe thead th {\n",
       "        text-align: right;\n",
       "    }\n",
       "</style>\n",
       "<table border=\"1\" class=\"dataframe\">\n",
       "  <thead>\n",
       "    <tr style=\"text-align: right;\">\n",
       "      <th></th>\n",
       "      <th>df_resid</th>\n",
       "      <th>ssr</th>\n",
       "      <th>df_diff</th>\n",
       "      <th>ss_diff</th>\n",
       "      <th>F</th>\n",
       "      <th>Pr(&gt;F)</th>\n",
       "    </tr>\n",
       "  </thead>\n",
       "  <tbody>\n",
       "    <tr>\n",
       "      <th>0</th>\n",
       "      <td>1588.0</td>\n",
       "      <td>30674.431382</td>\n",
       "      <td>0.0</td>\n",
       "      <td>NaN</td>\n",
       "      <td>NaN</td>\n",
       "      <td>NaN</td>\n",
       "    </tr>\n",
       "    <tr>\n",
       "      <th>1</th>\n",
       "      <td>1586.0</td>\n",
       "      <td>30621.082804</td>\n",
       "      <td>2.0</td>\n",
       "      <td>53.348578</td>\n",
       "      <td>1.381578</td>\n",
       "      <td>0.251484</td>\n",
       "    </tr>\n",
       "  </tbody>\n",
       "</table>\n",
       "</div>"
      ],
      "text/plain": [
       "   df_resid           ssr  df_diff    ss_diff         F    Pr(>F)\n",
       "0    1588.0  30674.431382      0.0        NaN       NaN       NaN\n",
       "1    1586.0  30621.082804      2.0  53.348578  1.381578  0.251484"
      ]
     },
     "execution_count": 15,
     "metadata": {},
     "output_type": "execute_result"
    }
   ],
   "source": [
    "anova_lm(co2_lm_result, co2_gender_interaction_lm_result)"
   ]
  },
  {
   "cell_type": "markdown",
   "id": "0bc66237",
   "metadata": {},
   "source": [
    "As you can see, the `anova_lm` command first lists the models it is considering.  Much of the rest of the information is beyond the scope of this chapter, but we will highlight the reported F-test p-value (`Pr(>F)`), which in this case is 0.2515.  In nested models, the null hypothesis is that all coefficients in the larger model and not in the smaller model are zero.  In the case we are testing, our null hypothesis is $\\beta_2$  *and*  $\\beta_3=0$.  Since the p-value exceeds the typically used significance level ($\\alpha=0.05$), we would not reject the null hypothesis, and likely say the smaller model explains the data just as well as the larger model.  If these were the only models we were considering, we would use the smaller model as our final model and report the final model in our results.  We will now discuss what exactly you should report and how you can interpret the results."
   ]
  },
  {
   "cell_type": "markdown",
   "id": "1280d993",
   "metadata": {},
   "source": [
    "### Reporting and Interpreting Linear Regression"
   ]
  },
  {
   "cell_type": "markdown",
   "id": "a4a3e3d5",
   "metadata": {},
   "source": [
    "Confidence and Prediction Intervals\n",
    "\n",
    "As mentioned above, one method to quantify the uncertainty around coefficient estimates is by reporting the standard error.  Another commonly used method is to report a confidence interval, most commonly a 95\\% confidence interval.  A 95\\% confidence interval for $\\beta$ is an interval for which if the data were collected repeatedly, about 95\\% of the *intervals* would contain the *true value* of the parameter, $\\beta$, assuming the modeling assumptions are correct.\n",
    "\n",
    "To get 95\\% confidence intervals of coefficients, `Python` has a `confint` function, which you pass an `lm` object to.  It will then output 2.5\\% and 97.5\\% confidence interval limits for each coefficient.\n"
   ]
  },
  {
   "cell_type": "code",
   "execution_count": 16,
   "id": "4078d57f",
   "metadata": {},
   "outputs": [
    {
     "data": {
      "text/html": [
       "<div>\n",
       "<style scoped>\n",
       "    .dataframe tbody tr th:only-of-type {\n",
       "        vertical-align: middle;\n",
       "    }\n",
       "\n",
       "    .dataframe tbody tr th {\n",
       "        vertical-align: top;\n",
       "    }\n",
       "\n",
       "    .dataframe thead th {\n",
       "        text-align: right;\n",
       "    }\n",
       "</style>\n",
       "<table border=\"1\" class=\"dataframe\">\n",
       "  <thead>\n",
       "    <tr style=\"text-align: right;\">\n",
       "      <th></th>\n",
       "      <th>0</th>\n",
       "      <th>1</th>\n",
       "    </tr>\n",
       "  </thead>\n",
       "  <tbody>\n",
       "    <tr>\n",
       "      <th>Intercept</th>\n",
       "      <td>15.505369</td>\n",
       "      <td>16.916349</td>\n",
       "    </tr>\n",
       "    <tr>\n",
       "      <th>pco2_first</th>\n",
       "      <td>0.173103</td>\n",
       "      <td>0.204040</td>\n",
       "    </tr>\n",
       "  </tbody>\n",
       "</table>\n",
       "</div>"
      ],
      "text/plain": [
       "                    0          1\n",
       "Intercept   15.505369  16.916349\n",
       "pco2_first   0.173103   0.204040"
      ]
     },
     "execution_count": 16,
     "metadata": {},
     "output_type": "execute_result"
    }
   ],
   "source": [
    "co2_lm_result.conf_int()"
   ]
  },
  {
   "cell_type": "markdown",
   "id": "4c138abc",
   "metadata": {},
   "source": [
    "The 95\\% confidence interval for `pco2_first` is about 0.17-0.20, which may be slightly more informative than reporting the standard error.  Often people will look at if the confidence interval includes zero (no effect). Since it does not, and in fact since the interval is quite narrow and not very close to zero, this provides some additional evidence of its importance.  There is a well known link between hypothesis testing and confidence intervals which we will not get into detail here."
   ]
  },
  {
   "cell_type": "markdown",
   "id": "eb7d5656",
   "metadata": {},
   "source": [
    "When plotting the data with the model fit, similar to Figure 16.2, it is a good idea to include some sort of assessment of uncertainty as well.  To do this in `Python`, we will first create a data frame with PCO2 levels which we would like to predict.  In this case, we would like to predict the outcome (TCO2) over the range of observed covariate (PCO2) values.  We do this by creating a data frame, where the variable names in the data frame must match the covariates used in the model.  In our case, we have only one covariate (`pco2_first`), and we predict the outcome over the range of covariate values we observed determined by the `min` and `max` functions."
   ]
  },
  {
   "cell_type": "code",
   "execution_count": 17,
   "id": "2d4a1566",
   "metadata": {},
   "outputs": [],
   "source": [
    "pco2_first = pd.DataFrame(adata[:, \"pco2_first\"].X).dropna().astype(int)\n",
    "data = {\"pco2_first\": [i for i in range(pco2_first.min()[0], pco2_first.max()[0])]}\n",
    "grid_pred = pd.DataFrame(data)"
   ]
  },
  {
   "cell_type": "code",
   "execution_count": 18,
   "id": "2f507975",
   "metadata": {},
   "outputs": [
    {
     "data": {
      "text/html": [
       "<div>\n",
       "<style scoped>\n",
       "    .dataframe tbody tr th:only-of-type {\n",
       "        vertical-align: middle;\n",
       "    }\n",
       "\n",
       "    .dataframe tbody tr th {\n",
       "        vertical-align: top;\n",
       "    }\n",
       "\n",
       "    .dataframe thead th {\n",
       "        text-align: right;\n",
       "    }\n",
       "</style>\n",
       "<table border=\"1\" class=\"dataframe\">\n",
       "  <thead>\n",
       "    <tr style=\"text-align: right;\">\n",
       "      <th></th>\n",
       "      <th>mean</th>\n",
       "      <th>obs_ci_lower</th>\n",
       "      <th>obs_ci_upper</th>\n",
       "    </tr>\n",
       "  </thead>\n",
       "  <tbody>\n",
       "    <tr>\n",
       "      <th>0</th>\n",
       "      <td>17.719434</td>\n",
       "      <td>9.078647</td>\n",
       "      <td>26.360220</td>\n",
       "    </tr>\n",
       "    <tr>\n",
       "      <th>1</th>\n",
       "      <td>17.908005</td>\n",
       "      <td>9.268186</td>\n",
       "      <td>26.547825</td>\n",
       "    </tr>\n",
       "  </tbody>\n",
       "</table>\n",
       "</div>"
      ],
      "text/plain": [
       "        mean  obs_ci_lower  obs_ci_upper\n",
       "0  17.719434      9.078647     26.360220\n",
       "1  17.908005      9.268186     26.547825"
      ]
     },
     "execution_count": 18,
     "metadata": {},
     "output_type": "execute_result"
    }
   ],
   "source": [
    "preds = co2_lm_result.get_prediction(grid_pred).summary_frame()[\n",
    "    [\"mean\", \"obs_ci_lower\", \"obs_ci_upper\"]\n",
    "]\n",
    "preds[0:2]"
   ]
  },
  {
   "cell_type": "markdown",
   "id": "128de6d2",
   "metadata": {},
   "source": [
    "We have printed out the first two rows of our predictions, preds, which are the model’s predictions for PCO2 at 8 and 9. We can see that our predictions (mean) are about 0.18 apart, which make sense given our estimate of the slope (0.18). We also see that our 95 % prediction intervals are very wide, spanning about 9 (obs_ci_lower) to 26 (obs_ci_upper). This indicates that, despite coming up with a model which is very statisti- cally significant, we still have a lot of uncertainty about the predictions generated from such a model. It is a good idea to capture this quality when plotting how well your model fits by adding the interval lines as dotted lines. Let’s plot our final model fit, co2.lm, along with the scatterplot and prediction interval in the figure below."
   ]
  },
  {
   "cell_type": "code",
   "execution_count": 19,
   "id": "1f9ae924",
   "metadata": {},
   "outputs": [
    {
     "data": {
      "image/png": "[encoded data removed]",
      "text/plain": [
       "<Figure size 432x288 with 1 Axes>"
      ]
     },
     "metadata": {
      "needs_background": "light"
     },
     "output_type": "display_data"
    }
   ],
   "source": [
    "ep.pl.ols(\n",
    "    adata,\n",
    "    x=\"pco2_first\",\n",
    "    y=\"tco2_first\",\n",
    "    ols_results=[co2_lm_result],\n",
    "    ols_color=[\"red\"],\n",
    "    lines=[\n",
    "        (grid_pred[\"pco2_first\"], preds[\"obs_ci_upper\"]),\n",
    "        (grid_pred[\"pco2_first\"], preds[\"obs_ci_lower\"]),\n",
    "    ],\n",
    "    lines_color=[\"k\", \"k\"],\n",
    "    lines_style=[\"--\", \"--\"],\n",
    "    xlabel=\"PCO2\",\n",
    "    ylabel=\"TCO2\",\n",
    "    show=True,\n",
    ")"
   ]
  },
  {
   "cell_type": "markdown",
   "id": "2eaf2cb4",
   "metadata": {},
   "source": [
    "Scatterplot of PCO2 (x-axis) and TCO2 (y-axis) along with linear regression estimates from the linear only model (co2_lm). The dotted line represents 95 % prediction intervals for the model"
   ]
  },
  {
   "cell_type": "markdown",
   "id": "19f2299a",
   "metadata": {},
   "source": [
    "## Logistic Regression\n",
    "So far, we have considered how a _continuous_ variable can be modeled using our features. Another very common modelling task is the one of classification. Here, we are interested to model a _discrete_ label using our features. A very common scenario is to have a binary class label, for example whether a patient survived a 28-day observation window or not."
   ]
  },
  {
   "cell_type": "markdown",
   "id": "bb180b89",
   "metadata": {},
   "source": [
    "### 2 * 2 Tables"
   ]
  },
  {
   "cell_type": "code",
   "execution_count": 20,
   "id": "50d436a3",
   "metadata": {},
   "outputs": [],
   "source": [
    "var_names = [\"age\", \"day_28_flg\", \"service_unit\"]\n",
    "dat = pd.DataFrame(adata[:, var_names].X, columns=var_names)\n",
    "dat[\"age\"] = dat[\"age\"].astype(\"float\").dropna(axis=0)"
   ]
  },
  {
   "cell_type": "markdown",
   "id": "abcc4ce5",
   "metadata": {},
   "source": [
    "Contingency tables are the best way to start to think about binary data.  A contingency table cross-tabulates the outcome across two or more levels of a covariate.  Let's begin by creating a new variable (`age.cat`) which dichotomizes `age` into two age categories: $\\le55$ and $>55$.  Note, because we are making age a discrete variable, we also change the data type to a factor.  This is similar to what we did for the `gender_num` variable when discussing linear regression in the previous subchapter."
   ]
  },
  {
   "cell_type": "code",
   "execution_count": 21,
   "id": "e3d29bbd",
   "metadata": {},
   "outputs": [
    {
     "data": {
      "text/plain": [
       "<=55    923\n",
       ">55     853\n",
       "Name: age_cat, dtype: int64"
      ]
     },
     "execution_count": 21,
     "metadata": {},
     "output_type": "execute_result"
    }
   ],
   "source": [
    "dat[\"age_cat\"] = np.where(dat[\"age\"] <= 55, \"<=55\", \">55\")\n",
    "dat[\"age_cat\"] = dat[\"age_cat\"].astype(\"category\")\n",
    "dat[\"age_cat\"].value_counts()"
   ]
  },
  {
   "cell_type": "markdown",
   "id": "e9165bb3",
   "metadata": {},
   "source": [
    "We would like to see how 28 day mortality is distributed among the age categories.  We can do so by constructing a contingency table, or in this case what is commonly referred to as a 2x2 table."
   ]
  },
  {
   "cell_type": "code",
   "execution_count": 22,
   "id": "71ec4e6a",
   "metadata": {},
   "outputs": [
    {
     "data": {
      "text/html": [
       "<div>\n",
       "<style scoped>\n",
       "    .dataframe tbody tr th:only-of-type {\n",
       "        vertical-align: middle;\n",
       "    }\n",
       "\n",
       "    .dataframe tbody tr th {\n",
       "        vertical-align: top;\n",
       "    }\n",
       "\n",
       "    .dataframe thead th {\n",
       "        text-align: right;\n",
       "    }\n",
       "</style>\n",
       "<table border=\"1\" class=\"dataframe\">\n",
       "  <thead>\n",
       "    <tr style=\"text-align: right;\">\n",
       "      <th></th>\n",
       "      <th>0</th>\n",
       "      <th>1</th>\n",
       "    </tr>\n",
       "  </thead>\n",
       "  <tbody>\n",
       "    <tr>\n",
       "      <th>&lt;=55</th>\n",
       "      <td>883</td>\n",
       "      <td>40</td>\n",
       "    </tr>\n",
       "    <tr>\n",
       "      <th>&gt;55</th>\n",
       "      <td>610</td>\n",
       "      <td>243</td>\n",
       "    </tr>\n",
       "  </tbody>\n",
       "</table>\n",
       "</div>"
      ],
      "text/plain": [
       "        0    1\n",
       "<=55  883   40\n",
       ">55   610  243"
      ]
     },
     "execution_count": 22,
     "metadata": {},
     "output_type": "execute_result"
    }
   ],
   "source": [
    "age_cat_day_28_flg = pd.crosstab(index=dat[\"age_cat\"], columns=dat[\"day_28_flg\"])\n",
    "age_cat_day_28_flg.columns = [\"0\", \"1\"]\n",
    "age_cat_day_28_flg.index = [\"<=55\", \">55\"]\n",
    "age_cat_day_28_flg"
   ]
  },
  {
   "cell_type": "markdown",
   "id": "f97cccf5",
   "metadata": {},
   "source": [
    "Now let us look at a slightly different case -- when the covariate takes on more than two values.  Such a variable is the `service_unit`.  Let's see how the deaths are distributed among the different units:"
   ]
  },
  {
   "cell_type": "code",
   "execution_count": 23,
   "id": "b5c9a6b5",
   "metadata": {},
   "outputs": [
    {
     "data": {
      "text/html": [
       "<div>\n",
       "<style scoped>\n",
       "    .dataframe tbody tr th:only-of-type {\n",
       "        vertical-align: middle;\n",
       "    }\n",
       "\n",
       "    .dataframe tbody tr th {\n",
       "        vertical-align: top;\n",
       "    }\n",
       "\n",
       "    .dataframe thead th {\n",
       "        text-align: right;\n",
       "    }\n",
       "</style>\n",
       "<table border=\"1\" class=\"dataframe\">\n",
       "  <thead>\n",
       "    <tr style=\"text-align: right;\">\n",
       "      <th></th>\n",
       "      <th>0</th>\n",
       "      <th>1</th>\n",
       "    </tr>\n",
       "  </thead>\n",
       "  <tbody>\n",
       "    <tr>\n",
       "      <th>FICU</th>\n",
       "      <td>59</td>\n",
       "      <td>3</td>\n",
       "    </tr>\n",
       "    <tr>\n",
       "      <th>MICU</th>\n",
       "      <td>605</td>\n",
       "      <td>127</td>\n",
       "    </tr>\n",
       "    <tr>\n",
       "      <th>SICU</th>\n",
       "      <td>829</td>\n",
       "      <td>153</td>\n",
       "    </tr>\n",
       "  </tbody>\n",
       "</table>\n",
       "</div>"
      ],
      "text/plain": [
       "        0    1\n",
       "FICU   59    3\n",
       "MICU  605  127\n",
       "SICU  829  153"
      ]
     },
     "execution_count": 23,
     "metadata": {},
     "output_type": "execute_result"
    }
   ],
   "source": [
    "deathbyservice = pd.crosstab(index=dat[\"service_unit\"], columns=dat[\"day_28_flg\"])\n",
    "deathbyservice.columns = [\"0\", \"1\"]\n",
    "deathbyservice.index = [\"FICU\", \"MICU\", \"SICU\"]\n",
    "deathbyservice"
   ]
  },
  {
   "cell_type": "markdown",
   "id": "a1f1c652",
   "metadata": {},
   "source": [
    "we can get frequencies of these service units by applying the `prop.table` function to our cross-tabulated table."
   ]
  },
  {
   "cell_type": "code",
   "execution_count": 24,
   "id": "c43a435a",
   "metadata": {},
   "outputs": [
    {
     "data": {
      "text/html": [
       "<div>\n",
       "<style scoped>\n",
       "    .dataframe tbody tr th:only-of-type {\n",
       "        vertical-align: middle;\n",
       "    }\n",
       "\n",
       "    .dataframe tbody tr th {\n",
       "        vertical-align: top;\n",
       "    }\n",
       "\n",
       "    .dataframe thead th {\n",
       "        text-align: right;\n",
       "    }\n",
       "</style>\n",
       "<table border=\"1\" class=\"dataframe\">\n",
       "  <thead>\n",
       "    <tr style=\"text-align: right;\">\n",
       "      <th></th>\n",
       "      <th>0</th>\n",
       "      <th>1</th>\n",
       "    </tr>\n",
       "  </thead>\n",
       "  <tbody>\n",
       "    <tr>\n",
       "      <th>FICU</th>\n",
       "      <td>0.951613</td>\n",
       "      <td>0.048387</td>\n",
       "    </tr>\n",
       "    <tr>\n",
       "      <th>MICU</th>\n",
       "      <td>0.826503</td>\n",
       "      <td>0.173497</td>\n",
       "    </tr>\n",
       "    <tr>\n",
       "      <th>SICU</th>\n",
       "      <td>0.844196</td>\n",
       "      <td>0.155804</td>\n",
       "    </tr>\n",
       "  </tbody>\n",
       "</table>\n",
       "</div>"
      ],
      "text/plain": [
       "             0         1\n",
       "FICU  0.951613  0.048387\n",
       "MICU  0.826503  0.173497\n",
       "SICU  0.844196  0.155804"
      ]
     },
     "execution_count": 24,
     "metadata": {},
     "output_type": "execute_result"
    }
   ],
   "source": [
    "deathbyservice.div(deathbyservice[\"0\"] + deathbyservice[\"1\"], axis=0)"
   ]
  },
  {
   "cell_type": "markdown",
   "id": "27ba200f",
   "metadata": {},
   "source": [
    "It appears as though the `FICU` may have a lower rate of death than either the `MICU` or `SICU`.  To compute an odds ratios, first compute the odds:\n"
   ]
  },
  {
   "cell_type": "code",
   "execution_count": 25,
   "id": "662a6bb4",
   "metadata": {},
   "outputs": [
    {
     "data": {
      "text/plain": [
       "FICU    0.050847\n",
       "MICU    0.209917\n",
       "SICU    0.184560\n",
       "dtype: float64"
      ]
     },
     "execution_count": 25,
     "metadata": {},
     "output_type": "execute_result"
    }
   ],
   "source": [
    "deathbyservice[\"1\"].div(deathbyservice[\"0\"], axis=0)"
   ]
  },
  {
   "cell_type": "markdown",
   "id": "df251fad",
   "metadata": {},
   "source": [
    "And then we need to pick which of `FICU`, `MICU` or `SICU` will serve as the reference or baseline group.  This is the group which the other two groups will be compared to.  Again the choice is arbitrary, but should be dictated by the study objective.  If this were a clinical trial with two drug arms and a placebo arm, it would be foolish to use one of the treatments as the reference group, particularly if you wanted to compare the efficacy of the treatments.  In this particular case, there is no clear reference group, but since the FICU is so much smaller than the other two units, we will use it as the reference group.  Computing the odds ratio for MICU and SICU we get 4.13 and 3.63, respectively.  These are also very strong associations, meaning that the odds of dying in the SICU and MICU are around 4 times higher than in the FICU, but relatively similar.\n",
    "\n",
    "Contingency tables and 2x2 tables in particular are the building blocks of working with binary data, and it's often a good way to begin looking at the data."
   ]
  },
  {
   "cell_type": "markdown",
   "id": "df860924",
   "metadata": {},
   "source": [
    "### Introducing Logistic Regression"
   ]
  },
  {
   "cell_type": "markdown",
   "id": "078cf641",
   "metadata": {},
   "source": [
    "Let's fit this model, and see how this works using a real example.  We fit logistic regression very similarly to how we fit linear regression models, with a few exceptions.  First, we will use a new function called `glm`, which allows one to fit a class of models known as generalized linear models or GLMs.  The `glm` function works in much the same way the `lm` function does.  We need to specify a formula of the form: `outcome ~ covariates`, specify what dataset to use (in our case the `dat` data frame), and then specify the family.  For logistic regression `family='binomial'` will be our choice.  You can run the `summary` function, just like you did for `lm` and it produces output very similar to what `lm` did.\n"
   ]
  },
  {
   "cell_type": "code",
   "execution_count": 26,
   "id": "01e25f8b",
   "metadata": {},
   "outputs": [],
   "source": [
    "dat[\"day_28_flg\"] = np.where(dat[\"day_28_flg\"] == 0, 1, 0)"
   ]
  },
  {
   "cell_type": "code",
   "execution_count": 27,
   "id": "92f22537",
   "metadata": {},
   "outputs": [],
   "source": [
    "adata_new = ep.ad.df_to_anndata(dat)"
   ]
  },
  {
   "cell_type": "code",
   "execution_count": 28,
   "id": "d53e3a07",
   "metadata": {},
   "outputs": [
    {
     "name": "stdout",
     "output_type": "stream",
     "text": [
      "                         Generalized Linear Model Regression Results                          \n",
      "==============================================================================================\n",
      "Dep. Variable:     ['day_28_flg[0]', 'day_28_flg[1]']   No. Observations:                 1776\n",
      "Model:                                            GLM   Df Residuals:                     1774\n",
      "Model Family:                                Binomial   Df Model:                            1\n",
      "Link Function:                                  Logit   Scale:                          1.0000\n",
      "Method:                                          IRLS   Log-Likelihood:                -674.34\n",
      "Date:                                Tue, 09 Aug 2022   Deviance:                       1348.7\n",
      "Time:                                        12:04:20   Pearson chi2:                 1.78e+03\n",
      "No. Iterations:                                     6   Pseudo R-squ. (CS):             0.1111\n",
      "Covariance Type:                            nonrobust                                         \n",
      "==================================================================================\n",
      "                     coef    std err          z      P>|z|      [0.025      0.975]\n",
      "----------------------------------------------------------------------------------\n",
      "Intercept         -3.0944      0.162    -19.142      0.000      -3.411      -2.778\n",
      "age_cat[T.>55]     2.1740      0.179     12.175      0.000       1.824       2.524\n",
      "==================================================================================\n"
     ]
    }
   ],
   "source": [
    "formula = \"day_28_flg ~ age_cat\"\n",
    "var_names = [\"day_28_flg\", \"age_cat\"]\n",
    "\n",
    "age_glm = ep.tl.glm(adata_new, var_names, formula, family=\"Binomial\", missing=\"drop\")\n",
    "age_glm_result = age_glm.fit()\n",
    "print(age_glm_result.summary())"
   ]
  },
  {
   "cell_type": "markdown",
   "id": "0ced2f21",
   "metadata": {},
   "source": [
    "As you can see, we get a coefficients table that is similar to the `lm` table we used earlier.  Instead of a `t value`, we get a `z value`, but this can be interpreted similarly.  The rightmost column is a p-value, for testing the null hypothesis $\\beta=0$.  If you recall, the non-intercept coefficients are log-odds ratios, so testing if they are zero is equivalent to testing if the odds ratios are one.  If an odds ratio is one the odds are equal in the numerator group and denominator group, indicating the probabilities of the outcome are equal in each group.  So, assessing if the coefficients are zero will be an important aspect of doing this type of analysis."
   ]
  },
  {
   "cell_type": "markdown",
   "id": "80414830",
   "metadata": {},
   "source": [
    "#### Beyond a Single Binary Covariate"
   ]
  },
  {
   "cell_type": "markdown",
   "id": "eb0bb1a4",
   "metadata": {},
   "source": [
    "While the above analysis is useful for illustration, it does not readily demonstrate anything we could not do with our 2x2 table example above.  Logistic regression allows us to extend the basic idea to at least two very relevant areas.  The first is the case where we have more than one covariate of interest.  Perhaps we have a confounder we are concerned about, and want to adjust for it.  Alternatively, maybe there are two covariates of interest.  Secondly, it allows use to use covariates as continuous quantities, instead of discretizing them into categories.  For example, instead of dividing age up into exhaustive strata (as we did very simply by just dividing the patients into two groups, $\\le55$ and $>55$ ), we could instead use age as a continuous covariate.\n",
    "\n",
    "First, having more than one covariate is simple.  For example, if we wanted to add `service_unit` to our previous model, we could just add it as we did when using the `lm` function for linear regression.  Here we specify `day_28_flg ~ age.cat + service_unit` and run the `summary` function."
   ]
  },
  {
   "cell_type": "code",
   "execution_count": 29,
   "id": "d16bb7cc",
   "metadata": {},
   "outputs": [
    {
     "name": "stdout",
     "output_type": "stream",
     "text": [
      "                         Generalized Linear Model Regression Results                          \n",
      "==============================================================================================\n",
      "Dep. Variable:     ['day_28_flg[0]', 'day_28_flg[1]']   No. Observations:                 1776\n",
      "Model:                                            GLM   Df Residuals:                     1772\n",
      "Model Family:                                Binomial   Df Model:                            3\n",
      "Link Function:                                  Logit   Scale:                          1.0000\n",
      "Method:                                          IRLS   Log-Likelihood:                -671.87\n",
      "Date:                                Tue, 09 Aug 2022   Deviance:                       1343.7\n",
      "Time:                                        12:04:20   Pearson chi2:                 1.74e+03\n",
      "No. Iterations:                                     6   Pseudo R-squ. (CS):             0.1136\n",
      "Covariance Type:                            nonrobust                                         \n",
      "========================================================================================\n",
      "                           coef    std err          z      P>|z|      [0.025      0.975]\n",
      "----------------------------------------------------------------------------------------\n",
      "Intercept               -4.2090      0.623     -6.761      0.000      -5.429      -2.989\n",
      "age_cat[T.>55]           2.1611      0.179     12.088      0.000       1.811       2.512\n",
      "service_unit[T.MICU]     1.1789      0.615      1.915      0.055      -0.027       2.385\n",
      "service_unit[T.SICU]     1.1234      0.614      1.830      0.067      -0.080       2.326\n",
      "========================================================================================\n"
     ]
    }
   ],
   "source": [
    "formula = \"day_28_flg ~ age_cat + service_unit\"\n",
    "var_names = [\"day_28_flg\", \"age_cat\", \"service_unit\"]\n",
    "\n",
    "ageunit_glm = ep.tl.glm(\n",
    "    adata_new, var_names, formula, family=\"Binomial\", missing=\"drop\"\n",
    ")\n",
    "ageunit_glm_result = ageunit_glm.fit()\n",
    "print(ageunit_glm_result.summary())"
   ]
  },
  {
   "cell_type": "markdown",
   "id": "67e140ed",
   "metadata": {},
   "source": [
    "A coefficient table is produced, and now we have four estimated coefficients.  The same two, `(Intercept)` and `age_cat[T.>55]` which were estimated in the unadjusted model, but also we have `service_unit[T.MICU]` and `service_unit[T.SICU]` which correspond to the log odds ratios for the MICU and SICU relative to the FICU.  Taking the exponential of these will result in an odds ratio for each variable, adjusted for the other variables in the model.  In this case the adjusted odds ratios for Age>55, MICU and SICU are 8.68, 3.25, and 3.08, respectively. We would conclude that there is an almost 9-fold increase in the odds of 28 day mortality for those in the $>55$ year age group relative to the younger $\\le55$ group while holding service unit constant.  This adjustment becomes important in many scenarios where groups of patients may be more or less likely to receive treatment, but also more or less likely to have better outcomes, where one effect is confounded by possibly many others.  Such is almost always the case with observational data, and this is why logistic regression is such a powerful data analysis tool in this setting.\n",
    "\n",
    "Another case we would like to be able to deal with is when we have a continuous covariate we would like to include in the model.  One can always break the continuous covariate into mutually exclusive categories by selecting break or cut points, but selecting the number and location of these points can be arbitrary, and in many cases unnecessary or inefficient.  Recall that in logistic regression we are fitting a model:\n",
    "\n",
    "\n",
    "$logit(p_x) = log(Odds_x) = log(\\frac{p_x}{1-p_x}) = \\beta_0 + \\beta_1 \\times x$,\n",
    "\n",
    "\n",
    "but now assume $x$ is continuous.  Imagine a hypothetical scenario where you know $\\beta_0$ and $\\beta_1$ and have a group of 50 year olds, and a group of 51 year olds.  The difference in the log Odds between the two groups is:\n",
    "\n",
    "\n",
    "$log(Odds_{51}) -log(Odds_{50}) = (\\beta_0 + \\beta_1 \\times 51) - (\\beta_0 + \\beta_1 \\times 50) = \\beta_1(51-50) = \\beta_1$.\n",
    "\n",
    "Hence, the odds ratio for 51 year olds versus 50 year olds is $\\exp{(\\beta_1)}$.  This is actually true for any group of patients which are 1 year apart, and this gives a useful way to interpret and use these estimated coefficients for continuous covariates.  Let's work with an example.  Again fitting the 28 day mortality outcome as a function of age, but treating age as it was originally recorded in the dataset, a continuous variable called `age`."
   ]
  },
  {
   "cell_type": "code",
   "execution_count": 30,
   "id": "ca2d894c",
   "metadata": {},
   "outputs": [
    {
     "name": "stdout",
     "output_type": "stream",
     "text": [
      "                         Generalized Linear Model Regression Results                          \n",
      "==============================================================================================\n",
      "Dep. Variable:     ['day_28_flg[0]', 'day_28_flg[1]']   No. Observations:                 1776\n",
      "Model:                                            GLM   Df Residuals:                     1774\n",
      "Model Family:                                Binomial   Df Model:                            1\n",
      "Link Function:                                  Logit   Scale:                          1.0000\n",
      "Method:                                          IRLS   Log-Likelihood:                -625.49\n",
      "Date:                                Tue, 09 Aug 2022   Deviance:                       1251.0\n",
      "Time:                                        12:04:20   Pearson chi2:                 1.81e+03\n",
      "No. Iterations:                                     6   Pseudo R-squ. (CS):             0.1587\n",
      "Covariance Type:                            nonrobust                                         \n",
      "==============================================================================\n",
      "                 coef    std err          z      P>|z|      [0.025      0.975]\n",
      "------------------------------------------------------------------------------\n",
      "Intercept     -5.7780      0.321    -18.013      0.000      -6.407      -5.149\n",
      "age            0.0652      0.004     14.595      0.000       0.056       0.074\n",
      "==============================================================================\n"
     ]
    }
   ],
   "source": [
    "formula = \"day_28_flg ~ age\"\n",
    "var_names = [\"day_28_flg\", \"age\"]\n",
    "agects_glm = ep.tl.glm(\n",
    "    adata_new,\n",
    "    var_names,\n",
    "    formula,\n",
    "    family=\"Binomial\",\n",
    "    missing=\"drop\",\n",
    "    as_continuous=[\"age\"],\n",
    ")\n",
    "agects_glm_result = agects_glm.fit()\n",
    "print(agects_glm_result.summary())"
   ]
  },
  {
   "cell_type": "markdown",
   "id": "b5120994",
   "metadata": {},
   "source": [
    "We see the estimated coefficient is 0.07 and still very statistically significant.  Exponentiating the log odds ratio for age, we get an estimated odds ratio of 1.07, which is per 1 year increase in age.  What if the age difference of interest is ten years instead of one year?  There are at least two ways of doing this.  One is to replace `age` with `I(age/10)`, which uses a new covariate which is `age` divided by ten.  The second is to use the `agects.glm` estimated log odds ratio, and multiple by ten prior to exponentiating.  They will yield equivalent estimates of 1.92, but it is now per 10 year increases in age.  This is useful when the estimated odds ratios (or log odds ratios) are close to one (or zero).  When this is done, one unit of the covariate is 10 years, so the generic interpretation of the coefficients remains the same, but the units (per 10 years instead of per 1 year) changes.\n",
    "\n",
    "This of course assumes that the form of our equation relating the log odds of the outcome to the covariate is correct.  In cases where odds of the outcome decreases and increases as a function of the covariate, it is possible to estimate a relatively small effect of the linear covariate, when the outcome may be strongly affected by the covariate, but not in the way the model is specified.  Assessing the linearity of the log odds of the outcome and some discretized form of the covariate can be done graphically.  For instance, we can break age into 5 groups, and estimate the log odds of 28 day mortality in each group."
   ]
  },
  {
   "cell_type": "markdown",
   "id": "47037805",
   "metadata": {},
   "source": [
    "### Hypothesis Testing and Model Selection"
   ]
  },
  {
   "cell_type": "markdown",
   "id": "a6361a01",
   "metadata": {},
   "source": [
    "As was the case when using `lm`, we first fit the two competing models, a larger (alternative model), and a smaller (null model).  Provided that the models are nested, our larger model is the one which contained `service_unit` and `age.cat`, and the smaller only contains `age.cat`, so they are nested.  We are then testing if the log odds ratios for the two coefficients associated with `service_unit` are zero.  Let's call these coefficients $\\beta_{MICU}$ and $\\beta_{SICU}$.  To test if $\\beta_{MICU}$ and $\\beta_{SICU} = 0$, we can perform the following test:\n"
   ]
  },
  {
   "cell_type": "code",
   "execution_count": 31,
   "id": "d4220ae6",
   "metadata": {},
   "outputs": [
    {
     "data": {
      "text/html": [
       "<div>\n",
       "<style scoped>\n",
       "    .dataframe tbody tr th:only-of-type {\n",
       "        vertical-align: middle;\n",
       "    }\n",
       "\n",
       "    .dataframe tbody tr th {\n",
       "        vertical-align: top;\n",
       "    }\n",
       "\n",
       "    .dataframe thead th {\n",
       "        text-align: right;\n",
       "    }\n",
       "</style>\n",
       "<table border=\"1\" class=\"dataframe\">\n",
       "  <thead>\n",
       "    <tr style=\"text-align: right;\">\n",
       "      <th></th>\n",
       "      <th>Model</th>\n",
       "      <th>formula</th>\n",
       "      <th>Df Resid.</th>\n",
       "      <th>Dev.</th>\n",
       "      <th>Df_diff</th>\n",
       "      <th>Pr(&gt;Chi)</th>\n",
       "    </tr>\n",
       "  </thead>\n",
       "  <tbody>\n",
       "    <tr>\n",
       "      <th>0</th>\n",
       "      <td>1</td>\n",
       "      <td>day_28_flg ~ age</td>\n",
       "      <td>1774</td>\n",
       "      <td>1348.676905</td>\n",
       "      <td>NaN</td>\n",
       "      <td>NaN</td>\n",
       "    </tr>\n",
       "    <tr>\n",
       "      <th>1</th>\n",
       "      <td>2</td>\n",
       "      <td>day_28_flg ~ age + service_unit</td>\n",
       "      <td>1772</td>\n",
       "      <td>1343.745416</td>\n",
       "      <td>2.0</td>\n",
       "      <td>0.085237</td>\n",
       "    </tr>\n",
       "  </tbody>\n",
       "</table>\n",
       "</div>"
      ],
      "text/plain": [
       "   Model                          formula  Df Resid.         Dev.  Df_diff  \\\n",
       "0      1                 day_28_flg ~ age       1774  1348.676905      NaN   \n",
       "1      2  day_28_flg ~ age + service_unit       1772  1343.745416      2.0   \n",
       "\n",
       "   Pr(>Chi)  \n",
       "0       NaN  \n",
       "1  0.085237  "
      ]
     },
     "execution_count": 31,
     "metadata": {},
     "output_type": "execute_result"
    }
   ],
   "source": [
    "ep.tl.anova_glm(\n",
    "    age_glm_result,\n",
    "    ageunit_glm_result,\n",
    "    \"day_28_flg ~ age\",\n",
    "    \"day_28_flg ~ age + service_unit\",\n",
    ")"
   ]
  },
  {
   "cell_type": "markdown",
   "id": "14b7e397",
   "metadata": {},
   "source": [
    "A couple good practices to get in a habit are to first make sure the two competing models are correctly specified.  Here we are are testing `~ age.cat` versus `age.cat + service_unit`.  Next, the difference between the residual degrees of freedom (`Resid. Df`) in the two models tell us how many more parameters the larger model has when compared to the smaller model.  Here we see `1774 - 1772 = 2` which means that there are two more coefficients estimated in the larger model than the smaller one, which corresponds with the output from the `summary` table above.  Next looking at the p-value (`Pr(>Chi)`), we see a test for $\\beta_{MICU}$ and $\\beta_{SICU} = 0$ has a p-value of around 0.08.  At the typical 0.05 significance level, we would not reject the null, and use the simpler model without the service unit.  In logistic regression, this is a common way of testing whether a categorical covariate should be retained in the model, as it can be difficult to assess using the `z value` in the `summary` table, particularly when one is very statistically significant, and one is not."
   ]
  },
  {
   "cell_type": "markdown",
   "id": "52486768",
   "metadata": {},
   "source": [
    "### Confidence Intervals"
   ]
  },
  {
   "cell_type": "markdown",
   "id": "759ae2de",
   "metadata": {},
   "source": [
    "Generating confidence intervals for either the log-odds ratios or the odds ratios are relatively straightforward.  To get the log-odds ratios and respective confidence intervals for the `ageunit_glm` model which includes both age and service unit:"
   ]
  },
  {
   "cell_type": "code",
   "execution_count": 32,
   "id": "f44164f7",
   "metadata": {},
   "outputs": [
    {
     "data": {
      "text/plain": [
       "Intercept              -4.209014\n",
       "age_cat[T.>55]          2.161142\n",
       "service_unit[T.MICU]    1.178866\n",
       "service_unit[T.SICU]    1.123443\n",
       "dtype: float64"
      ]
     },
     "execution_count": 32,
     "metadata": {},
     "output_type": "execute_result"
    }
   ],
   "source": [
    "ageunit_glm_result.params"
   ]
  },
  {
   "cell_type": "code",
   "execution_count": 33,
   "id": "eb4e3804",
   "metadata": {},
   "outputs": [
    {
     "data": {
      "text/html": [
       "<div>\n",
       "<style scoped>\n",
       "    .dataframe tbody tr th:only-of-type {\n",
       "        vertical-align: middle;\n",
       "    }\n",
       "\n",
       "    .dataframe tbody tr th {\n",
       "        vertical-align: top;\n",
       "    }\n",
       "\n",
       "    .dataframe thead th {\n",
       "        text-align: right;\n",
       "    }\n",
       "</style>\n",
       "<table border=\"1\" class=\"dataframe\">\n",
       "  <thead>\n",
       "    <tr style=\"text-align: right;\">\n",
       "      <th></th>\n",
       "      <th>0</th>\n",
       "      <th>1</th>\n",
       "    </tr>\n",
       "  </thead>\n",
       "  <tbody>\n",
       "    <tr>\n",
       "      <th>Intercept</th>\n",
       "      <td>-5.429257</td>\n",
       "      <td>-2.988771</td>\n",
       "    </tr>\n",
       "    <tr>\n",
       "      <th>age_cat[T.&gt;55]</th>\n",
       "      <td>1.810733</td>\n",
       "      <td>2.511552</td>\n",
       "    </tr>\n",
       "    <tr>\n",
       "      <th>service_unit[T.MICU]</th>\n",
       "      <td>-0.027452</td>\n",
       "      <td>2.385184</td>\n",
       "    </tr>\n",
       "    <tr>\n",
       "      <th>service_unit[T.SICU]</th>\n",
       "      <td>-0.079611</td>\n",
       "      <td>2.326497</td>\n",
       "    </tr>\n",
       "  </tbody>\n",
       "</table>\n",
       "</div>"
      ],
      "text/plain": [
       "                             0         1\n",
       "Intercept            -5.429257 -2.988771\n",
       "age_cat[T.>55]        1.810733  2.511552\n",
       "service_unit[T.MICU] -0.027452  2.385184\n",
       "service_unit[T.SICU] -0.079611  2.326497"
      ]
     },
     "execution_count": 33,
     "metadata": {},
     "output_type": "execute_result"
    }
   ],
   "source": [
    "ageunit_glm_result.conf_int(alpha=0.05)"
   ]
  },
  {
   "cell_type": "markdown",
   "id": "089cef49",
   "metadata": {},
   "source": [
    "Here the coefficient estimates and confidence intervals are presented in much the same way as for a linear regression. In logistic regression, it is often convenient to exponentiate these quantities to get it on a more interpretable scale."
   ]
  },
  {
   "cell_type": "code",
   "execution_count": 34,
   "id": "13f46ac9",
   "metadata": {},
   "outputs": [
    {
     "data": {
      "text/plain": [
       "Intercept               0.014861\n",
       "age_cat[T.>55]          8.681049\n",
       "service_unit[T.MICU]    3.250686\n",
       "service_unit[T.SICU]    3.075425\n",
       "dtype: float64"
      ]
     },
     "execution_count": 34,
     "metadata": {},
     "output_type": "execute_result"
    }
   ],
   "source": [
    "np.exp(ageunit_glm_result.params)"
   ]
  },
  {
   "cell_type": "code",
   "execution_count": 35,
   "id": "e5ae8a60",
   "metadata": {},
   "outputs": [
    {
     "data": {
      "text/html": [
       "<div>\n",
       "<style scoped>\n",
       "    .dataframe tbody tr th:only-of-type {\n",
       "        vertical-align: middle;\n",
       "    }\n",
       "\n",
       "    .dataframe tbody tr th {\n",
       "        vertical-align: top;\n",
       "    }\n",
       "\n",
       "    .dataframe thead th {\n",
       "        text-align: right;\n",
       "    }\n",
       "</style>\n",
       "<table border=\"1\" class=\"dataframe\">\n",
       "  <thead>\n",
       "    <tr style=\"text-align: right;\">\n",
       "      <th></th>\n",
       "      <th>0</th>\n",
       "      <th>1</th>\n",
       "    </tr>\n",
       "  </thead>\n",
       "  <tbody>\n",
       "    <tr>\n",
       "      <th>Intercept</th>\n",
       "      <td>0.003681</td>\n",
       "      <td>0.059992</td>\n",
       "    </tr>\n",
       "    <tr>\n",
       "      <th>age_cat[T.&gt;55]</th>\n",
       "      <td>5.814857</td>\n",
       "      <td>12.960011</td>\n",
       "    </tr>\n",
       "    <tr>\n",
       "      <th>service_unit[T.MICU]</th>\n",
       "      <td>0.818181</td>\n",
       "      <td>12.915179</td>\n",
       "    </tr>\n",
       "    <tr>\n",
       "      <th>service_unit[T.SICU]</th>\n",
       "      <td>0.776964</td>\n",
       "      <td>12.173333</td>\n",
       "    </tr>\n",
       "  </tbody>\n",
       "</table>\n",
       "</div>"
      ],
      "text/plain": [
       "                             0          1\n",
       "Intercept             0.003681   0.059992\n",
       "age_cat[T.>55]        5.814857  12.960011\n",
       "service_unit[T.MICU]  0.818181  12.915179\n",
       "service_unit[T.SICU]  0.776964  12.173333"
      ]
     },
     "execution_count": 35,
     "metadata": {},
     "output_type": "execute_result"
    }
   ],
   "source": [
    "np.exp(ageunit_glm_result.conf_int(alpha=0.025))"
   ]
  },
  {
   "cell_type": "markdown",
   "id": "4774540e",
   "metadata": {},
   "source": [
    "Similar to linear regression, we will check whether the confidence intervals for the log odds ratios include zero.  This is equivalent to seeing if the intervals for the odds ratios include 1.  Since the odds ratios are more directly interpretable it is often more convenient to report them instead of the coefficients on the log odds ratio scale."
   ]
  },
  {
   "cell_type": "markdown",
   "id": "55fac1de",
   "metadata": {},
   "source": [
    "### Prediction"
   ]
  },
  {
   "cell_type": "markdown",
   "id": "85064f03",
   "metadata": {},
   "source": [
    "Let's first create a new data frame called `newdat` which computes all combinations of the values of variables passed to it."
   ]
  },
  {
   "cell_type": "code",
   "execution_count": 36,
   "id": "1bae70f7",
   "metadata": {},
   "outputs": [
    {
     "data": {
      "text/html": [
       "<div>\n",
       "<style scoped>\n",
       "    .dataframe tbody tr th:only-of-type {\n",
       "        vertical-align: middle;\n",
       "    }\n",
       "\n",
       "    .dataframe tbody tr th {\n",
       "        vertical-align: top;\n",
       "    }\n",
       "\n",
       "    .dataframe thead th {\n",
       "        text-align: right;\n",
       "    }\n",
       "</style>\n",
       "<table border=\"1\" class=\"dataframe\">\n",
       "  <thead>\n",
       "    <tr style=\"text-align: right;\">\n",
       "      <th></th>\n",
       "      <th>age_cat</th>\n",
       "      <th>service_unit</th>\n",
       "    </tr>\n",
       "  </thead>\n",
       "  <tbody>\n",
       "    <tr>\n",
       "      <th>0</th>\n",
       "      <td>&lt;=55</td>\n",
       "      <td>FICU</td>\n",
       "    </tr>\n",
       "    <tr>\n",
       "      <th>1</th>\n",
       "      <td>&lt;=55</td>\n",
       "      <td>MICU</td>\n",
       "    </tr>\n",
       "    <tr>\n",
       "      <th>2</th>\n",
       "      <td>&lt;=55</td>\n",
       "      <td>SICU</td>\n",
       "    </tr>\n",
       "    <tr>\n",
       "      <th>3</th>\n",
       "      <td>&gt;55</td>\n",
       "      <td>FICU</td>\n",
       "    </tr>\n",
       "    <tr>\n",
       "      <th>4</th>\n",
       "      <td>&gt;55</td>\n",
       "      <td>MICU</td>\n",
       "    </tr>\n",
       "    <tr>\n",
       "      <th>5</th>\n",
       "      <td>&gt;55</td>\n",
       "      <td>SICU</td>\n",
       "    </tr>\n",
       "  </tbody>\n",
       "</table>\n",
       "</div>"
      ],
      "text/plain": [
       "  age_cat service_unit\n",
       "0    <=55         FICU\n",
       "1    <=55         MICU\n",
       "2    <=55         SICU\n",
       "3     >55         FICU\n",
       "4     >55         MICU\n",
       "5     >55         SICU"
      ]
     },
     "execution_count": 36,
     "metadata": {},
     "output_type": "execute_result"
    }
   ],
   "source": [
    "def expand_grid(dictionary):\n",
    "    return pd.DataFrame(\n",
    "        [row for row in product(*dictionary.values())], columns=dictionary.keys()\n",
    "    )\n",
    "\n",
    "\n",
    "dictionary = {\"age_cat\": [\"<=55\", \">55\"], \"service_unit\": [\"FICU\", \"MICU\", \"SICU\"]}\n",
    "\n",
    "newdat = expand_grid(dictionary)\n",
    "newdat"
   ]
  },
  {
   "cell_type": "code",
   "execution_count": 37,
   "id": "2113471e",
   "metadata": {},
   "outputs": [
    {
     "data": {
      "text/html": [
       "<div>\n",
       "<style scoped>\n",
       "    .dataframe tbody tr th:only-of-type {\n",
       "        vertical-align: middle;\n",
       "    }\n",
       "\n",
       "    .dataframe tbody tr th {\n",
       "        vertical-align: top;\n",
       "    }\n",
       "\n",
       "    .dataframe thead th {\n",
       "        text-align: right;\n",
       "    }\n",
       "</style>\n",
       "<table border=\"1\" class=\"dataframe\">\n",
       "  <thead>\n",
       "    <tr style=\"text-align: right;\">\n",
       "      <th></th>\n",
       "      <th>age_cat</th>\n",
       "      <th>service_unit</th>\n",
       "      <th>pred</th>\n",
       "    </tr>\n",
       "  </thead>\n",
       "  <tbody>\n",
       "    <tr>\n",
       "      <th>0</th>\n",
       "      <td>&lt;=55</td>\n",
       "      <td>FICU</td>\n",
       "      <td>0.014643</td>\n",
       "    </tr>\n",
       "    <tr>\n",
       "      <th>1</th>\n",
       "      <td>&lt;=55</td>\n",
       "      <td>MICU</td>\n",
       "      <td>0.046082</td>\n",
       "    </tr>\n",
       "    <tr>\n",
       "      <th>2</th>\n",
       "      <td>&lt;=55</td>\n",
       "      <td>SICU</td>\n",
       "      <td>0.043706</td>\n",
       "    </tr>\n",
       "    <tr>\n",
       "      <th>3</th>\n",
       "      <td>&gt;55</td>\n",
       "      <td>FICU</td>\n",
       "      <td>0.114268</td>\n",
       "    </tr>\n",
       "    <tr>\n",
       "      <th>4</th>\n",
       "      <td>&gt;55</td>\n",
       "      <td>MICU</td>\n",
       "      <td>0.295461</td>\n",
       "    </tr>\n",
       "    <tr>\n",
       "      <th>5</th>\n",
       "      <td>&gt;55</td>\n",
       "      <td>SICU</td>\n",
       "      <td>0.284056</td>\n",
       "    </tr>\n",
       "  </tbody>\n",
       "</table>\n",
       "</div>"
      ],
      "text/plain": [
       "  age_cat service_unit      pred\n",
       "0    <=55         FICU  0.014643\n",
       "1    <=55         MICU  0.046082\n",
       "2    <=55         SICU  0.043706\n",
       "3     >55         FICU  0.114268\n",
       "4     >55         MICU  0.295461\n",
       "5     >55         SICU  0.284056"
      ]
     },
     "execution_count": 37,
     "metadata": {},
     "output_type": "execute_result"
    }
   ],
   "source": [
    "newdat[\"pred\"] = ageunit_glm_result.predict(newdat)\n",
    "newdat"
   ]
  },
  {
   "cell_type": "markdown",
   "id": "01abab1b",
   "metadata": {},
   "source": [
    "## Survival Analysis"
   ]
  },
  {
   "cell_type": "markdown",
   "id": "a45af782",
   "metadata": {},
   "source": [
    "### correct the observation"
   ]
  },
  {
   "cell_type": "code",
   "execution_count": 38,
   "id": "d76f007b",
   "metadata": {},
   "outputs": [],
   "source": [
    "adata_subset = adata[\n",
    "    :, [\"mort_day_censored\", \"censor_flg\", \"gender_num\", \"service_unit\"]\n",
    "]"
   ]
  },
  {
   "cell_type": "markdown",
   "id": "9d84b1ef",
   "metadata": {},
   "source": [
    "Normally, you can skip the next step, but since this dataset was used to analyze\n",
    "the data in a slightly different way, we need to correct the observation times for a\n",
    "subset of the subjects in the dataset."
   ]
  },
  {
   "cell_type": "code",
   "execution_count": 39,
   "id": "fc657322",
   "metadata": {},
   "outputs": [],
   "source": [
    "adata_subset[:, [\"mort_day_censored\"]].X[adata_subset[:, [\"censor_flg\"]].X == 1] = 731"
   ]
  },
  {
   "cell_type": "markdown",
   "id": "3bebcb14",
   "metadata": {},
   "source": [
    "### Kaplan-Meier Survival Curves"
   ]
  },
  {
   "cell_type": "markdown",
   "id": "40c21c9f",
   "metadata": {},
   "source": [
    "Kaplan-Meier plots are one of the most widely used plots in medical research. We can use `ehrapy.tools.kmp` (`ep.tl.kmp`), which internally calls KaplanMeierFitter, to fit the Kaplan-Meier estimate for the survival function. The function normally takes two arguments: a vector of times, and some kind of indicator for which patients had an event (death in our case). In our case, the vector of death and censoring times are the mort_day_censored, and deaths are coded with a zero in the censor_flg variable."
   ]
  },
  {
   "cell_type": "markdown",
   "id": "7b370373",
   "metadata": {},
   "source": [
    "Note that in the MIMIC-II database, `censor_fl` is censored or death (binary: 0 = death, 1 = censored). <br /> In KaplanMeierFitter, `event_observed` is True if the the death was observed, False if the event was lost (right-censored). <br /> So we need to flip `censor_fl` when pass `censor_fl` to KaplanMeierFitter:"
   ]
  },
  {
   "cell_type": "code",
   "execution_count": 40,
   "id": "78ad7e16",
   "metadata": {},
   "outputs": [],
   "source": [
    "adata_subset[:, [\"censor_flg\"]].X = np.where(\n",
    "    adata_subset[:, [\"censor_flg\"]].X == 0, 1, 0\n",
    ")"
   ]
  },
  {
   "cell_type": "markdown",
   "id": "d5b3e5f8",
   "metadata": {},
   "source": [
    "Fitting a Kaplan-Meier curve is quite easy, and we want to ‘fit’ by gender (gender_num). The default alpha value of KaplanMeierFitter is 0.05, which is 95 % confidence intervals for the survival functions. Lastly we add a legend, coding black for the women and red for the men."
   ]
  },
  {
   "cell_type": "code",
   "execution_count": 41,
   "id": "29f39b88",
   "metadata": {},
   "outputs": [],
   "source": [
    "T = adata_subset[:, [\"mort_day_censored\"]].X\n",
    "E = adata_subset[:, [\"censor_flg\"]].X\n",
    "groups = adata_subset[:, [\"gender_num\"]].X\n",
    "ix1 = groups == 0\n",
    "ix2 = groups == 1\n",
    "kmf_1 = ep.tl.kmf(T[ix1], E[ix1], label=\"Women\")\n",
    "kmf_2 = ep.tl.kmf(T[ix2], E[ix2], label=\"Men\")"
   ]
  },
  {
   "cell_type": "code",
   "execution_count": 42,
   "id": "0a56f14b",
   "metadata": {},
   "outputs": [
    {
     "data": {
      "image/png": "[encoded data removed]",
      "text/plain": [
       "<Figure size 432x288 with 1 Axes>"
      ]
     },
     "metadata": {
      "needs_background": "light"
     },
     "output_type": "display_data"
    }
   ],
   "source": [
    "ep.pl.kmf(\n",
    "    [kmf_1, kmf_2],\n",
    "    color=[\"k\", \"r\"],\n",
    "    xlim=[0, 750],\n",
    "    ylim=[0, 1],\n",
    "    xlabel=\"Days\",\n",
    "    ylabel=\"Proportion Who Survived\",\n",
    "    show=True,\n",
    ")"
   ]
  },
  {
   "cell_type": "markdown",
   "id": "a9deba3f",
   "metadata": {},
   "source": [
    "As the above figure shows, there appears to be a difference between the survival function between the two gender groups, with again the male group (red) dying at slightly slower rate than the female group (black). We have included 95 % point-wise confidence bands for the survival function estimate, which assesses how much certain we are about the estimated survivorship at each point in time.\n",
    "\n",
    "We can do the same for `service_unit`, but since it has three groups, we need to change the color argument and legend to ensure the plot is properly labelled. "
   ]
  },
  {
   "cell_type": "code",
   "execution_count": 43,
   "id": "dce0678e",
   "metadata": {},
   "outputs": [],
   "source": [
    "groups = adata_subset[:, [\"service_unit\"]].X\n",
    "ix1 = groups == \"FICU\"\n",
    "ix2 = groups == \"MICU\"\n",
    "ix3 = groups == \"SICU\"\n",
    "kmf_1 = ep.tl.kmf(T[ix1], E[ix1], label=\"FICU\")\n",
    "kmf_2 = ep.tl.kmf(T[ix2], E[ix2], label=\"MICU\")\n",
    "kmf_3 = ep.tl.kmf(T[ix3], E[ix3], label=\"SICU\")"
   ]
  },
  {
   "cell_type": "code",
   "execution_count": 44,
   "id": "5b90b2fe",
   "metadata": {},
   "outputs": [
    {
     "data": {
      "image/png": "[encoded data removed]",
      "text/plain": [
       "<Figure size 432x288 with 1 Axes>"
      ]
     },
     "metadata": {
      "needs_background": "light"
     },
     "output_type": "display_data"
    }
   ],
   "source": [
    "ep.pl.kmf(\n",
    "    [kmf_1, kmf_2, kmf_3],\n",
    "    ci_show=[False, False, False],\n",
    "    color=[\"k\", \"r\", \"g\"],\n",
    "    xlim=[0, 750],\n",
    "    ylim=[0, 1],\n",
    "    xlabel=\"Days\",\n",
    "    ylabel=\"Proportion Who Survived\",\n",
    "    show=True,\n",
    ")"
   ]
  },
  {
   "cell_type": "markdown",
   "id": "ed1926ff",
   "metadata": {},
   "source": [
    "### Cox Proportional Hazards Models"
   ]
  },
  {
   "cell_type": "markdown",
   "id": "7c529cf1",
   "metadata": {},
   "source": [
    "The most popular approach for modelling time to event outcomes in health data is likely the Cox Proportional Hazards Model, which is also sometimes called the Cox model or Cox Regression. As the name implies this method models something called the hazard function.\n",
    "\n",
    "The hazard function is a function of time (hours, days, years) and is approximately the instantaneous probability of the event occurring (i.e., chance the event is happening in some very small time window) given the event has not already happened."
   ]
  },
  {
   "cell_type": "code",
   "execution_count": 45,
   "id": "ad50558f",
   "metadata": {},
   "outputs": [],
   "source": [
    "adata_subset = adata_subset[:, [\"mort_day_censored\", \"censor_flg\", \"gender_num\"]]"
   ]
  },
  {
   "cell_type": "markdown",
   "id": "f894a29b",
   "metadata": {},
   "source": [
    "The CoxPHFitter function (from the lifelines package) is the fitting function for Cox models. In our case, let’s continue our example of using gender (`gender_num`) to model the datSurv outcome we created, and running the summary function to see what information is outputted."
   ]
  },
  {
   "cell_type": "code",
   "execution_count": 46,
   "id": "dec473d4",
   "metadata": {},
   "outputs": [
    {
     "data": {
      "text/plain": [
       "ArrayView([[11.92],\n",
       "           [731.0],\n",
       "           [731.0],\n",
       "           ...,\n",
       "           [62.21],\n",
       "           [234.13],\n",
       "           [731.0]], dtype=object)"
      ]
     },
     "execution_count": 46,
     "metadata": {},
     "output_type": "execute_result"
    }
   ],
   "source": [
    "adata_subset[:, [\"mort_day_censored\"]].X"
   ]
  },
  {
   "cell_type": "markdown",
   "id": "fb2caf51",
   "metadata": {},
   "source": [
    "Because `CoxPHFitter.fit()` needs a Pandas DataFrame as input, we have to convert AnnData to DataFrame."
   ]
  },
  {
   "cell_type": "code",
   "execution_count": 47,
   "id": "bb3309fb",
   "metadata": {},
   "outputs": [],
   "source": [
    "data = ep.ad.anndata_to_df(adata_subset)\n",
    "data = data.dropna()"
   ]
  },
  {
   "cell_type": "code",
   "execution_count": 48,
   "id": "25d3bcb3",
   "metadata": {},
   "outputs": [
    {
     "data": {
      "text/plain": [
       "<lifelines.CoxPHFitter: fitted with 1775 total observations, 1278 right-censored observations>"
      ]
     },
     "execution_count": 48,
     "metadata": {},
     "output_type": "execute_result"
    }
   ],
   "source": [
    "gender_coxph = ep.tl.cox_ph(adata_subset, duration_col=\"mort_day_censored\", event_col=\"censor_flg\")"
   ]
  },
  {
   "cell_type": "code",
   "execution_count": 49,
   "id": "e33bc61c",
   "metadata": {},
   "outputs": [
    {
     "data": {
      "text/html": [
       "<div>\n",
       "<style scoped>\n",
       "    .dataframe tbody tr th:only-of-type {\n",
       "        vertical-align: middle;\n",
       "    }\n",
       "\n",
       "    .dataframe tbody tr th {\n",
       "        vertical-align: top;\n",
       "    }\n",
       "\n",
       "    .dataframe thead th {\n",
       "        text-align: right;\n",
       "    }\n",
       "</style>\n",
       "<table border=\"1\" class=\"dataframe\">\n",
       "  <tbody>\n",
       "    <tr>\n",
       "      <th>model</th>\n",
       "      <td>lifelines.CoxPHFitter</td>\n",
       "    </tr>\n",
       "    <tr>\n",
       "      <th>duration col</th>\n",
       "      <td>'mort_day_censored'</td>\n",
       "    </tr>\n",
       "    <tr>\n",
       "      <th>event col</th>\n",
       "      <td>'censor_flg'</td>\n",
       "    </tr>\n",
       "    <tr>\n",
       "      <th>baseline estimation</th>\n",
       "      <td>breslow</td>\n",
       "    </tr>\n",
       "    <tr>\n",
       "      <th>number of observations</th>\n",
       "      <td>1775</td>\n",
       "    </tr>\n",
       "    <tr>\n",
       "      <th>number of events observed</th>\n",
       "      <td>497</td>\n",
       "    </tr>\n",
       "    <tr>\n",
       "      <th>partial log-likelihood</th>\n",
       "      <td>-3636.11</td>\n",
       "    </tr>\n",
       "    <tr>\n",
       "      <th>time fit was run</th>\n",
       "      <td>2022-08-09 10:04:22 UTC</td>\n",
       "    </tr>\n",
       "  </tbody>\n",
       "</table>\n",
       "</div><table border=\"1\" class=\"dataframe\">\n",
       "  <thead>\n",
       "    <tr style=\"text-align: right;\">\n",
       "      <th style=\"min-width: 12px;\"></th>\n",
       "      <th style=\"min-width: 12px;\">coef</th>\n",
       "      <th style=\"min-width: 12px;\">exp(coef)</th>\n",
       "      <th style=\"min-width: 12px;\">se(coef)</th>\n",
       "      <th style=\"min-width: 12px;\">coef lower 95%</th>\n",
       "      <th style=\"min-width: 12px;\">coef upper 95%</th>\n",
       "      <th style=\"min-width: 12px;\">exp(coef) lower 95%</th>\n",
       "      <th style=\"min-width: 12px;\">exp(coef) upper 95%</th>\n",
       "      <th style=\"min-width: 12px;\">cmp to</th>\n",
       "      <th style=\"min-width: 12px;\">z</th>\n",
       "      <th style=\"min-width: 12px;\">p</th>\n",
       "      <th style=\"min-width: 12px;\">-log2(p)</th>\n",
       "    </tr>\n",
       "  </thead>\n",
       "  <tbody>\n",
       "    <tr>\n",
       "      <th>gender_num</th>\n",
       "      <td>-0.29</td>\n",
       "      <td>0.75</td>\n",
       "      <td>0.09</td>\n",
       "      <td>-0.47</td>\n",
       "      <td>-0.11</td>\n",
       "      <td>0.63</td>\n",
       "      <td>0.89</td>\n",
       "      <td>0.00</td>\n",
       "      <td>-3.24</td>\n",
       "      <td>&lt;0.005</td>\n",
       "      <td>9.71</td>\n",
       "    </tr>\n",
       "  </tbody>\n",
       "</table><br><div>\n",
       "<style scoped>\n",
       "    .dataframe tbody tr th:only-of-type {\n",
       "        vertical-align: middle;\n",
       "    }\n",
       "\n",
       "    .dataframe tbody tr th {\n",
       "        vertical-align: top;\n",
       "    }\n",
       "\n",
       "    .dataframe thead th {\n",
       "        text-align: right;\n",
       "    }\n",
       "</style>\n",
       "<table border=\"1\" class=\"dataframe\">\n",
       "  <tbody>\n",
       "    <tr>\n",
       "      <th>Concordance</th>\n",
       "      <td>0.54</td>\n",
       "    </tr>\n",
       "    <tr>\n",
       "      <th>Partial AIC</th>\n",
       "      <td>7274.23</td>\n",
       "    </tr>\n",
       "    <tr>\n",
       "      <th>log-likelihood ratio test</th>\n",
       "      <td>10.43 on 1 df</td>\n",
       "    </tr>\n",
       "    <tr>\n",
       "      <th>-log2(p) of ll-ratio test</th>\n",
       "      <td>9.65</td>\n",
       "    </tr>\n",
       "  </tbody>\n",
       "</table>\n",
       "</div>"
      ],
      "text/latex": [
       "\\begin{tabular}{lrrrrrrrrrrr}\n",
       "\\toprule\n",
       "{} &  coef &  exp(coef) &  se(coef) &  coef lower 95\\% &  coef upper 95\\% &  exp(coef) lower 95\\% &  exp(coef) upper 95\\% &  cmp to &     z &    p &  -log2(p) \\\\\n",
       "covariate  &       &            &           &                 &                 &                      &                      &         &       &      &           \\\\\n",
       "\\midrule\n",
       "gender\\_num & -0.29 &       0.75 &      0.09 &           -0.47 &           -0.11 &                 0.63 &                 0.89 &    0.00 & -3.24 & 0.00 &      9.71 \\\\\n",
       "\\bottomrule\n",
       "\\end{tabular}\n"
      ],
      "text/plain": [
       "<lifelines.CoxPHFitter: fitted with 1775 total observations, 1278 right-censored observations>\n",
       "             duration col = 'mort_day_censored'\n",
       "                event col = 'censor_flg'\n",
       "      baseline estimation = breslow\n",
       "   number of observations = 1775\n",
       "number of events observed = 497\n",
       "   partial log-likelihood = -3636.11\n",
       "         time fit was run = 2022-08-09 10:04:22 UTC\n",
       "\n",
       "---\n",
       "             coef  exp(coef)   se(coef)   coef lower 95%   coef upper 95%  exp(coef) lower 95%  exp(coef) upper 95%\n",
       "covariate                                                                                                          \n",
       "gender_num  -0.29       0.75       0.09            -0.47            -0.11                 0.63                 0.89\n",
       "\n",
       "             cmp to     z      p   -log2(p)\n",
       "covariate                                  \n",
       "gender_num     0.00 -3.24 <0.005       9.71\n",
       "---\n",
       "Concordance = 0.54\n",
       "Partial AIC = 7274.23\n",
       "log-likelihood ratio test = 10.43 on 1 df\n",
       "-log2(p) of ll-ratio test = 9.65"
      ]
     },
     "metadata": {},
     "output_type": "display_data"
    }
   ],
   "source": [
    "gender_coxph.print_summary()"
   ]
  },
  {
   "cell_type": "markdown",
   "id": "940fc860",
   "metadata": {},
   "source": [
    "The coefficients table has the familiar format, which we’ve seen before. The\n",
    "coef for `gender_num` is about −0.29, and this is the estimate of our log-hazard\n",
    "ratio. As discussed, taking the exponential of this gives the hazard ratio (HR),\n",
    "which the summary output computes in the next column (exp(coef)). Here, the\n",
    "HR is estimated at 0.75, indicating that men have about a 25 % reduction in the\n",
    "hazards of death, under the proportional hazards assumption."
   ]
  },
  {
   "cell_type": "markdown",
   "id": "5f268730",
   "metadata": {},
   "source": [
    "The next column in the coefficient table has the standard error for the log hazard\n",
    "ratio, followed by the z score and p-value (Pr(>|z|)), which is very similar to\n",
    "what we saw in the case of logistic regression. Here we see the p-value is quite\n",
    "small, and we would reject the null hypothesis that the hazard functions are the\n",
    "same between men and women. This is consistent with the exploratory figures we\n",
    "produced using Kaplan-Meier curves in the previous section."
   ]
  },
  {
   "cell_type": "markdown",
   "id": "e1a62587",
   "metadata": {},
   "source": [
    "For CoxPHFitter, the\n",
    "summary function also conveniently outputs the confidence interval of the HR a\n",
    "few lines down, and here our estimate of the HR is 0.75 (95 % CI: 0.63–0.89,\n",
    "p = 0.001). This is how the HR would typically be reported."
   ]
  },
  {
   "cell_type": "markdown",
   "id": "bf8e565e",
   "metadata": {},
   "source": [
    "Using more than one covariate works the same as our other analysis techniques.\n",
    "Adding a co-morbidity to the model such as atrial fibrillation (`afib_flg`) can be\n",
    "done as you would do for logistic regression. Because fit a Cox Proportional Hazards Models using CoxPHFitter requires a Pandas DataFrame as input, we also need to create a DataFrame from AnnData."
   ]
  },
  {
   "cell_type": "code",
   "execution_count": 52,
   "id": "22fb2860",
   "metadata": {},
   "outputs": [
    {
     "data": {
      "text/html": [
       "<div>\n",
       "<style scoped>\n",
       "    .dataframe tbody tr th:only-of-type {\n",
       "        vertical-align: middle;\n",
       "    }\n",
       "\n",
       "    .dataframe tbody tr th {\n",
       "        vertical-align: top;\n",
       "    }\n",
       "\n",
       "    .dataframe thead th {\n",
       "        text-align: right;\n",
       "    }\n",
       "</style>\n",
       "<table border=\"1\" class=\"dataframe\">\n",
       "  <tbody>\n",
       "    <tr>\n",
       "      <th>model</th>\n",
       "      <td>lifelines.CoxPHFitter</td>\n",
       "    </tr>\n",
       "    <tr>\n",
       "      <th>duration col</th>\n",
       "      <td>'mort_day_censored'</td>\n",
       "    </tr>\n",
       "    <tr>\n",
       "      <th>event col</th>\n",
       "      <td>'censor_flg'</td>\n",
       "    </tr>\n",
       "    <tr>\n",
       "      <th>baseline estimation</th>\n",
       "      <td>breslow</td>\n",
       "    </tr>\n",
       "    <tr>\n",
       "      <th>number of observations</th>\n",
       "      <td>1775</td>\n",
       "    </tr>\n",
       "    <tr>\n",
       "      <th>number of events observed</th>\n",
       "      <td>497</td>\n",
       "    </tr>\n",
       "    <tr>\n",
       "      <th>partial log-likelihood</th>\n",
       "      <td>-3567.43</td>\n",
       "    </tr>\n",
       "    <tr>\n",
       "      <th>time fit was run</th>\n",
       "      <td>2022-08-09 10:04:22 UTC</td>\n",
       "    </tr>\n",
       "  </tbody>\n",
       "</table>\n",
       "</div><table border=\"1\" class=\"dataframe\">\n",
       "  <thead>\n",
       "    <tr style=\"text-align: right;\">\n",
       "      <th style=\"min-width: 12px;\"></th>\n",
       "      <th style=\"min-width: 12px;\">coef</th>\n",
       "      <th style=\"min-width: 12px;\">exp(coef)</th>\n",
       "      <th style=\"min-width: 12px;\">se(coef)</th>\n",
       "      <th style=\"min-width: 12px;\">coef lower 95%</th>\n",
       "      <th style=\"min-width: 12px;\">coef upper 95%</th>\n",
       "      <th style=\"min-width: 12px;\">exp(coef) lower 95%</th>\n",
       "      <th style=\"min-width: 12px;\">exp(coef) upper 95%</th>\n",
       "      <th style=\"min-width: 12px;\">cmp to</th>\n",
       "      <th style=\"min-width: 12px;\">z</th>\n",
       "      <th style=\"min-width: 12px;\">p</th>\n",
       "      <th style=\"min-width: 12px;\">-log2(p)</th>\n",
       "    </tr>\n",
       "  </thead>\n",
       "  <tbody>\n",
       "    <tr>\n",
       "      <th>gender_num</th>\n",
       "      <td>-0.26</td>\n",
       "      <td>0.77</td>\n",
       "      <td>0.09</td>\n",
       "      <td>-0.44</td>\n",
       "      <td>-0.08</td>\n",
       "      <td>0.65</td>\n",
       "      <td>0.92</td>\n",
       "      <td>0.00</td>\n",
       "      <td>-2.88</td>\n",
       "      <td>&lt;0.005</td>\n",
       "      <td>7.99</td>\n",
       "    </tr>\n",
       "    <tr>\n",
       "      <th>afib_flg</th>\n",
       "      <td>1.34</td>\n",
       "      <td>3.84</td>\n",
       "      <td>0.10</td>\n",
       "      <td>1.14</td>\n",
       "      <td>1.54</td>\n",
       "      <td>3.14</td>\n",
       "      <td>4.68</td>\n",
       "      <td>0.00</td>\n",
       "      <td>13.18</td>\n",
       "      <td>&lt;0.005</td>\n",
       "      <td>129.37</td>\n",
       "    </tr>\n",
       "  </tbody>\n",
       "</table><br><div>\n",
       "<style scoped>\n",
       "    .dataframe tbody tr th:only-of-type {\n",
       "        vertical-align: middle;\n",
       "    }\n",
       "\n",
       "    .dataframe tbody tr th {\n",
       "        vertical-align: top;\n",
       "    }\n",
       "\n",
       "    .dataframe thead th {\n",
       "        text-align: right;\n",
       "    }\n",
       "</style>\n",
       "<table border=\"1\" class=\"dataframe\">\n",
       "  <tbody>\n",
       "    <tr>\n",
       "      <th>Concordance</th>\n",
       "      <td>0.61</td>\n",
       "    </tr>\n",
       "    <tr>\n",
       "      <th>Partial AIC</th>\n",
       "      <td>7138.85</td>\n",
       "    </tr>\n",
       "    <tr>\n",
       "      <th>log-likelihood ratio test</th>\n",
       "      <td>147.80 on 2 df</td>\n",
       "    </tr>\n",
       "    <tr>\n",
       "      <th>-log2(p) of ll-ratio test</th>\n",
       "      <td>106.62</td>\n",
       "    </tr>\n",
       "  </tbody>\n",
       "</table>\n",
       "</div>"
      ],
      "text/latex": [
       "\\begin{tabular}{lrrrrrrrrrrr}\n",
       "\\toprule\n",
       "{} &  coef &  exp(coef) &  se(coef) &  coef lower 95\\% &  coef upper 95\\% &  exp(coef) lower 95\\% &  exp(coef) upper 95\\% &  cmp to &     z &    p &  -log2(p) \\\\\n",
       "covariate  &       &            &           &                 &                 &                      &                      &         &       &      &           \\\\\n",
       "\\midrule\n",
       "gender\\_num & -0.26 &       0.77 &      0.09 &           -0.44 &           -0.08 &                 0.65 &                 0.92 &    0.00 & -2.88 & 0.00 &      7.99 \\\\\n",
       "afib\\_flg   &  1.34 &       3.84 &      0.10 &            1.14 &            1.54 &                 3.14 &                 4.68 &    0.00 & 13.18 & 0.00 &    129.37 \\\\\n",
       "\\bottomrule\n",
       "\\end{tabular}\n"
      ],
      "text/plain": [
       "<lifelines.CoxPHFitter: fitted with 1775 total observations, 1278 right-censored observations>\n",
       "             duration col = 'mort_day_censored'\n",
       "                event col = 'censor_flg'\n",
       "      baseline estimation = breslow\n",
       "   number of observations = 1775\n",
       "number of events observed = 497\n",
       "   partial log-likelihood = -3567.43\n",
       "         time fit was run = 2022-08-09 10:04:22 UTC\n",
       "\n",
       "---\n",
       "             coef  exp(coef)   se(coef)   coef lower 95%   coef upper 95%  exp(coef) lower 95%  exp(coef) upper 95%\n",
       "covariate                                                                                                          \n",
       "gender_num  -0.26       0.77       0.09            -0.44            -0.08                 0.65                 0.92\n",
       "afib_flg     1.34       3.84       0.10             1.14             1.54                 3.14                 4.68\n",
       "\n",
       "             cmp to     z      p   -log2(p)\n",
       "covariate                                  \n",
       "gender_num     0.00 -2.88 <0.005       7.99\n",
       "afib_flg       0.00 13.18 <0.005     129.37\n",
       "---\n",
       "Concordance = 0.61\n",
       "Partial AIC = 7138.85\n",
       "log-likelihood ratio test = 147.80 on 2 df\n",
       "-log2(p) of ll-ratio test = 106.62"
      ]
     },
     "metadata": {},
     "output_type": "display_data"
    }
   ],
   "source": [
    "adata_subset = adata[:, [\"mort_day_censored\", \"censor_flg\", \"gender_num\", \"afib_flg\"]]\n",
    "\n",
    "genderafib_coxph = ep.tl.cox_ph(adata_subset, duration_col=\"mort_day_censored\", event_col=\"censor_flg\")\n",
    "genderafib_coxph.print_summary()"
   ]
  },
  {
   "cell_type": "markdown",
   "id": "cb2a3ba1",
   "metadata": {},
   "source": [
    "Here again male gender is associated with reduced time to death, while atrial fibrillation increases the hazard of death by almost four-fold. Both are statistically significant in the summary output.\n",
    "\n",
    "Cox regression also allows one to use covariates which change over time. This would allow one to incorporate changes in treatment, disease severity, etc. within the same patient without need for any different methodology. The major challenge to do this is mainly in the construction of the dataset, which is discussed in some of the references at the end of this chapter. Some care is required when the time dependent covariate is only measured periodically, as the method requires that it be known at every event time for the entire cohort of patients, and not just those relevant to the patient in question. This is more practical for changes in treatment which may be recorded with some precision, particularly in a database like MIMIC II, and less so for laboratory results which may be measured at the resolution of hours, days or weeks. Interpolating between lab values or carrying the last observation forward has been shown to introduce several types of problems."
   ]
  },
  {
   "cell_type": "markdown",
   "id": "7119c2fb",
   "metadata": {},
   "source": [
    "### Caveats and Conclusions"
   ]
  },
  {
   "cell_type": "markdown",
   "id": "54524c51",
   "metadata": {},
   "source": [
    "Survival analysis is distinguished from other forms of analyses covered in this Chapter, as it allows the data to be censored. As was the case for the other approaches we considered, there are modeling assumptions. For instance, it is important that the censoring is not informative of the survival time. For example, if censoring occurs when treatment is withdrawn because the patient is too sick to continue therapy, this would be an example of informative censoring. The validity of all methods discussed in this section are then invalid. Care should be taken to make sure you understand the censoring mechanism as to avoid any false inferences drawn.\n",
    "\n",
    "Assessment of the proportional hazards assumption is an important part of any Cox regression analysis. We refer you to the references at the end of this chapter for strategies and alternatives for when the proportional hazards assumption breaks down. In some circumstances, the proportional hazards assumption is not valid, and alternative approaches can be used. As is always the case, when outcomes are dependent (e.g., one patient may contribute more than one observation), the methods discussed in this section should not be used directly. Generally the standard error estimates will be too small, and p-values will be incorrect. The concerns in logistic regression regarding outliers, co-linearity, missing data, and covariates with sparse outcomes apply here as well, as do the concerns about model misspecification for continuous covariates."
   ]
  }
 ],
 "metadata": {
  "interpreter": {
   "hash": "4ebbee468332224025c1d8a5f51338ab29e79b708cc8a093850abd5116748064"
  },
  "kernelspec": {
   "display_name": "Python 3 (ipykernel)",
   "language": "python",
   "name": "python3"
  },
  "language_info": {
   "codemirror_mode": {
    "name": "ipython",
    "version": 3
   },
   "file_extension": ".py",
   "mimetype": "text/x-python",
   "name": "python",
   "nbconvert_exporter": "python",
   "pygments_lexer": "ipython3",
   "version": "3.10.11"
  }
 },
 "nbformat": 4,
 "nbformat_minor": 5
}
