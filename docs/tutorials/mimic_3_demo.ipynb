{
 "cells": [
  {
   "cell_type": "code",
   "execution_count": 4,
   "id": "6cfd5fb8-7c32-4dba-b050-4be1c5bb5e38",
   "metadata": {},
   "outputs": [],
   "source": [
    "import ehrapy as ep"
   ]
  },
  {
   "cell_type": "code",
   "execution_count": 5,
   "id": "55c7bc26-727a-4905-b607-fc3541555e09",
   "metadata": {},
   "outputs": [
    {
     "name": "stderr",
     "output_type": "stream",
     "text": [
      "/home/zeth/PycharmProjects/ehrapy/ehrapy/io/_read.py:272: DtypeWarning: Columns (17,20,21) have mixed types.Specify dtype option on import or set low_memory=False.\n",
      "  dfs = _read_multiple_csv(filename, sep=extension, return_dfs=True)\n",
      "/home/zeth/PycharmProjects/ehrapy/ehrapy/io/_read.py:272: DtypeWarning: Columns (8,10,13,14) have mixed types.Specify dtype option on import or set low_memory=False.\n",
      "  dfs = _read_multiple_csv(filename, sep=extension, return_dfs=True)\n"
     ]
    }
   ],
   "source": [
    "dfs = ep.dt.mimic_3_demo()"
   ]
  },
  {
   "cell_type": "code",
   "execution_count": 7,
   "id": "cbbd7855-51ca-4771-9dd0-26483868bdd0",
   "metadata": {},
   "outputs": [
    {
     "data": {
      "text/plain": [
       "dict_keys(['DRGCODES', 'CAREGIVERS', 'INPUTEVENTS_CV', 'D_ICD_PROCEDURES', 'CALLOUT', 'LABEVENTS', 'PRESCRIPTIONS', 'DATETIMEEVENTS', 'INPUTEVENTS_MV', 'CPTEVENTS', 'D_LABITEMS', 'DIAGNOSES_ICD', 'D_ITEMS', 'D_CPT', 'PROCEDURES_ICD', 'OUTPUTEVENTS', 'CHARTEVENTS', 'NOTEEVENTS', 'ICUSTAYS', 'MICROBIOLOGYEVENTS', 'D_ICD_DIAGNOSES', 'ADMISSIONS', 'PROCEDUREEVENTS_MV', 'PATIENTS', 'TRANSFERS', 'SERVICES'])"
      ]
     },
     "execution_count": 7,
     "metadata": {},
     "output_type": "execute_result"
    }
   ],
   "source": [
    "dfs.keys()"
   ]
  },
  {
   "cell_type": "code",
   "execution_count": null,
   "id": "da2ed657",
   "metadata": {},
   "outputs": [],
   "source": []
  }
 ],
 "metadata": {
  "kernelspec": {
   "display_name": "Python 3 (ipykernel)",
   "language": "python",
   "name": "python3"
  },
  "language_info": {
   "codemirror_mode": {
    "name": "ipython",
    "version": 3
   },
   "file_extension": ".py",
   "mimetype": "text/x-python",
   "name": "python",
   "nbconvert_exporter": "python",
   "pygments_lexer": "ipython3",
   "version": "3.8.13"
  }
 },
 "nbformat": 4,
 "nbformat_minor": 5
}
