{
 "cells": [
  {
   "cell_type": "markdown",
   "id": "b6f24a07",
   "metadata": {},
   "source": [
    "# FHIR example"
   ]
  },
  {
   "cell_type": "markdown",
   "id": "313d8824",
   "metadata": {},
   "source": [
    "FHIR (Fast Healthcare Interoperability Resources) is a standard for healthcare data exchange, developed by Health Level Seven International (HL7). It is built on modern web technologies and is designed to enable easier access to healthcare information, supporting JSON, XML, and RDF formats for data representation. FHIR defines a set of \"resources\" that represent granular clinical concepts, like patients, admissions, and medications, facilitating integration with existing healthcare systems and the development of new applications.\n",
    "\n",
    "We want to emphasize that FHIR data is primarily designed for data exchanged and not for observational retrospective data. Such data should be stored in OMOP format."
   ]
  },
  {
   "cell_type": "markdown",
   "id": "f55d3b7f",
   "metadata": {},
   "source": [
    "Here, we'll show a quick example on a synthetic dataset to demonstrate how one could work with FHIR data in ehrapy."
   ]
  },
  {
   "cell_type": "code",
   "execution_count": 1,
   "metadata": {},
   "outputs": [],
   "source": [
    "import ehrapy as ep"
   ]
  },
  {
   "cell_type": "markdown",
   "id": "9a1ff75b",
   "metadata": {},
   "source": []
  },
  {
   "cell_type": "code",
   "execution_count": null,
   "id": "4b27e7ec",
   "metadata": {},
   "outputs": [
    {
     "name": "stdout",
     "output_type": "stream",
     "text": [
      "--2023-12-18 13:57:47--  https://synthetichealth.github.io/synthea-sample-data/downloads/latest/synthea_sample_data_fhir_latest.zip\n",
      "Loaded CA certificate '/etc/ssl/certs/ca-certificates.crt'\n",
      "Resolving synthetichealth.github.io (synthetichealth.github.io)... 185.199.110.153, 185.199.108.153, 185.199.109.153, ...\n",
      "Connecting to synthetichealth.github.io (synthetichealth.github.io)|185.199.110.153|:443... connected.\n",
      "HTTP request sent, awaiting response... 200 OK\n",
      "Length: 24187011 (23M) [application/zip]\n",
      "Saving to: ‘synthea_sample_data_fhir_latest.zip’\n",
      "\n",
      "synthea_sample_data 100%[===================>]  23.07M  11.8MB/s    in 2.0s    \n",
      "\n",
      "2023-12-18 13:57:49 (11.8 MB/s) - ‘synthea_sample_data_fhir_latest.zip’ saved [24187011/24187011]\n",
      "\n",
      "mkdir: cannot create directory ‘fhir_dataset’: File exists\n",
      "Archive:  synthea_sample_data_fhir_latest.zip\n",
      "  inflating: fhir_dataset/practitionerInformation1701791555719.json  \n",
      "  inflating: fhir_dataset/Seth414_Stroman228_4bdb0674-f282-0681-98b4-ef790851bae1.json  \n",
      "  inflating: fhir_dataset/Manuela585_Silvia880_Meza847_54c52c94-f607-417c-4432-cf1c62fc43e0.json  \n",
      "  inflating: fhir_dataset/Paul232_Cole117_2bfcda1c-5415-4cfb-d676-f72b9fd4d326.json  \n",
      "  inflating: fhir_dataset/Mellisa81_Kaila152_Friesen796_71082608-8ce2-8ecd-0566-5489237e689f.json  \n",
      "  inflating: fhir_dataset/Gertude950_Koelpin146_1ebbc1de-b1f3-f3d8-bce0-39273a48c3a3.json  \n",
      "  inflating: fhir_dataset/Elizebeth108_Wilkinson796_af882637-ecdc-9e0f-cfe2-ce1d24dcc309.json  \n",
      "  inflating: fhir_dataset/Alfonso758_Bins636_e80d4c62-149a-a6a6-4b39-9d4aa3e07ba7.json  \n",
      "  inflating: fhir_dataset/Luther918_Fay398_1ee80f20-8062-ec1f-f186-6deabf4d0742.json  \n",
      "  inflating: fhir_dataset/Julieta402_Wuckert783_84057763-f99f-2988-240c-a0112804d0bc.json  \n",
      "  inflating: fhir_dataset/Crissy767_Bulah832_Mante251_22ffb415-5e35-eb15-4fc8-f00f796539c0.json  \n",
      "  inflating: fhir_dataset/Lyle846_Orn563_3641ad5c-4997-af36-ceda-1d72578a3bc4.json  \n",
      "  inflating: fhir_dataset/Art115_Marks830_01cc5d2a-fdc1-1aa6-5df3-ab783a443edd.json  \n",
      "  inflating: fhir_dataset/Elijah719_Walsh511_cd39cf2b-5c83-061c-8c70-3b9436b9abd9.json  \n",
      "  inflating: fhir_dataset/America446_Juliann385_Doyle959_ec756e7b-193a-2dec-b17e-0481a349378b.json  \n",
      "  inflating: fhir_dataset/Alix578_Kaitlin600_Klocko335_025df78a-98cb-3c2b-2aad-8cd6136580af.json  \n",
      "  inflating: fhir_dataset/Glenn0_Hermiston71_5468222f-3080-71ee-08c5-4bd1f59497ab.json  \n",
      "  inflating: fhir_dataset/Bradford382_Pacocha935_fe0d100a-13d2-b6c5-26e6-9f894d51a52d.json  \n",
      "  inflating: fhir_dataset/Gerard367_Goodwin327_6e2fd722-b2b8-4cd7-d512-cb457f133c1a.json  \n",
      "  inflating: fhir_dataset/Jeniffer557_Harris789_25db6afd-b081-7962-5fbc-a44836bbd5e5.json  \n",
      "  inflating: fhir_dataset/Cammy883_Upton904_7eac2ca1-8c55-c7a0-c4d4-eabd7452e7ba.json  \n",
      "  inflating: fhir_dataset/Samuel331_Juárez383_7a35825c-2b9c-715a-2e23-d7776ee6787f.json  \n",
      "  inflating: fhir_dataset/Avery919_Velia837_Stokes453_b6e8e336-8a8b-48d4-3d6b-f8c782761a9a.json  \n",
      "  inflating: fhir_dataset/Shannan727_Bosco882_76eaedd6-a422-750a-374c-d038e9b60f75.json  \n",
      "  inflating: fhir_dataset/Franklyn361_McClure239_1f64b270-e512-4354-9604-25c6e7a6999f.json  \n",
      "  inflating: fhir_dataset/Lanny564_Olson653_e9bfee1d-34a1-62ee-fca9-3180f2ecf51f.json  \n",
      "  inflating: fhir_dataset/Shantae970_Kihn564_6a10849d-3940-0cd0-4b06-4b5375cbda3d.json  \n",
      "  inflating: fhir_dataset/Celena734_Cordie578_Kulas532_81be7866-85eb-8dc9-ee04-645b33eb729d.json  \n",
      "  inflating: fhir_dataset/Marylouise236_Dacia646_Heidenreich818_14f7b660-3445-6ace-7a36-7408778e4c39.json  \n",
      "  inflating: fhir_dataset/Rea30_Gutkowski940_f89018e9-c460-e5ae-8818-ec075239a328.json  \n",
      "  inflating: fhir_dataset/Whitley172_Sallie654_Crona259_88461643-2ebf-47bf-c3d5-b5bc77aaca94.json  \n",
      "  inflating: fhir_dataset/Cyndi533_Heaney114_f7811cda-62e4-ac6a-08c1-731a93d8043d.json  \n",
      "  inflating: fhir_dataset/Alfredo17_Briones478_b048e4ad-666b-7f53-25d7-29cfa102fd57.json  \n",
      "  inflating: fhir_dataset/Jerald662_Harvey63_8c205099-f0d1-442d-fc56-262fc6b04469.json  \n",
      "  inflating: fhir_dataset/Sammy219_Morar593_dc7c913b-f564-976e-6952-a4e9e2953c29.json  \n",
      "  inflating: fhir_dataset/Lissette621_Shea825_Hermann103_1436618f-0475-2e7a-a577-3e9fcd71997a.json  \n",
      "  inflating: fhir_dataset/Stanford577_Brown30_0e3fbc54-9408-cb1d-1704-0682a9d2904e.json  \n",
      "  inflating: fhir_dataset/Ivory697_O'Kon634_58500c3f-9654-8400-7c10-f355ef166284.json  \n",
      "  inflating: fhir_dataset/Martín25_Flórez858_c6653303-4914-c48f-0dbc-c89836d10e4b.json  \n",
      "  inflating: fhir_dataset/José_Emilio366_Marrero674_36332912-19da-58c8-d269-77da327ac839.json  \n",
      "  inflating: fhir_dataset/Odessa199_Hodkiewicz467_e9c6a5d9-e100-4b99-25e7-22c8219ee617.json  \n",
      "  inflating: fhir_dataset/hospitalInformation1701791555719.json  \n",
      "  inflating: fhir_dataset/Porter490_Gerlach374_d32b8ba4-4b24-bd16-8204-8202da355ba5.json  \n",
      "  inflating: fhir_dataset/Valda518_Sharilyn202_Thompson596_957a9250-aea9-c7fb-fdad-6ee2fde26b23.json  \n",
      "  inflating: fhir_dataset/Caitlin552_Johns824_a6ea2a8d-1b9d-27e3-02f9-2f689e149dcf.json  \n",
      "  inflating: fhir_dataset/Alton320_Rippin620_23a0ff1e-9ae3-35ba-00e6-b02831a54cb5.json  \n",
      "  inflating: fhir_dataset/Beau391_McLaughlin530_643c7d41-cca1-1dbc-c193-8215fc0fed4e.json  \n",
      "  inflating: fhir_dataset/Will178_Hyatt152_de56ed62-0fd3-9bd6-0f65-8fc78199af95.json  \n",
      "  inflating: fhir_dataset/Hipolito984_Gerhold939_23c133ce-777a-5b3d-7e46-f0445905c840.json  \n",
      "  inflating: fhir_dataset/Corie618_Muoi890_Metz686_9516e413-e607-f110-bf9e-adeb7796c1f6.json  \n",
      "  inflating: fhir_dataset/Alfonzo975_Wolf938_9149cde5-d230-0c39-2050-5a89907fd14b.json  \n",
      "  inflating: fhir_dataset/Natisha940_Rodriguez71_2168afe9-5491-06ff-c545-ff573fec742d.json  \n",
      "  inflating: fhir_dataset/Derrick232_Ebert178_4ddc5428-1bc6-f561-394d-0f9a9e18cf8d.json  \n",
      "  inflating: fhir_dataset/Nam74_Pamella8_Conn188_c419d088-0c10-6666-235f-15f31c23d398.json  \n",
      "  inflating: fhir_dataset/Krysta658_Abshire638_5d5ffcf3-196a-1ff9-9ff1-5b267285b7e6.json  \n",
      "  inflating: fhir_dataset/Melina208_Carter549_b1ff4045-06ad-8617-488d-fc9dcbd53f6b.json  \n",
      "  inflating: fhir_dataset/Deja232_Luciana251_Altenwerth646_1a8b9c69-ce6d-cd0b-35d8-9b3f10c708b8.json  \n",
      "  inflating: fhir_dataset/Delmer311_Williamson769_6eed8667-cc62-85d6-a4c2-3d5c1042de8d.json  \n",
      "  inflating: fhir_dataset/Cathleen724_Erika442_Steuber698_d1c9a984-6855-1dcb-cc96-3d92a36b29f8.json  \n",
      "  inflating: fhir_dataset/Patrina117_Tabetha269_Trantow673_142df2dc-fb4c-964b-341a-fbacad0c5a3e.json  \n",
      "  inflating: fhir_dataset/Darnell564_Susann104_Toy286_1c31ecd5-ec13-c307-2221-d5f7e9f498b2.json  \n",
      "  inflating: fhir_dataset/Misty404_Langworth352_b6933489-46df-f18e-cb3a-31cc9ac588b7.json  \n",
      "  inflating: fhir_dataset/Janett802_Kuvalis369_4136191d-9d9b-6f80-46fd-719b7b06a4d2.json  \n",
      "  inflating: fhir_dataset/Lida218_Tammera223_Kohler843_a48fb728-e502-3920-ccc5-20c501b10730.json  \n",
      "  inflating: fhir_dataset/Tonisha838_Chere867_Sauer652_a85db32c-12ba-1eaf-a867-69d693edbeac.json  \n",
      "  inflating: fhir_dataset/Noe500_Parisian75_ae0561aa-940d-ac17-ab7b-e4ae027e566c.json  \n",
      "  inflating: fhir_dataset/Leif534_Lynch190_0bc42dc4-6e9a-5258-6ad9-72810496642b.json  \n",
      "  inflating: fhir_dataset/Kelly223_Upton904_1cdc2f83-0149-5cb7-0506-5d6dd15b75c1.json  \n",
      "  inflating: fhir_dataset/Clare187_Watsica258_b4565047-d157-1663-de65-b65ed36833f6.json  \n",
      "  inflating: fhir_dataset/Bernie827_Rodriguez71_b9aadf20-1afe-9de5-eeb8-811764221ba0.json  \n",
      "  inflating: fhir_dataset/Linda558_Imelda608_Hessel84_b0690cbf-45d3-9405-c960-3dfe2be06b36.json  \n",
      "  inflating: fhir_dataset/Gianna370_Fahey393_44294240-83ab-027a-2eab-271f07c5af24.json  \n",
      "  inflating: fhir_dataset/Vicente970_Vandervort697_29ebffcd-a61a-5232-81db-ae1c97116e37.json  \n",
      "  inflating: fhir_dataset/Silva841_Anastasia959_Lesch175_c004800b-da09-9c09-9195-98ab7357734a.json  \n",
      "  inflating: fhir_dataset/Kenny207_Balistreri607_858f1b23-b20b-15b2-62e6-f81f7b638fa5.json  \n",
      "  inflating: fhir_dataset/Mohammad578_Beahan375_f2dd49fb-1738-d88f-69b6-fc940716888e.json  \n",
      "  inflating: fhir_dataset/Tommie457_Bayer639_8ac182b7-21fb-7820-ff95-75ecb613f05d.json  \n",
      "  inflating: fhir_dataset/Maricela194_Keebler762_de06bde4-1cc2-9fa4-97b1-68afddef2726.json  \n",
      "  inflating: fhir_dataset/Niki25_Dorathy429_Simonis280_9f28c283-de47-1615-2cf1-07787a604949.json  \n",
      "  inflating: fhir_dataset/Lucius907_Dickinson688_a6726752-f995-1259-fdce-7bba2df7a563.json  \n",
      "  inflating: fhir_dataset/Arron144_Romaguera67_d3eb63b8-6d96-57b2-0b40-315714e57358.json  \n",
      "  inflating: fhir_dataset/Zora492_Jacobson885_355fc930-5934-ab15-8585-ce8542e9b4cd.json  \n",
      "  inflating: fhir_dataset/Aurelio227_Balistreri607_147be7d2-0c12-219b-6098-091b3350ee0e.json  \n",
      "  inflating: fhir_dataset/Arlette667_Kohler843_5731a0ac-ee4a-ad9b-d03a-947ab9287979.json  \n",
      "  inflating: fhir_dataset/Sammie902_Aufderhar910_a4cb13fa-e6ce-82a3-2411-4df8f06a451f.json  \n",
      "  inflating: fhir_dataset/Tod265_Barrows492_aeccf979-8347-f0f5-36ad-9296bb9eddf9.json  \n",
      "  inflating: fhir_dataset/Laurence43_Hilpert278_6c15f057-eacd-bbf0-8bd1-f68872707395.json  \n",
      "  inflating: fhir_dataset/Liana375_Clarita196_Ward668_ddf7cb33-5e5e-4462-1a5c-84caa10091da.json  \n",
      "  inflating: fhir_dataset/Marvella276_Keeley419_Johnson679_a80a1513-9447-5622-1ddb-b926b9f0d467.json  \n",
      "  inflating: fhir_dataset/Isabela97_Huerta329_f734a23f-fa93-93ee-f317-1bbd5de5c727.json  \n",
      "  inflating: fhir_dataset/Leif534_O'Connell601_2f97d434-20b1-9f6c-107b-00416d57866f.json  \n",
      "  inflating: fhir_dataset/Fredric73_McDermott739_ca4ac6d3-759c-bc0b-a425-d5672d078681.json  \n",
      "  inflating: fhir_dataset/Tory770_Toy286_6d649102-c1b9-3614-7839-d7962c73835d.json  \n",
      "  inflating: fhir_dataset/Elijah719_Runolfsson901_4a6bf168-4c64-5fa1-35ca-80a408163d59.json  \n",
      "  inflating: fhir_dataset/Tracee120_Leffler128_07ea83e0-f968-6c01-f666-7f776e018da0.json  \n",
      "  inflating: fhir_dataset/Teodoro374_Navarro863_6fa89a40-70f4-9024-2b01-9fc6d077f0cf.json  \n",
      "  inflating: fhir_dataset/Timoteo39_Mora209_7b27d942-8bf7-1623-edbd-5774ab2919e9.json  \n",
      "  inflating: fhir_dataset/Wilfred787_Wolf938_7dd8181b-996c-9d3b-5d99-fbabcb501264.json  \n",
      "  inflating: fhir_dataset/Willetta882_Price929_85c996d6-f2db-20c0-39c5-1f046e6f1348.json  \n",
      "  inflating: fhir_dataset/Ivette731_Friesen796_4523a036-90d1-89f6-5971-1723c51e962d.json  \n",
      "  inflating: fhir_dataset/Beatriz277_Tempie784_Nienow652_6872a8c3-67aa-cd13-b55f-b794da87fae8.json  \n",
      "  inflating: fhir_dataset/Ismael683_Rau926_541d4e96-c76d-af62-0c8e-26497f133335.json  \n",
      "  inflating: fhir_dataset/Lakeisha206_Schulist381_d6c4fd02-f7ef-7c60-9ba4-23ea5979db72.json  \n",
      "  inflating: fhir_dataset/Lynelle567_Digna973_Hermiston71_2da077b9-c84a-583f-81a7-258c84f232ed.json  \n",
      "  inflating: fhir_dataset/Carmelo33_Lehner980_66adee84-6a77-ccdd-4055-b27be33c40ac.json  \n",
      "  inflating: fhir_dataset/Ray930_Lueilwitz711_de289f79-7d99-8fff-4d7d-0c3c14eb1e27.json  \n",
      "  inflating: fhir_dataset/Jerold208_Dare640_bf53227d-3529-42d9-0e43-ff3f76ca50c6.json  \n",
      "  inflating: fhir_dataset/Suzy993_Bettye671_Okuneva707_2d5fb1b6-ba60-198e-7e24-65a40ab499d6.json  \n",
      "  inflating: fhir_dataset/Shayne60_Howe413_79410e31-97d8-ddc0-112f-9e0fc096ed39.json  \n",
      "  inflating: fhir_dataset/Samatha845_Mariann762_Collier206_ff6ddbc4-ec84-48e2-dc91-73a7fa28ebae.json  \n",
      "  inflating: fhir_dataset/Adan632_Cassin499_076f046c-b448-ea99-b034-4d4baed17ef4.json  \n",
      "  inflating: fhir_dataset/Rubén780_Alonso270_c7167dce-1e25-6c19-72f8-e7ebc1763698.json  \n"
     ]
    }
   ],
   "source": [
    "%% capture\n",
    "!wget https://synthetichealth.github.io/synthea-sample-data/downloads/latest/synthea_sample_data_fhir_latest.zip\n",
    "!mkdir fhir_dataset\n",
    "!unzip synthea_sample_data_fhir_latest.zip -d fhir_dataset"
   ]
  },
  {
   "cell_type": "markdown",
   "id": "95a14df0",
   "metadata": {},
   "source": [
    "FHIR data is often times nested and contains lists and dictionaries.\n",
    "Generally, there are three options to deal with this:\n",
    "1. Transform the data into an awkward array and flatten it when needed.\n",
    "2. Extract values from all lists and dictionaries to store single values in the fields.\n",
    "3. Remove all lists and dictionaries. Only do this if the information is not relevant to you.\n",
    "\n",
    "Here, we'll work with Pandas `DataFrames` to be able to apply option 3."
   ]
  },
  {
   "cell_type": "code",
   "execution_count": 6,
   "id": "b036b8e1",
   "metadata": {},
   "outputs": [],
   "source": [
    "df = ep.io.read_fhir(\"fhir_dataset\", return_df=True)\n",
    "df = df[:1000]  # The dataset is very large so we subset to the first 1000 records"
   ]
  },
  {
   "cell_type": "code",
   "execution_count": 7,
   "id": "40d14b21",
   "metadata": {},
   "outputs": [],
   "source": [
    "# Option 3: We're dropping any columns that contain lists or dictionaries and all columns that only contain NA values\n",
    "df.drop(columns=[col for col in df.columns if any(isinstance(x, (list, dict)) for x in df[col].dropna())], inplace=True)\n",
    "df.drop(columns=df.columns[df.isna().all()], inplace=True)"
   ]
  },
  {
   "cell_type": "code",
   "execution_count": 8,
   "id": "ab1920a0",
   "metadata": {},
   "outputs": [
    {
     "name": "stdout",
     "output_type": "stream",
     "text": [
      "\u001b[1;35m2023-12-18 14:16:58,727\u001b[0m - \u001b[1;34mroot\u001b[0m \u001b[1;37mINFO - Transformed passed DataFrame into an AnnData object with n_obs x n_vars = `1000` x `65`.\u001b[0m\n"
     ]
    },
    {
     "data": {
      "text/plain": [
       "AnnData object with n_obs × n_vars = 1000 × 65\n",
       "    uns: 'numerical_columns', 'non_numerical_columns'\n",
       "    layers: 'original'"
      ]
     },
     "execution_count": 8,
     "metadata": {},
     "output_type": "execute_result"
    }
   ],
   "source": [
    "adata = ep.ad.df_to_anndata(df, index_column=\"id\")\n",
    "adata"
   ]
  },
  {
   "cell_type": "code",
   "execution_count": 9,
   "id": "f74bfe98",
   "metadata": {},
   "outputs": [
    {
     "data": {
      "text/html": [
       "<pre style=\"white-space:pre;overflow-x:auto;line-height:normal;font-family:Menlo,'DejaVu Sans Mono',consolas,'Courier New',monospace\"><span style=\"color: #808000; text-decoration-color: #808000; font-weight: bold\">Quality control metrics missing. Calculating...</span>\n",
       "</pre>\n"
      ],
      "text/plain": [
       "\u001b[1;33mQuality control metrics missing. Calculating\u001b[0m\u001b[1;33m...\u001b[0m\n"
      ]
     },
     "metadata": {},
     "output_type": "display_data"
    },
    {
     "data": {
      "text/html": [
       "<pre style=\"white-space:pre;overflow-x:auto;line-height:normal;font-family:Menlo,'DejaVu Sans Mono',consolas,'Courier New',monospace\"><span style=\"color: #808000; text-decoration-color: #808000; font-weight: bold\">ValueError! Setting quality control metrics to nan. Did you encode your data?</span>\n",
       "</pre>\n"
      ],
      "text/plain": [
       "\u001b[1;33mValueError! Setting quality control metrics to nan. Did you encode your data?\u001b[0m\n"
      ]
     },
     "metadata": {},
     "output_type": "display_data"
    },
    {
     "name": "stdout",
     "output_type": "stream",
     "text": [
      "\u001b[1;35m2023-12-18 14:16:58,901\u001b[0m - \u001b[1;34mroot\u001b[0m \u001b[1;37mINFO - Added the calculated metrics to AnnData's `obs` and `var`.\u001b[0m\n"
     ]
    },
    {
     "data": {
      "text/html": [
       "<pre style=\"white-space:pre;overflow-x:auto;line-height:normal;font-family:Menlo,'DejaVu Sans Mono',consolas,'Courier New',monospace\"><span style=\"color: #808000; text-decoration-color: #808000; font-weight: bold\">Feature </span><span style=\"color: #000080; text-decoration-color: #000080; font-weight: bold\">resource.issued </span><span style=\"color: #808000; text-decoration-color: #808000; font-weight: bold\">had more than </span><span style=\"color: #000080; text-decoration-color: #000080; font-weight: bold\">40.10</span><span style=\"color: #000080; text-decoration-color: #000080; font-weight: bold\">% </span><span style=\"color: #808000; text-decoration-color: #808000; font-weight: bold\">missing values!</span>\n",
       "</pre>\n"
      ],
      "text/plain": [
       "\u001b[1;33mFeature \u001b[0m\u001b[1;34mresource.issued \u001b[0m\u001b[1;33mhad more than \u001b[0m\u001b[1;34m40.10\u001b[0m\u001b[1;34m% \u001b[0m\u001b[1;33mmissing values!\u001b[0m\n"
      ]
     },
     "metadata": {},
     "output_type": "display_data"
    },
    {
     "data": {
      "text/html": [
       "<pre style=\"white-space:pre;overflow-x:auto;line-height:normal;font-family:Menlo,'DejaVu Sans Mono',consolas,'Courier New',monospace\"><span style=\"color: #808000; text-decoration-color: #808000; font-weight: bold\">Feature </span><span style=\"color: #000080; text-decoration-color: #000080; font-weight: bold\">resource.performedPeriod.start </span><span style=\"color: #808000; text-decoration-color: #808000; font-weight: bold\">had more than </span><span style=\"color: #000080; text-decoration-color: #000080; font-weight: bold\">93.80</span><span style=\"color: #000080; text-decoration-color: #000080; font-weight: bold\">% </span><span style=\"color: #808000; text-decoration-color: #808000; font-weight: bold\">missing values!</span>\n",
       "</pre>\n"
      ],
      "text/plain": [
       "\u001b[1;33mFeature \u001b[0m\u001b[1;34mresource.performedPeriod.start \u001b[0m\u001b[1;33mhad more than \u001b[0m\u001b[1;34m93.80\u001b[0m\u001b[1;34m% \u001b[0m\u001b[1;33mmissing values!\u001b[0m\n"
      ]
     },
     "metadata": {},
     "output_type": "display_data"
    },
    {
     "data": {
      "text/html": [
       "<pre style=\"white-space:pre;overflow-x:auto;line-height:normal;font-family:Menlo,'DejaVu Sans Mono',consolas,'Courier New',monospace\"><span style=\"color: #808000; text-decoration-color: #808000; font-weight: bold\">Feature </span><span style=\"color: #000080; text-decoration-color: #000080; font-weight: bold\">resource.started </span><span style=\"color: #808000; text-decoration-color: #808000; font-weight: bold\">had more than </span><span style=\"color: #000080; text-decoration-color: #000080; font-weight: bold\">99.80</span><span style=\"color: #000080; text-decoration-color: #000080; font-weight: bold\">% </span><span style=\"color: #808000; text-decoration-color: #808000; font-weight: bold\">missing values!</span>\n",
       "</pre>\n"
      ],
      "text/plain": [
       "\u001b[1;33mFeature \u001b[0m\u001b[1;34mresource.started \u001b[0m\u001b[1;33mhad more than \u001b[0m\u001b[1;34m99.80\u001b[0m\u001b[1;34m% \u001b[0m\u001b[1;33mmissing values!\u001b[0m\n"
      ]
     },
     "metadata": {},
     "output_type": "display_data"
    },
    {
     "data": {
      "text/html": [
       "<pre style=\"white-space:pre;overflow-x:auto;line-height:normal;font-family:Menlo,'DejaVu Sans Mono',consolas,'Courier New',monospace\"><span style=\"color: #808000; text-decoration-color: #808000; font-weight: bold\">Feature </span><span style=\"color: #000080; text-decoration-color: #000080; font-weight: bold\">resource.abatementDateTime </span><span style=\"color: #808000; text-decoration-color: #808000; font-weight: bold\">had more than </span><span style=\"color: #000080; text-decoration-color: #000080; font-weight: bold\">98.40</span><span style=\"color: #000080; text-decoration-color: #000080; font-weight: bold\">% </span><span style=\"color: #808000; text-decoration-color: #808000; font-weight: bold\">missing values!</span>\n",
       "</pre>\n"
      ],
      "text/plain": [
       "\u001b[1;33mFeature \u001b[0m\u001b[1;34mresource.abatementDateTime \u001b[0m\u001b[1;33mhad more than \u001b[0m\u001b[1;34m98.40\u001b[0m\u001b[1;34m% \u001b[0m\u001b[1;33mmissing values!\u001b[0m\n"
      ]
     },
     "metadata": {},
     "output_type": "display_data"
    },
    {
     "data": {
      "text/html": [
       "<pre style=\"white-space:pre;overflow-x:auto;line-height:normal;font-family:Menlo,'DejaVu Sans Mono',consolas,'Courier New',monospace\"><span style=\"color: #808000; text-decoration-color: #808000; font-weight: bold\">Feature </span><span style=\"color: #000080; text-decoration-color: #000080; font-weight: bold\">resource.date </span><span style=\"color: #808000; text-decoration-color: #808000; font-weight: bold\">had more than </span><span style=\"color: #000080; text-decoration-color: #000080; font-weight: bold\">95.40</span><span style=\"color: #000080; text-decoration-color: #000080; font-weight: bold\">% </span><span style=\"color: #808000; text-decoration-color: #808000; font-weight: bold\">missing values!</span>\n",
       "</pre>\n"
      ],
      "text/plain": [
       "\u001b[1;33mFeature \u001b[0m\u001b[1;34mresource.date \u001b[0m\u001b[1;33mhad more than \u001b[0m\u001b[1;34m95.40\u001b[0m\u001b[1;34m% \u001b[0m\u001b[1;33mmissing values!\u001b[0m\n"
      ]
     },
     "metadata": {},
     "output_type": "display_data"
    },
    {
     "data": {
      "text/html": [
       "<pre style=\"white-space:pre;overflow-x:auto;line-height:normal;font-family:Menlo,'DejaVu Sans Mono',consolas,'Courier New',monospace\"><span style=\"color: #808000; text-decoration-color: #808000; font-weight: bold\">Feature </span><span style=\"color: #000080; text-decoration-color: #000080; font-weight: bold\">resource.payment.amount.value </span><span style=\"color: #808000; text-decoration-color: #808000; font-weight: bold\">had more than </span><span style=\"color: #000080; text-decoration-color: #000080; font-weight: bold\">92.50</span><span style=\"color: #000080; text-decoration-color: #000080; font-weight: bold\">% </span><span style=\"color: #808000; text-decoration-color: #808000; font-weight: bold\">missing values!</span>\n",
       "</pre>\n"
      ],
      "text/plain": [
       "\u001b[1;33mFeature \u001b[0m\u001b[1;34mresource.payment.amount.value \u001b[0m\u001b[1;33mhad more than \u001b[0m\u001b[1;34m92.50\u001b[0m\u001b[1;34m% \u001b[0m\u001b[1;33mmissing values!\u001b[0m\n"
      ]
     },
     "metadata": {},
     "output_type": "display_data"
    },
    {
     "data": {
      "text/html": [
       "<pre style=\"white-space:pre;overflow-x:auto;line-height:normal;font-family:Menlo,'DejaVu Sans Mono',consolas,'Courier New',monospace\"><span style=\"color: #808000; text-decoration-color: #808000; font-weight: bold\">Feature </span><span style=\"color: #000080; text-decoration-color: #000080; font-weight: bold\">resource.provider.reference </span><span style=\"color: #808000; text-decoration-color: #808000; font-weight: bold\">had more than </span><span style=\"color: #000080; text-decoration-color: #000080; font-weight: bold\">85.00</span><span style=\"color: #000080; text-decoration-color: #000080; font-weight: bold\">% </span><span style=\"color: #808000; text-decoration-color: #808000; font-weight: bold\">missing values!</span>\n",
       "</pre>\n"
      ],
      "text/plain": [
       "\u001b[1;33mFeature \u001b[0m\u001b[1;34mresource.provider.reference \u001b[0m\u001b[1;33mhad more than \u001b[0m\u001b[1;34m85.00\u001b[0m\u001b[1;34m% \u001b[0m\u001b[1;33mmissing values!\u001b[0m\n"
      ]
     },
     "metadata": {},
     "output_type": "display_data"
    },
    {
     "data": {
      "text/html": [
       "<pre style=\"white-space:pre;overflow-x:auto;line-height:normal;font-family:Menlo,'DejaVu Sans Mono',consolas,'Courier New',monospace\"><span style=\"color: #808000; text-decoration-color: #808000; font-weight: bold\">Feature </span><span style=\"color: #000080; text-decoration-color: #000080; font-weight: bold\">resource.custodian.reference </span><span style=\"color: #808000; text-decoration-color: #808000; font-weight: bold\">had more than </span><span style=\"color: #000080; text-decoration-color: #000080; font-weight: bold\">95.40</span><span style=\"color: #000080; text-decoration-color: #000080; font-weight: bold\">% </span><span style=\"color: #808000; text-decoration-color: #808000; font-weight: bold\">missing values!</span>\n",
       "</pre>\n"
      ],
      "text/plain": [
       "\u001b[1;33mFeature \u001b[0m\u001b[1;34mresource.custodian.reference \u001b[0m\u001b[1;33mhad more than \u001b[0m\u001b[1;34m95.40\u001b[0m\u001b[1;34m% \u001b[0m\u001b[1;33mmissing values!\u001b[0m\n"
      ]
     },
     "metadata": {},
     "output_type": "display_data"
    },
    {
     "data": {
      "text/html": [
       "<pre style=\"white-space:pre;overflow-x:auto;line-height:normal;font-family:Menlo,'DejaVu Sans Mono',consolas,'Courier New',monospace\"><span style=\"color: #808000; text-decoration-color: #808000; font-weight: bold\">Feature </span><span style=\"color: #000080; text-decoration-color: #000080; font-weight: bold\">resource.valueQuantity.unit </span><span style=\"color: #808000; text-decoration-color: #808000; font-weight: bold\">had more than </span><span style=\"color: #000080; text-decoration-color: #000080; font-weight: bold\">56.20</span><span style=\"color: #000080; text-decoration-color: #000080; font-weight: bold\">% </span><span style=\"color: #808000; text-decoration-color: #808000; font-weight: bold\">missing values!</span>\n",
       "</pre>\n"
      ],
      "text/plain": [
       "\u001b[1;33mFeature \u001b[0m\u001b[1;34mresource.valueQuantity.unit \u001b[0m\u001b[1;33mhad more than \u001b[0m\u001b[1;34m56.20\u001b[0m\u001b[1;34m% \u001b[0m\u001b[1;33mmissing values!\u001b[0m\n"
      ]
     },
     "metadata": {},
     "output_type": "display_data"
    },
    {
     "data": {
      "text/html": [
       "<pre style=\"white-space:pre;overflow-x:auto;line-height:normal;font-family:Menlo,'DejaVu Sans Mono',consolas,'Courier New',monospace\"><span style=\"color: #808000; text-decoration-color: #808000; font-weight: bold\">Feature </span><span style=\"color: #000080; text-decoration-color: #000080; font-weight: bold\">resource.claim.reference </span><span style=\"color: #808000; text-decoration-color: #808000; font-weight: bold\">had more than </span><span style=\"color: #000080; text-decoration-color: #000080; font-weight: bold\">92.50</span><span style=\"color: #000080; text-decoration-color: #000080; font-weight: bold\">% </span><span style=\"color: #808000; text-decoration-color: #808000; font-weight: bold\">missing values!</span>\n",
       "</pre>\n"
      ],
      "text/plain": [
       "\u001b[1;33mFeature \u001b[0m\u001b[1;34mresource.claim.reference \u001b[0m\u001b[1;33mhad more than \u001b[0m\u001b[1;34m92.50\u001b[0m\u001b[1;34m% \u001b[0m\u001b[1;33mmissing values!\u001b[0m\n"
      ]
     },
     "metadata": {},
     "output_type": "display_data"
    },
    {
     "data": {
      "text/html": [
       "<pre style=\"white-space:pre;overflow-x:auto;line-height:normal;font-family:Menlo,'DejaVu Sans Mono',consolas,'Courier New',monospace\"><span style=\"color: #808000; text-decoration-color: #808000; font-weight: bold\">Feature </span><span style=\"color: #000080; text-decoration-color: #000080; font-weight: bold\">resource.prescription.reference </span><span style=\"color: #808000; text-decoration-color: #808000; font-weight: bold\">had more than </span><span style=\"color: #000080; text-decoration-color: #000080; font-weight: bold\">97.10</span><span style=\"color: #000080; text-decoration-color: #000080; font-weight: bold\">% </span><span style=\"color: #808000; text-decoration-color: #808000; font-weight: bold\">missing values!</span>\n",
       "</pre>\n"
      ],
      "text/plain": [
       "\u001b[1;33mFeature \u001b[0m\u001b[1;34mresource.prescription.reference \u001b[0m\u001b[1;33mhad more than \u001b[0m\u001b[1;34m97.10\u001b[0m\u001b[1;34m% \u001b[0m\u001b[1;33mmissing values!\u001b[0m\n"
      ]
     },
     "metadata": {},
     "output_type": "display_data"
    },
    {
     "data": {
      "text/html": [
       "<pre style=\"white-space:pre;overflow-x:auto;line-height:normal;font-family:Menlo,'DejaVu Sans Mono',consolas,'Courier New',monospace\"><span style=\"color: #808000; text-decoration-color: #808000; font-weight: bold\">Feature </span><span style=\"color: #000080; text-decoration-color: #000080; font-weight: bold\">resource.valueCodeableConcept.text </span><span style=\"color: #808000; text-decoration-color: #808000; font-weight: bold\">had more than </span><span style=\"color: #000080; text-decoration-color: #000080; font-weight: bold\">98.40</span><span style=\"color: #000080; text-decoration-color: #000080; font-weight: bold\">% </span><span style=\"color: #808000; text-decoration-color: #808000; font-weight: bold\">missing values!</span>\n",
       "</pre>\n"
      ],
      "text/plain": [
       "\u001b[1;33mFeature \u001b[0m\u001b[1;34mresource.valueCodeableConcept.text \u001b[0m\u001b[1;33mhad more than \u001b[0m\u001b[1;34m98.40\u001b[0m\u001b[1;34m% \u001b[0m\u001b[1;33mmissing values!\u001b[0m\n"
      ]
     },
     "metadata": {},
     "output_type": "display_data"
    },
    {
     "data": {
      "text/html": [
       "<pre style=\"white-space:pre;overflow-x:auto;line-height:normal;font-family:Menlo,'DejaVu Sans Mono',consolas,'Courier New',monospace\"><span style=\"color: #808000; text-decoration-color: #808000; font-weight: bold\">Feature </span><span style=\"color: #000080; text-decoration-color: #000080; font-weight: bold\">resource.numberOfInstances </span><span style=\"color: #808000; text-decoration-color: #808000; font-weight: bold\">had more than </span><span style=\"color: #000080; text-decoration-color: #000080; font-weight: bold\">99.80</span><span style=\"color: #000080; text-decoration-color: #000080; font-weight: bold\">% </span><span style=\"color: #808000; text-decoration-color: #808000; font-weight: bold\">missing values!</span>\n",
       "</pre>\n"
      ],
      "text/plain": [
       "\u001b[1;33mFeature \u001b[0m\u001b[1;34mresource.numberOfInstances \u001b[0m\u001b[1;33mhad more than \u001b[0m\u001b[1;34m99.80\u001b[0m\u001b[1;34m% \u001b[0m\u001b[1;33mmissing values!\u001b[0m\n"
      ]
     },
     "metadata": {},
     "output_type": "display_data"
    },
    {
     "data": {
      "text/html": [
       "<pre style=\"white-space:pre;overflow-x:auto;line-height:normal;font-family:Menlo,'DejaVu Sans Mono',consolas,'Courier New',monospace\"><span style=\"color: #808000; text-decoration-color: #808000; font-weight: bold\">Feature </span><span style=\"color: #000080; text-decoration-color: #000080; font-weight: bold\">resource.maritalStatus.text </span><span style=\"color: #808000; text-decoration-color: #808000; font-weight: bold\">had more than </span><span style=\"color: #000080; text-decoration-color: #000080; font-weight: bold\">99.90</span><span style=\"color: #000080; text-decoration-color: #000080; font-weight: bold\">% </span><span style=\"color: #808000; text-decoration-color: #808000; font-weight: bold\">missing values!</span>\n",
       "</pre>\n"
      ],
      "text/plain": [
       "\u001b[1;33mFeature \u001b[0m\u001b[1;34mresource.maritalStatus.text \u001b[0m\u001b[1;33mhad more than \u001b[0m\u001b[1;34m99.90\u001b[0m\u001b[1;34m% \u001b[0m\u001b[1;33mmissing values!\u001b[0m\n"
      ]
     },
     "metadata": {},
     "output_type": "display_data"
    },
    {
     "data": {
      "text/html": [
       "<pre style=\"white-space:pre;overflow-x:auto;line-height:normal;font-family:Menlo,'DejaVu Sans Mono',consolas,'Courier New',monospace\"><span style=\"color: #808000; text-decoration-color: #808000; font-weight: bold\">Feature </span><span style=\"color: #000080; text-decoration-color: #000080; font-weight: bold\">resource.context.period.end </span><span style=\"color: #808000; text-decoration-color: #808000; font-weight: bold\">had more than </span><span style=\"color: #000080; text-decoration-color: #000080; font-weight: bold\">95.40</span><span style=\"color: #000080; text-decoration-color: #000080; font-weight: bold\">% </span><span style=\"color: #808000; text-decoration-color: #808000; font-weight: bold\">missing values!</span>\n",
       "</pre>\n"
      ],
      "text/plain": [
       "\u001b[1;33mFeature \u001b[0m\u001b[1;34mresource.context.period.end \u001b[0m\u001b[1;33mhad more than \u001b[0m\u001b[1;34m95.40\u001b[0m\u001b[1;34m% \u001b[0m\u001b[1;33mmissing values!\u001b[0m\n"
      ]
     },
     "metadata": {},
     "output_type": "display_data"
    },
    {
     "data": {
      "text/html": [
       "<pre style=\"white-space:pre;overflow-x:auto;line-height:normal;font-family:Menlo,'DejaVu Sans Mono',consolas,'Courier New',monospace\"><span style=\"color: #808000; text-decoration-color: #808000; font-weight: bold\">Feature </span><span style=\"color: #000080; text-decoration-color: #000080; font-weight: bold\">resource.class.code </span><span style=\"color: #808000; text-decoration-color: #808000; font-weight: bold\">had more than </span><span style=\"color: #000080; text-decoration-color: #000080; font-weight: bold\">95.30</span><span style=\"color: #000080; text-decoration-color: #000080; font-weight: bold\">% </span><span style=\"color: #808000; text-decoration-color: #808000; font-weight: bold\">missing values!</span>\n",
       "</pre>\n"
      ],
      "text/plain": [
       "\u001b[1;33mFeature \u001b[0m\u001b[1;34mresource.class.code \u001b[0m\u001b[1;33mhad more than \u001b[0m\u001b[1;34m95.30\u001b[0m\u001b[1;34m% \u001b[0m\u001b[1;33mmissing values!\u001b[0m\n"
      ]
     },
     "metadata": {},
     "output_type": "display_data"
    },
    {
     "data": {
      "text/html": [
       "<pre style=\"white-space:pre;overflow-x:auto;line-height:normal;font-family:Menlo,'DejaVu Sans Mono',consolas,'Courier New',monospace\"><span style=\"color: #808000; text-decoration-color: #808000; font-weight: bold\">Feature </span><span style=\"color: #000080; text-decoration-color: #000080; font-weight: bold\">resource.intent </span><span style=\"color: #808000; text-decoration-color: #808000; font-weight: bold\">had more than </span><span style=\"color: #000080; text-decoration-color: #000080; font-weight: bold\">96.30</span><span style=\"color: #000080; text-decoration-color: #000080; font-weight: bold\">% </span><span style=\"color: #808000; text-decoration-color: #808000; font-weight: bold\">missing values!</span>\n",
       "</pre>\n"
      ],
      "text/plain": [
       "\u001b[1;33mFeature \u001b[0m\u001b[1;34mresource.intent \u001b[0m\u001b[1;33mhad more than \u001b[0m\u001b[1;34m96.30\u001b[0m\u001b[1;34m% \u001b[0m\u001b[1;33mmissing values!\u001b[0m\n"
      ]
     },
     "metadata": {},
     "output_type": "display_data"
    },
    {
     "data": {
      "text/html": [
       "<pre style=\"white-space:pre;overflow-x:auto;line-height:normal;font-family:Menlo,'DejaVu Sans Mono',consolas,'Courier New',monospace\"><span style=\"color: #808000; text-decoration-color: #808000; font-weight: bold\">Feature </span><span style=\"color: #000080; text-decoration-color: #000080; font-weight: bold\">resource.numberOfSeries </span><span style=\"color: #808000; text-decoration-color: #808000; font-weight: bold\">had more than </span><span style=\"color: #000080; text-decoration-color: #000080; font-weight: bold\">99.80</span><span style=\"color: #000080; text-decoration-color: #000080; font-weight: bold\">% </span><span style=\"color: #808000; text-decoration-color: #808000; font-weight: bold\">missing values!</span>\n",
       "</pre>\n"
      ],
      "text/plain": [
       "\u001b[1;33mFeature \u001b[0m\u001b[1;34mresource.numberOfSeries \u001b[0m\u001b[1;33mhad more than \u001b[0m\u001b[1;34m99.80\u001b[0m\u001b[1;34m% \u001b[0m\u001b[1;33mmissing values!\u001b[0m\n"
      ]
     },
     "metadata": {},
     "output_type": "display_data"
    },
    {
     "data": {
      "text/html": [
       "<pre style=\"white-space:pre;overflow-x:auto;line-height:normal;font-family:Menlo,'DejaVu Sans Mono',consolas,'Courier New',monospace\"><span style=\"color: #808000; text-decoration-color: #808000; font-weight: bold\">Feature </span><span style=\"color: #000080; text-decoration-color: #000080; font-weight: bold\">resource.authoredOn </span><span style=\"color: #808000; text-decoration-color: #808000; font-weight: bold\">had more than </span><span style=\"color: #000080; text-decoration-color: #000080; font-weight: bold\">97.10</span><span style=\"color: #000080; text-decoration-color: #000080; font-weight: bold\">% </span><span style=\"color: #808000; text-decoration-color: #808000; font-weight: bold\">missing values!</span>\n",
       "</pre>\n"
      ],
      "text/plain": [
       "\u001b[1;33mFeature \u001b[0m\u001b[1;34mresource.authoredOn \u001b[0m\u001b[1;33mhad more than \u001b[0m\u001b[1;34m97.10\u001b[0m\u001b[1;34m% \u001b[0m\u001b[1;33mmissing values!\u001b[0m\n"
      ]
     },
     "metadata": {},
     "output_type": "display_data"
    },
    {
     "data": {
      "text/html": [
       "<pre style=\"white-space:pre;overflow-x:auto;line-height:normal;font-family:Menlo,'DejaVu Sans Mono',consolas,'Courier New',monospace\"><span style=\"color: #808000; text-decoration-color: #808000; font-weight: bold\">Feature </span><span style=\"color: #000080; text-decoration-color: #000080; font-weight: bold\">resource.multipleBirthBoolean </span><span style=\"color: #808000; text-decoration-color: #808000; font-weight: bold\">had more than </span><span style=\"color: #000080; text-decoration-color: #000080; font-weight: bold\">99.90</span><span style=\"color: #000080; text-decoration-color: #000080; font-weight: bold\">% </span><span style=\"color: #808000; text-decoration-color: #808000; font-weight: bold\">missing values!</span>\n",
       "</pre>\n"
      ],
      "text/plain": [
       "\u001b[1;33mFeature \u001b[0m\u001b[1;34mresource.multipleBirthBoolean \u001b[0m\u001b[1;33mhad more than \u001b[0m\u001b[1;34m99.90\u001b[0m\u001b[1;34m% \u001b[0m\u001b[1;33mmissing values!\u001b[0m\n"
      ]
     },
     "metadata": {},
     "output_type": "display_data"
    },
    {
     "data": {
      "text/html": [
       "<pre style=\"white-space:pre;overflow-x:auto;line-height:normal;font-family:Menlo,'DejaVu Sans Mono',consolas,'Courier New',monospace\"><span style=\"color: #808000; text-decoration-color: #808000; font-weight: bold\">Feature </span><span style=\"color: #000080; text-decoration-color: #000080; font-weight: bold\">resource.requester.reference </span><span style=\"color: #808000; text-decoration-color: #808000; font-weight: bold\">had more than </span><span style=\"color: #000080; text-decoration-color: #000080; font-weight: bold\">97.10</span><span style=\"color: #000080; text-decoration-color: #000080; font-weight: bold\">% </span><span style=\"color: #808000; text-decoration-color: #808000; font-weight: bold\">missing values!</span>\n",
       "</pre>\n"
      ],
      "text/plain": [
       "\u001b[1;33mFeature \u001b[0m\u001b[1;34mresource.requester.reference \u001b[0m\u001b[1;33mhad more than \u001b[0m\u001b[1;34m97.10\u001b[0m\u001b[1;34m% \u001b[0m\u001b[1;33mmissing values!\u001b[0m\n"
      ]
     },
     "metadata": {},
     "output_type": "display_data"
    },
    {
     "data": {
      "text/html": [
       "<pre style=\"white-space:pre;overflow-x:auto;line-height:normal;font-family:Menlo,'DejaVu Sans Mono',consolas,'Courier New',monospace\"><span style=\"color: #808000; text-decoration-color: #808000; font-weight: bold\">Feature </span><span style=\"color: #000080; text-decoration-color: #000080; font-weight: bold\">resource.context.period.start </span><span style=\"color: #808000; text-decoration-color: #808000; font-weight: bold\">had more than </span><span style=\"color: #000080; text-decoration-color: #000080; font-weight: bold\">95.40</span><span style=\"color: #000080; text-decoration-color: #000080; font-weight: bold\">% </span><span style=\"color: #808000; text-decoration-color: #808000; font-weight: bold\">missing values!</span>\n",
       "</pre>\n"
      ],
      "text/plain": [
       "\u001b[1;33mFeature \u001b[0m\u001b[1;34mresource.context.period.start \u001b[0m\u001b[1;33mhad more than \u001b[0m\u001b[1;34m95.40\u001b[0m\u001b[1;34m% \u001b[0m\u001b[1;33mmissing values!\u001b[0m\n"
      ]
     },
     "metadata": {},
     "output_type": "display_data"
    },
    {
     "data": {
      "text/html": [
       "<pre style=\"white-space:pre;overflow-x:auto;line-height:normal;font-family:Menlo,'DejaVu Sans Mono',consolas,'Courier New',monospace\"><span style=\"color: #808000; text-decoration-color: #808000; font-weight: bold\">Feature </span><span style=\"color: #000080; text-decoration-color: #000080; font-weight: bold\">resource.performedPeriod.end </span><span style=\"color: #808000; text-decoration-color: #808000; font-weight: bold\">had more than </span><span style=\"color: #000080; text-decoration-color: #000080; font-weight: bold\">93.80</span><span style=\"color: #000080; text-decoration-color: #000080; font-weight: bold\">% </span><span style=\"color: #808000; text-decoration-color: #808000; font-weight: bold\">missing values!</span>\n",
       "</pre>\n"
      ],
      "text/plain": [
       "\u001b[1;33mFeature \u001b[0m\u001b[1;34mresource.performedPeriod.end \u001b[0m\u001b[1;33mhad more than \u001b[0m\u001b[1;34m93.80\u001b[0m\u001b[1;34m% \u001b[0m\u001b[1;33mmissing values!\u001b[0m\n"
      ]
     },
     "metadata": {},
     "output_type": "display_data"
    },
    {
     "data": {
      "text/html": [
       "<pre style=\"white-space:pre;overflow-x:auto;line-height:normal;font-family:Menlo,'DejaVu Sans Mono',consolas,'Courier New',monospace\"><span style=\"color: #808000; text-decoration-color: #808000; font-weight: bold\">Feature </span><span style=\"color: #000080; text-decoration-color: #000080; font-weight: bold\">resource.birthDate </span><span style=\"color: #808000; text-decoration-color: #808000; font-weight: bold\">had more than </span><span style=\"color: #000080; text-decoration-color: #000080; font-weight: bold\">99.90</span><span style=\"color: #000080; text-decoration-color: #000080; font-weight: bold\">% </span><span style=\"color: #808000; text-decoration-color: #808000; font-weight: bold\">missing values!</span>\n",
       "</pre>\n"
      ],
      "text/plain": [
       "\u001b[1;33mFeature \u001b[0m\u001b[1;34mresource.birthDate \u001b[0m\u001b[1;33mhad more than \u001b[0m\u001b[1;34m99.90\u001b[0m\u001b[1;34m% \u001b[0m\u001b[1;33mmissing values!\u001b[0m\n"
      ]
     },
     "metadata": {},
     "output_type": "display_data"
    },
    {
     "data": {
      "text/html": [
       "<pre style=\"white-space:pre;overflow-x:auto;line-height:normal;font-family:Menlo,'DejaVu Sans Mono',consolas,'Courier New',monospace\"><span style=\"color: #808000; text-decoration-color: #808000; font-weight: bold\">Feature </span><span style=\"color: #000080; text-decoration-color: #000080; font-weight: bold\">resource.payment.amount.currency </span><span style=\"color: #808000; text-decoration-color: #808000; font-weight: bold\">had more than </span><span style=\"color: #000080; text-decoration-color: #000080; font-weight: bold\">92.50</span><span style=\"color: #000080; text-decoration-color: #000080; font-weight: bold\">% </span><span style=\"color: #808000; text-decoration-color: #808000; font-weight: bold\">missing values!</span>\n",
       "</pre>\n"
      ],
      "text/plain": [
       "\u001b[1;33mFeature \u001b[0m\u001b[1;34mresource.payment.amount.currency \u001b[0m\u001b[1;33mhad more than \u001b[0m\u001b[1;34m92.50\u001b[0m\u001b[1;34m% \u001b[0m\u001b[1;33mmissing values!\u001b[0m\n"
      ]
     },
     "metadata": {},
     "output_type": "display_data"
    },
    {
     "data": {
      "text/html": [
       "<pre style=\"white-space:pre;overflow-x:auto;line-height:normal;font-family:Menlo,'DejaVu Sans Mono',consolas,'Courier New',monospace\"><span style=\"color: #808000; text-decoration-color: #808000; font-weight: bold\">Feature </span><span style=\"color: #000080; text-decoration-color: #000080; font-weight: bold\">resource.period.end </span><span style=\"color: #808000; text-decoration-color: #808000; font-weight: bold\">had more than </span><span style=\"color: #000080; text-decoration-color: #000080; font-weight: bold\">94.90</span><span style=\"color: #000080; text-decoration-color: #000080; font-weight: bold\">% </span><span style=\"color: #808000; text-decoration-color: #808000; font-weight: bold\">missing values!</span>\n",
       "</pre>\n"
      ],
      "text/plain": [
       "\u001b[1;33mFeature \u001b[0m\u001b[1;34mresource.period.end \u001b[0m\u001b[1;33mhad more than \u001b[0m\u001b[1;34m94.90\u001b[0m\u001b[1;34m% \u001b[0m\u001b[1;33mmissing values!\u001b[0m\n"
      ]
     },
     "metadata": {},
     "output_type": "display_data"
    },
    {
     "data": {
      "text/html": [
       "<pre style=\"white-space:pre;overflow-x:auto;line-height:normal;font-family:Menlo,'DejaVu Sans Mono',consolas,'Courier New',monospace\"><span style=\"color: #808000; text-decoration-color: #808000; font-weight: bold\">Feature </span><span style=\"color: #000080; text-decoration-color: #000080; font-weight: bold\">resource.medicationReference.reference </span><span style=\"color: #808000; text-decoration-color: #808000; font-weight: bold\">had more than </span><span style=\"color: #000080; text-decoration-color: #000080; font-weight: bold\">99.40</span><span style=\"color: #000080; text-decoration-color: #000080; font-weight: bold\">% </span><span style=\"color: #808000; text-decoration-color: #808000; font-weight: bold\">missing values!</span>\n",
       "</pre>\n"
      ],
      "text/plain": [
       "\u001b[1;33mFeature \u001b[0m\u001b[1;34mresource.medicationReference.reference \u001b[0m\u001b[1;33mhad more than \u001b[0m\u001b[1;34m99.40\u001b[0m\u001b[1;34m% \u001b[0m\u001b[1;33mmissing values!\u001b[0m\n"
      ]
     },
     "metadata": {},
     "output_type": "display_data"
    },
    {
     "data": {
      "text/html": [
       "<pre style=\"white-space:pre;overflow-x:auto;line-height:normal;font-family:Menlo,'DejaVu Sans Mono',consolas,'Courier New',monospace\"><span style=\"color: #808000; text-decoration-color: #808000; font-weight: bold\">Feature </span><span style=\"color: #000080; text-decoration-color: #000080; font-weight: bold\">resource.primarySource </span><span style=\"color: #808000; text-decoration-color: #808000; font-weight: bold\">had more than </span><span style=\"color: #000080; text-decoration-color: #000080; font-weight: bold\">99.00</span><span style=\"color: #000080; text-decoration-color: #000080; font-weight: bold\">% </span><span style=\"color: #808000; text-decoration-color: #808000; font-weight: bold\">missing values!</span>\n",
       "</pre>\n"
      ],
      "text/plain": [
       "\u001b[1;33mFeature \u001b[0m\u001b[1;34mresource.primarySource \u001b[0m\u001b[1;33mhad more than \u001b[0m\u001b[1;34m99.00\u001b[0m\u001b[1;34m% \u001b[0m\u001b[1;33mmissing values!\u001b[0m\n"
      ]
     },
     "metadata": {},
     "output_type": "display_data"
    },
    {
     "data": {
      "text/html": [
       "<pre style=\"white-space:pre;overflow-x:auto;line-height:normal;font-family:Menlo,'DejaVu Sans Mono',consolas,'Courier New',monospace\"><span style=\"color: #808000; text-decoration-color: #808000; font-weight: bold\">Feature </span><span style=\"color: #000080; text-decoration-color: #000080; font-weight: bold\">resource.onsetDateTime </span><span style=\"color: #808000; text-decoration-color: #808000; font-weight: bold\">had more than </span><span style=\"color: #000080; text-decoration-color: #000080; font-weight: bold\">97.70</span><span style=\"color: #000080; text-decoration-color: #000080; font-weight: bold\">% </span><span style=\"color: #808000; text-decoration-color: #808000; font-weight: bold\">missing values!</span>\n",
       "</pre>\n"
      ],
      "text/plain": [
       "\u001b[1;33mFeature \u001b[0m\u001b[1;34mresource.onsetDateTime \u001b[0m\u001b[1;33mhad more than \u001b[0m\u001b[1;34m97.70\u001b[0m\u001b[1;34m% \u001b[0m\u001b[1;33mmissing values!\u001b[0m\n"
      ]
     },
     "metadata": {},
     "output_type": "display_data"
    },
    {
     "data": {
      "text/html": [
       "<pre style=\"white-space:pre;overflow-x:auto;line-height:normal;font-family:Menlo,'DejaVu Sans Mono',consolas,'Courier New',monospace\"><span style=\"color: #808000; text-decoration-color: #808000; font-weight: bold\">Feature </span><span style=\"color: #000080; text-decoration-color: #000080; font-weight: bold\">resource.patient.reference </span><span style=\"color: #808000; text-decoration-color: #808000; font-weight: bold\">had more than </span><span style=\"color: #000080; text-decoration-color: #000080; font-weight: bold\">83.70</span><span style=\"color: #000080; text-decoration-color: #000080; font-weight: bold\">% </span><span style=\"color: #808000; text-decoration-color: #808000; font-weight: bold\">missing values!</span>\n",
       "</pre>\n"
      ],
      "text/plain": [
       "\u001b[1;33mFeature \u001b[0m\u001b[1;34mresource.patient.reference \u001b[0m\u001b[1;33mhad more than \u001b[0m\u001b[1;34m83.70\u001b[0m\u001b[1;34m% \u001b[0m\u001b[1;33mmissing values!\u001b[0m\n"
      ]
     },
     "metadata": {},
     "output_type": "display_data"
    },
    {
     "data": {
      "text/html": [
       "<pre style=\"white-space:pre;overflow-x:auto;line-height:normal;font-family:Menlo,'DejaVu Sans Mono',consolas,'Courier New',monospace\"><span style=\"color: #808000; text-decoration-color: #808000; font-weight: bold\">Feature </span><span style=\"color: #000080; text-decoration-color: #000080; font-weight: bold\">resource.serviceProvider.reference </span><span style=\"color: #808000; text-decoration-color: #808000; font-weight: bold\">had more than </span><span style=\"color: #000080; text-decoration-color: #000080; font-weight: bold\">95.30</span><span style=\"color: #000080; text-decoration-color: #000080; font-weight: bold\">% </span><span style=\"color: #808000; text-decoration-color: #808000; font-weight: bold\">missing values!</span>\n",
       "</pre>\n"
      ],
      "text/plain": [
       "\u001b[1;33mFeature \u001b[0m\u001b[1;34mresource.serviceProvider.reference \u001b[0m\u001b[1;33mhad more than \u001b[0m\u001b[1;34m95.30\u001b[0m\u001b[1;34m% \u001b[0m\u001b[1;33mmissing values!\u001b[0m\n"
      ]
     },
     "metadata": {},
     "output_type": "display_data"
    },
    {
     "data": {
      "text/html": [
       "<pre style=\"white-space:pre;overflow-x:auto;line-height:normal;font-family:Menlo,'DejaVu Sans Mono',consolas,'Courier New',monospace\"><span style=\"color: #808000; text-decoration-color: #808000; font-weight: bold\">Feature </span><span style=\"color: #000080; text-decoration-color: #000080; font-weight: bold\">resource.gender </span><span style=\"color: #808000; text-decoration-color: #808000; font-weight: bold\">had more than </span><span style=\"color: #000080; text-decoration-color: #000080; font-weight: bold\">99.90</span><span style=\"color: #000080; text-decoration-color: #000080; font-weight: bold\">% </span><span style=\"color: #808000; text-decoration-color: #808000; font-weight: bold\">missing values!</span>\n",
       "</pre>\n"
      ],
      "text/plain": [
       "\u001b[1;33mFeature \u001b[0m\u001b[1;34mresource.gender \u001b[0m\u001b[1;33mhad more than \u001b[0m\u001b[1;34m99.90\u001b[0m\u001b[1;34m% \u001b[0m\u001b[1;33mmissing values!\u001b[0m\n"
      ]
     },
     "metadata": {},
     "output_type": "display_data"
    },
    {
     "data": {
      "text/html": [
       "<pre style=\"white-space:pre;overflow-x:auto;line-height:normal;font-family:Menlo,'DejaVu Sans Mono',consolas,'Courier New',monospace\"><span style=\"color: #808000; text-decoration-color: #808000; font-weight: bold\">Feature </span><span style=\"color: #000080; text-decoration-color: #000080; font-weight: bold\">resource.deceasedDateTime </span><span style=\"color: #808000; text-decoration-color: #808000; font-weight: bold\">had more than </span><span style=\"color: #000080; text-decoration-color: #000080; font-weight: bold\">99.90</span><span style=\"color: #000080; text-decoration-color: #000080; font-weight: bold\">% </span><span style=\"color: #808000; text-decoration-color: #808000; font-weight: bold\">missing values!</span>\n",
       "</pre>\n"
      ],
      "text/plain": [
       "\u001b[1;33mFeature \u001b[0m\u001b[1;34mresource.deceasedDateTime \u001b[0m\u001b[1;33mhad more than \u001b[0m\u001b[1;34m99.90\u001b[0m\u001b[1;34m% \u001b[0m\u001b[1;33mmissing values!\u001b[0m\n"
      ]
     },
     "metadata": {},
     "output_type": "display_data"
    },
    {
     "data": {
      "text/html": [
       "<pre style=\"white-space:pre;overflow-x:auto;line-height:normal;font-family:Menlo,'DejaVu Sans Mono',consolas,'Courier New',monospace\"><span style=\"color: #808000; text-decoration-color: #808000; font-weight: bold\">Feature </span><span style=\"color: #000080; text-decoration-color: #000080; font-weight: bold\">resource.created </span><span style=\"color: #808000; text-decoration-color: #808000; font-weight: bold\">had more than </span><span style=\"color: #000080; text-decoration-color: #000080; font-weight: bold\">85.00</span><span style=\"color: #000080; text-decoration-color: #000080; font-weight: bold\">% </span><span style=\"color: #808000; text-decoration-color: #808000; font-weight: bold\">missing values!</span>\n",
       "</pre>\n"
      ],
      "text/plain": [
       "\u001b[1;33mFeature \u001b[0m\u001b[1;34mresource.created \u001b[0m\u001b[1;33mhad more than \u001b[0m\u001b[1;34m85.00\u001b[0m\u001b[1;34m% \u001b[0m\u001b[1;33mmissing values!\u001b[0m\n"
      ]
     },
     "metadata": {},
     "output_type": "display_data"
    },
    {
     "data": {
      "text/html": [
       "<pre style=\"white-space:pre;overflow-x:auto;line-height:normal;font-family:Menlo,'DejaVu Sans Mono',consolas,'Courier New',monospace\"><span style=\"color: #808000; text-decoration-color: #808000; font-weight: bold\">Feature </span><span style=\"color: #000080; text-decoration-color: #000080; font-weight: bold\">resource.vaccineCode.text </span><span style=\"color: #808000; text-decoration-color: #808000; font-weight: bold\">had more than </span><span style=\"color: #000080; text-decoration-color: #000080; font-weight: bold\">99.00</span><span style=\"color: #000080; text-decoration-color: #000080; font-weight: bold\">% </span><span style=\"color: #808000; text-decoration-color: #808000; font-weight: bold\">missing values!</span>\n",
       "</pre>\n"
      ],
      "text/plain": [
       "\u001b[1;33mFeature \u001b[0m\u001b[1;34mresource.vaccineCode.text \u001b[0m\u001b[1;33mhad more than \u001b[0m\u001b[1;34m99.00\u001b[0m\u001b[1;34m% \u001b[0m\u001b[1;33mmissing values!\u001b[0m\n"
      ]
     },
     "metadata": {},
     "output_type": "display_data"
    },
    {
     "data": {
      "text/html": [
       "<pre style=\"white-space:pre;overflow-x:auto;line-height:normal;font-family:Menlo,'DejaVu Sans Mono',consolas,'Courier New',monospace\"><span style=\"color: #808000; text-decoration-color: #808000; font-weight: bold\">Feature </span><span style=\"color: #000080; text-decoration-color: #000080; font-weight: bold\">resource.valueQuantity.value </span><span style=\"color: #808000; text-decoration-color: #808000; font-weight: bold\">had more than </span><span style=\"color: #000080; text-decoration-color: #000080; font-weight: bold\">56.20</span><span style=\"color: #000080; text-decoration-color: #000080; font-weight: bold\">% </span><span style=\"color: #808000; text-decoration-color: #808000; font-weight: bold\">missing values!</span>\n",
       "</pre>\n"
      ],
      "text/plain": [
       "\u001b[1;33mFeature \u001b[0m\u001b[1;34mresource.valueQuantity.value \u001b[0m\u001b[1;33mhad more than \u001b[0m\u001b[1;34m56.20\u001b[0m\u001b[1;34m% \u001b[0m\u001b[1;33mmissing values!\u001b[0m\n"
      ]
     },
     "metadata": {},
     "output_type": "display_data"
    },
    {
     "data": {
      "text/html": [
       "<pre style=\"white-space:pre;overflow-x:auto;line-height:normal;font-family:Menlo,'DejaVu Sans Mono',consolas,'Courier New',monospace\"><span style=\"color: #808000; text-decoration-color: #808000; font-weight: bold\">Feature </span><span style=\"color: #000080; text-decoration-color: #000080; font-weight: bold\">resource.occurrenceDateTime </span><span style=\"color: #808000; text-decoration-color: #808000; font-weight: bold\">had more than </span><span style=\"color: #000080; text-decoration-color: #000080; font-weight: bold\">99.00</span><span style=\"color: #000080; text-decoration-color: #000080; font-weight: bold\">% </span><span style=\"color: #808000; text-decoration-color: #808000; font-weight: bold\">missing values!</span>\n",
       "</pre>\n"
      ],
      "text/plain": [
       "\u001b[1;33mFeature \u001b[0m\u001b[1;34mresource.occurrenceDateTime \u001b[0m\u001b[1;33mhad more than \u001b[0m\u001b[1;34m99.00\u001b[0m\u001b[1;34m% \u001b[0m\u001b[1;33mmissing values!\u001b[0m\n"
      ]
     },
     "metadata": {},
     "output_type": "display_data"
    },
    {
     "data": {
      "text/html": [
       "<pre style=\"white-space:pre;overflow-x:auto;line-height:normal;font-family:Menlo,'DejaVu Sans Mono',consolas,'Courier New',monospace\"><span style=\"color: #808000; text-decoration-color: #808000; font-weight: bold\">Feature </span><span style=\"color: #000080; text-decoration-color: #000080; font-weight: bold\">resource.total.currency </span><span style=\"color: #808000; text-decoration-color: #808000; font-weight: bold\">had more than </span><span style=\"color: #000080; text-decoration-color: #000080; font-weight: bold\">92.50</span><span style=\"color: #000080; text-decoration-color: #000080; font-weight: bold\">% </span><span style=\"color: #808000; text-decoration-color: #808000; font-weight: bold\">missing values!</span>\n",
       "</pre>\n"
      ],
      "text/plain": [
       "\u001b[1;33mFeature \u001b[0m\u001b[1;34mresource.total.currency \u001b[0m\u001b[1;33mhad more than \u001b[0m\u001b[1;34m92.50\u001b[0m\u001b[1;34m% \u001b[0m\u001b[1;33mmissing values!\u001b[0m\n"
      ]
     },
     "metadata": {},
     "output_type": "display_data"
    },
    {
     "data": {
      "text/html": [
       "<pre style=\"white-space:pre;overflow-x:auto;line-height:normal;font-family:Menlo,'DejaVu Sans Mono',consolas,'Courier New',monospace\"><span style=\"color: #808000; text-decoration-color: #808000; font-weight: bold\">Feature </span><span style=\"color: #000080; text-decoration-color: #000080; font-weight: bold\">resource.use </span><span style=\"color: #808000; text-decoration-color: #808000; font-weight: bold\">had more than </span><span style=\"color: #000080; text-decoration-color: #000080; font-weight: bold\">85.00</span><span style=\"color: #000080; text-decoration-color: #000080; font-weight: bold\">% </span><span style=\"color: #808000; text-decoration-color: #808000; font-weight: bold\">missing values!</span>\n",
       "</pre>\n"
      ],
      "text/plain": [
       "\u001b[1;33mFeature \u001b[0m\u001b[1;34mresource.use \u001b[0m\u001b[1;33mhad more than \u001b[0m\u001b[1;34m85.00\u001b[0m\u001b[1;34m% \u001b[0m\u001b[1;33mmissing values!\u001b[0m\n"
      ]
     },
     "metadata": {},
     "output_type": "display_data"
    },
    {
     "data": {
      "text/html": [
       "<pre style=\"white-space:pre;overflow-x:auto;line-height:normal;font-family:Menlo,'DejaVu Sans Mono',consolas,'Courier New',monospace\"><span style=\"color: #808000; text-decoration-color: #808000; font-weight: bold\">Feature </span><span style=\"color: #000080; text-decoration-color: #000080; font-weight: bold\">resource.valueQuantity.system </span><span style=\"color: #808000; text-decoration-color: #808000; font-weight: bold\">had more than </span><span style=\"color: #000080; text-decoration-color: #000080; font-weight: bold\">56.20</span><span style=\"color: #000080; text-decoration-color: #000080; font-weight: bold\">% </span><span style=\"color: #808000; text-decoration-color: #808000; font-weight: bold\">missing values!</span>\n",
       "</pre>\n"
      ],
      "text/plain": [
       "\u001b[1;33mFeature \u001b[0m\u001b[1;34mresource.valueQuantity.system \u001b[0m\u001b[1;33mhad more than \u001b[0m\u001b[1;34m56.20\u001b[0m\u001b[1;34m% \u001b[0m\u001b[1;33mmissing values!\u001b[0m\n"
      ]
     },
     "metadata": {},
     "output_type": "display_data"
    },
    {
     "data": {
      "text/html": [
       "<pre style=\"white-space:pre;overflow-x:auto;line-height:normal;font-family:Menlo,'DejaVu Sans Mono',consolas,'Courier New',monospace\"><span style=\"color: #808000; text-decoration-color: #808000; font-weight: bold\">Feature </span><span style=\"color: #000080; text-decoration-color: #000080; font-weight: bold\">resource.total.value </span><span style=\"color: #808000; text-decoration-color: #808000; font-weight: bold\">had more than </span><span style=\"color: #000080; text-decoration-color: #000080; font-weight: bold\">92.50</span><span style=\"color: #000080; text-decoration-color: #000080; font-weight: bold\">% </span><span style=\"color: #808000; text-decoration-color: #808000; font-weight: bold\">missing values!</span>\n",
       "</pre>\n"
      ],
      "text/plain": [
       "\u001b[1;33mFeature \u001b[0m\u001b[1;34mresource.total.value \u001b[0m\u001b[1;33mhad more than \u001b[0m\u001b[1;34m92.50\u001b[0m\u001b[1;34m% \u001b[0m\u001b[1;33mmissing values!\u001b[0m\n"
      ]
     },
     "metadata": {},
     "output_type": "display_data"
    },
    {
     "data": {
      "text/html": [
       "<pre style=\"white-space:pre;overflow-x:auto;line-height:normal;font-family:Menlo,'DejaVu Sans Mono',consolas,'Courier New',monospace\"><span style=\"color: #808000; text-decoration-color: #808000; font-weight: bold\">Feature </span><span style=\"color: #000080; text-decoration-color: #000080; font-weight: bold\">resource.effectiveDateTime </span><span style=\"color: #808000; text-decoration-color: #808000; font-weight: bold\">had more than </span><span style=\"color: #000080; text-decoration-color: #000080; font-weight: bold\">39.50</span><span style=\"color: #000080; text-decoration-color: #000080; font-weight: bold\">% </span><span style=\"color: #808000; text-decoration-color: #808000; font-weight: bold\">missing values!</span>\n",
       "</pre>\n"
      ],
      "text/plain": [
       "\u001b[1;33mFeature \u001b[0m\u001b[1;34mresource.effectiveDateTime \u001b[0m\u001b[1;33mhad more than \u001b[0m\u001b[1;34m39.50\u001b[0m\u001b[1;34m% \u001b[0m\u001b[1;33mmissing values!\u001b[0m\n"
      ]
     },
     "metadata": {},
     "output_type": "display_data"
    },
    {
     "data": {
      "text/html": [
       "<pre style=\"white-space:pre;overflow-x:auto;line-height:normal;font-family:Menlo,'DejaVu Sans Mono',consolas,'Courier New',monospace\"><span style=\"color: #808000; text-decoration-color: #808000; font-weight: bold\">Feature </span><span style=\"color: #000080; text-decoration-color: #000080; font-weight: bold\">resource.recordedDate </span><span style=\"color: #808000; text-decoration-color: #808000; font-weight: bold\">had more than </span><span style=\"color: #000080; text-decoration-color: #000080; font-weight: bold\">97.40</span><span style=\"color: #000080; text-decoration-color: #000080; font-weight: bold\">% </span><span style=\"color: #808000; text-decoration-color: #808000; font-weight: bold\">missing values!</span>\n",
       "</pre>\n"
      ],
      "text/plain": [
       "\u001b[1;33mFeature \u001b[0m\u001b[1;34mresource.recordedDate \u001b[0m\u001b[1;33mhad more than \u001b[0m\u001b[1;34m97.40\u001b[0m\u001b[1;34m% \u001b[0m\u001b[1;33mmissing values!\u001b[0m\n"
      ]
     },
     "metadata": {},
     "output_type": "display_data"
    },
    {
     "data": {
      "text/html": [
       "<pre style=\"white-space:pre;overflow-x:auto;line-height:normal;font-family:Menlo,'DejaVu Sans Mono',consolas,'Courier New',monospace\"><span style=\"color: #808000; text-decoration-color: #808000; font-weight: bold\">Feature </span><span style=\"color: #000080; text-decoration-color: #000080; font-weight: bold\">resource.billablePeriod.start </span><span style=\"color: #808000; text-decoration-color: #808000; font-weight: bold\">had more than </span><span style=\"color: #000080; text-decoration-color: #000080; font-weight: bold\">85.00</span><span style=\"color: #000080; text-decoration-color: #000080; font-weight: bold\">% </span><span style=\"color: #808000; text-decoration-color: #808000; font-weight: bold\">missing values!</span>\n",
       "</pre>\n"
      ],
      "text/plain": [
       "\u001b[1;33mFeature \u001b[0m\u001b[1;34mresource.billablePeriod.start \u001b[0m\u001b[1;33mhad more than \u001b[0m\u001b[1;34m85.00\u001b[0m\u001b[1;34m% \u001b[0m\u001b[1;33mmissing values!\u001b[0m\n"
      ]
     },
     "metadata": {},
     "output_type": "display_data"
    },
    {
     "data": {
      "text/html": [
       "<pre style=\"white-space:pre;overflow-x:auto;line-height:normal;font-family:Menlo,'DejaVu Sans Mono',consolas,'Courier New',monospace\"><span style=\"color: #808000; text-decoration-color: #808000; font-weight: bold\">Feature </span><span style=\"color: #000080; text-decoration-color: #000080; font-weight: bold\">resource.valueQuantity.code </span><span style=\"color: #808000; text-decoration-color: #808000; font-weight: bold\">had more than </span><span style=\"color: #000080; text-decoration-color: #000080; font-weight: bold\">56.20</span><span style=\"color: #000080; text-decoration-color: #000080; font-weight: bold\">% </span><span style=\"color: #808000; text-decoration-color: #808000; font-weight: bold\">missing values!</span>\n",
       "</pre>\n"
      ],
      "text/plain": [
       "\u001b[1;33mFeature \u001b[0m\u001b[1;34mresource.valueQuantity.code \u001b[0m\u001b[1;33mhad more than \u001b[0m\u001b[1;34m56.20\u001b[0m\u001b[1;34m% \u001b[0m\u001b[1;33mmissing values!\u001b[0m\n"
      ]
     },
     "metadata": {},
     "output_type": "display_data"
    },
    {
     "data": {
      "text/html": [
       "<pre style=\"white-space:pre;overflow-x:auto;line-height:normal;font-family:Menlo,'DejaVu Sans Mono',consolas,'Courier New',monospace\"><span style=\"color: #808000; text-decoration-color: #808000; font-weight: bold\">Feature </span><span style=\"color: #000080; text-decoration-color: #000080; font-weight: bold\">resource.context.reference </span><span style=\"color: #808000; text-decoration-color: #808000; font-weight: bold\">had more than </span><span style=\"color: #000080; text-decoration-color: #000080; font-weight: bold\">99.40</span><span style=\"color: #000080; text-decoration-color: #000080; font-weight: bold\">% </span><span style=\"color: #808000; text-decoration-color: #808000; font-weight: bold\">missing values!</span>\n",
       "</pre>\n"
      ],
      "text/plain": [
       "\u001b[1;33mFeature \u001b[0m\u001b[1;34mresource.context.reference \u001b[0m\u001b[1;33mhad more than \u001b[0m\u001b[1;34m99.40\u001b[0m\u001b[1;34m% \u001b[0m\u001b[1;33mmissing values!\u001b[0m\n"
      ]
     },
     "metadata": {},
     "output_type": "display_data"
    },
    {
     "data": {
      "text/html": [
       "<pre style=\"white-space:pre;overflow-x:auto;line-height:normal;font-family:Menlo,'DejaVu Sans Mono',consolas,'Courier New',monospace\"><span style=\"color: #808000; text-decoration-color: #808000; font-weight: bold\">Feature </span><span style=\"color: #000080; text-decoration-color: #000080; font-weight: bold\">resource.location.reference </span><span style=\"color: #808000; text-decoration-color: #808000; font-weight: bold\">had more than </span><span style=\"color: #000080; text-decoration-color: #000080; font-weight: bold\">92.60</span><span style=\"color: #000080; text-decoration-color: #000080; font-weight: bold\">% </span><span style=\"color: #808000; text-decoration-color: #808000; font-weight: bold\">missing values!</span>\n",
       "</pre>\n"
      ],
      "text/plain": [
       "\u001b[1;33mFeature \u001b[0m\u001b[1;34mresource.location.reference \u001b[0m\u001b[1;33mhad more than \u001b[0m\u001b[1;34m92.60\u001b[0m\u001b[1;34m% \u001b[0m\u001b[1;33mmissing values!\u001b[0m\n"
      ]
     },
     "metadata": {},
     "output_type": "display_data"
    },
    {
     "data": {
      "text/html": [
       "<pre style=\"white-space:pre;overflow-x:auto;line-height:normal;font-family:Menlo,'DejaVu Sans Mono',consolas,'Courier New',monospace\"><span style=\"color: #808000; text-decoration-color: #808000; font-weight: bold\">Feature </span><span style=\"color: #000080; text-decoration-color: #000080; font-weight: bold\">resource.medicationCodeableConcept.text </span><span style=\"color: #808000; text-decoration-color: #808000; font-weight: bold\">had more than </span><span style=\"color: #000080; text-decoration-color: #000080; font-weight: bold\">97.10</span><span style=\"color: #000080; text-decoration-color: #000080; font-weight: bold\">% </span><span style=\"color: #808000; text-decoration-color: #808000; font-weight: bold\">missing values!</span>\n",
       "</pre>\n"
      ],
      "text/plain": [
       "\u001b[1;33mFeature \u001b[0m\u001b[1;34mresource.medicationCodeableConcept.text \u001b[0m\u001b[1;33mhad more than \u001b[0m\u001b[1;34m97.10\u001b[0m\u001b[1;34m% \u001b[0m\u001b[1;33mmissing values!\u001b[0m\n"
      ]
     },
     "metadata": {},
     "output_type": "display_data"
    },
    {
     "data": {
      "text/html": [
       "<pre style=\"white-space:pre;overflow-x:auto;line-height:normal;font-family:Menlo,'DejaVu Sans Mono',consolas,'Courier New',monospace\"><span style=\"color: #808000; text-decoration-color: #808000; font-weight: bold\">Feature </span><span style=\"color: #000080; text-decoration-color: #000080; font-weight: bold\">resource.outcome </span><span style=\"color: #808000; text-decoration-color: #808000; font-weight: bold\">had more than </span><span style=\"color: #000080; text-decoration-color: #000080; font-weight: bold\">92.50</span><span style=\"color: #000080; text-decoration-color: #000080; font-weight: bold\">% </span><span style=\"color: #808000; text-decoration-color: #808000; font-weight: bold\">missing values!</span>\n",
       "</pre>\n"
      ],
      "text/plain": [
       "\u001b[1;33mFeature \u001b[0m\u001b[1;34mresource.outcome \u001b[0m\u001b[1;33mhad more than \u001b[0m\u001b[1;34m92.50\u001b[0m\u001b[1;34m% \u001b[0m\u001b[1;33mmissing values!\u001b[0m\n"
      ]
     },
     "metadata": {},
     "output_type": "display_data"
    },
    {
     "data": {
      "text/html": [
       "<pre style=\"white-space:pre;overflow-x:auto;line-height:normal;font-family:Menlo,'DejaVu Sans Mono',consolas,'Courier New',monospace\"><span style=\"color: #808000; text-decoration-color: #808000; font-weight: bold\">Feature </span><span style=\"color: #000080; text-decoration-color: #000080; font-weight: bold\">resource.criticality </span><span style=\"color: #808000; text-decoration-color: #808000; font-weight: bold\">had more than </span><span style=\"color: #000080; text-decoration-color: #000080; font-weight: bold\">99.70</span><span style=\"color: #000080; text-decoration-color: #000080; font-weight: bold\">% </span><span style=\"color: #808000; text-decoration-color: #808000; font-weight: bold\">missing values!</span>\n",
       "</pre>\n"
      ],
      "text/plain": [
       "\u001b[1;33mFeature \u001b[0m\u001b[1;34mresource.criticality \u001b[0m\u001b[1;33mhad more than \u001b[0m\u001b[1;34m99.70\u001b[0m\u001b[1;34m% \u001b[0m\u001b[1;33mmissing values!\u001b[0m\n"
      ]
     },
     "metadata": {},
     "output_type": "display_data"
    },
    {
     "data": {
      "text/html": [
       "<pre style=\"white-space:pre;overflow-x:auto;line-height:normal;font-family:Menlo,'DejaVu Sans Mono',consolas,'Courier New',monospace\"><span style=\"color: #808000; text-decoration-color: #808000; font-weight: bold\">Feature </span><span style=\"color: #000080; text-decoration-color: #000080; font-weight: bold\">resource.text.status </span><span style=\"color: #808000; text-decoration-color: #808000; font-weight: bold\">had more than </span><span style=\"color: #000080; text-decoration-color: #000080; font-weight: bold\">99.10</span><span style=\"color: #000080; text-decoration-color: #000080; font-weight: bold\">% </span><span style=\"color: #808000; text-decoration-color: #808000; font-weight: bold\">missing values!</span>\n",
       "</pre>\n"
      ],
      "text/plain": [
       "\u001b[1;33mFeature \u001b[0m\u001b[1;34mresource.text.status \u001b[0m\u001b[1;33mhad more than \u001b[0m\u001b[1;34m99.10\u001b[0m\u001b[1;34m% \u001b[0m\u001b[1;33mmissing values!\u001b[0m\n"
      ]
     },
     "metadata": {},
     "output_type": "display_data"
    },
    {
     "data": {
      "text/html": [
       "<pre style=\"white-space:pre;overflow-x:auto;line-height:normal;font-family:Menlo,'DejaVu Sans Mono',consolas,'Courier New',monospace\"><span style=\"color: #808000; text-decoration-color: #808000; font-weight: bold\">Feature </span><span style=\"color: #000080; text-decoration-color: #000080; font-weight: bold\">resource.referral.reference </span><span style=\"color: #808000; text-decoration-color: #808000; font-weight: bold\">had more than </span><span style=\"color: #000080; text-decoration-color: #000080; font-weight: bold\">92.50</span><span style=\"color: #000080; text-decoration-color: #000080; font-weight: bold\">% </span><span style=\"color: #808000; text-decoration-color: #808000; font-weight: bold\">missing values!</span>\n",
       "</pre>\n"
      ],
      "text/plain": [
       "\u001b[1;33mFeature \u001b[0m\u001b[1;34mresource.referral.reference \u001b[0m\u001b[1;33mhad more than \u001b[0m\u001b[1;34m92.50\u001b[0m\u001b[1;34m% \u001b[0m\u001b[1;33mmissing values!\u001b[0m\n"
      ]
     },
     "metadata": {},
     "output_type": "display_data"
    },
    {
     "data": {
      "text/html": [
       "<pre style=\"white-space:pre;overflow-x:auto;line-height:normal;font-family:Menlo,'DejaVu Sans Mono',consolas,'Courier New',monospace\"><span style=\"color: #808000; text-decoration-color: #808000; font-weight: bold\">Feature </span><span style=\"color: #000080; text-decoration-color: #000080; font-weight: bold\">resource.facility.reference </span><span style=\"color: #808000; text-decoration-color: #808000; font-weight: bold\">had more than </span><span style=\"color: #000080; text-decoration-color: #000080; font-weight: bold\">87.90</span><span style=\"color: #000080; text-decoration-color: #000080; font-weight: bold\">% </span><span style=\"color: #808000; text-decoration-color: #808000; font-weight: bold\">missing values!</span>\n",
       "</pre>\n"
      ],
      "text/plain": [
       "\u001b[1;33mFeature \u001b[0m\u001b[1;34mresource.facility.reference \u001b[0m\u001b[1;33mhad more than \u001b[0m\u001b[1;34m87.90\u001b[0m\u001b[1;34m% \u001b[0m\u001b[1;33mmissing values!\u001b[0m\n"
      ]
     },
     "metadata": {},
     "output_type": "display_data"
    },
    {
     "data": {
      "text/html": [
       "<pre style=\"white-space:pre;overflow-x:auto;line-height:normal;font-family:Menlo,'DejaVu Sans Mono',consolas,'Courier New',monospace\"><span style=\"color: #808000; text-decoration-color: #808000; font-weight: bold\">Feature </span><span style=\"color: #000080; text-decoration-color: #000080; font-weight: bold\">resource.period.start </span><span style=\"color: #808000; text-decoration-color: #808000; font-weight: bold\">had more than </span><span style=\"color: #000080; text-decoration-color: #000080; font-weight: bold\">93.70</span><span style=\"color: #000080; text-decoration-color: #000080; font-weight: bold\">% </span><span style=\"color: #808000; text-decoration-color: #808000; font-weight: bold\">missing values!</span>\n",
       "</pre>\n"
      ],
      "text/plain": [
       "\u001b[1;33mFeature \u001b[0m\u001b[1;34mresource.period.start \u001b[0m\u001b[1;33mhad more than \u001b[0m\u001b[1;34m93.70\u001b[0m\u001b[1;34m% \u001b[0m\u001b[1;33mmissing values!\u001b[0m\n"
      ]
     },
     "metadata": {},
     "output_type": "display_data"
    },
    {
     "data": {
      "text/html": [
       "<pre style=\"white-space:pre;overflow-x:auto;line-height:normal;font-family:Menlo,'DejaVu Sans Mono',consolas,'Courier New',monospace\"><span style=\"color: #808000; text-decoration-color: #808000; font-weight: bold\">Feature </span><span style=\"color: #000080; text-decoration-color: #000080; font-weight: bold\">resource.class.system </span><span style=\"color: #808000; text-decoration-color: #808000; font-weight: bold\">had more than </span><span style=\"color: #000080; text-decoration-color: #000080; font-weight: bold\">95.30</span><span style=\"color: #000080; text-decoration-color: #000080; font-weight: bold\">% </span><span style=\"color: #808000; text-decoration-color: #808000; font-weight: bold\">missing values!</span>\n",
       "</pre>\n"
      ],
      "text/plain": [
       "\u001b[1;33mFeature \u001b[0m\u001b[1;34mresource.class.system \u001b[0m\u001b[1;33mhad more than \u001b[0m\u001b[1;34m95.30\u001b[0m\u001b[1;34m% \u001b[0m\u001b[1;33mmissing values!\u001b[0m\n"
      ]
     },
     "metadata": {},
     "output_type": "display_data"
    },
    {
     "data": {
      "text/html": [
       "<pre style=\"white-space:pre;overflow-x:auto;line-height:normal;font-family:Menlo,'DejaVu Sans Mono',consolas,'Courier New',monospace\"><span style=\"color: #808000; text-decoration-color: #808000; font-weight: bold\">Feature </span><span style=\"color: #000080; text-decoration-color: #000080; font-weight: bold\">resource.code.text </span><span style=\"color: #808000; text-decoration-color: #808000; font-weight: bold\">had more than </span><span style=\"color: #000080; text-decoration-color: #000080; font-weight: bold\">35.40</span><span style=\"color: #000080; text-decoration-color: #000080; font-weight: bold\">% </span><span style=\"color: #808000; text-decoration-color: #808000; font-weight: bold\">missing values!</span>\n",
       "</pre>\n"
      ],
      "text/plain": [
       "\u001b[1;33mFeature \u001b[0m\u001b[1;34mresource.code.text \u001b[0m\u001b[1;33mhad more than \u001b[0m\u001b[1;34m35.40\u001b[0m\u001b[1;34m% \u001b[0m\u001b[1;33mmissing values!\u001b[0m\n"
      ]
     },
     "metadata": {},
     "output_type": "display_data"
    },
    {
     "data": {
      "text/html": [
       "<pre style=\"white-space:pre;overflow-x:auto;line-height:normal;font-family:Menlo,'DejaVu Sans Mono',consolas,'Courier New',monospace\"><span style=\"color: #808000; text-decoration-color: #808000; font-weight: bold\">Feature </span><span style=\"color: #000080; text-decoration-color: #000080; font-weight: bold\">resource.billablePeriod.end </span><span style=\"color: #808000; text-decoration-color: #808000; font-weight: bold\">had more than </span><span style=\"color: #000080; text-decoration-color: #000080; font-weight: bold\">85.00</span><span style=\"color: #000080; text-decoration-color: #000080; font-weight: bold\">% </span><span style=\"color: #808000; text-decoration-color: #808000; font-weight: bold\">missing values!</span>\n",
       "</pre>\n"
      ],
      "text/plain": [
       "\u001b[1;33mFeature \u001b[0m\u001b[1;34mresource.billablePeriod.end \u001b[0m\u001b[1;33mhad more than \u001b[0m\u001b[1;34m85.00\u001b[0m\u001b[1;34m% \u001b[0m\u001b[1;33mmissing values!\u001b[0m\n"
      ]
     },
     "metadata": {},
     "output_type": "display_data"
    },
    {
     "data": {
      "application/vnd.jupyter.widget-view+json": {
       "model_id": "4d9f0ea6b6ed40978d412c31ed93d818",
       "version_major": 2,
       "version_minor": 0
      },
      "text/plain": [
       "Output()"
      ]
     },
     "metadata": {},
     "output_type": "display_data"
    },
    {
     "name": "stderr",
     "output_type": "stream",
     "text": [
      "Intel(R) Extension for Scikit-learn* enabled (https://github.com/intel/scikit-learn-intelex)\n"
     ]
    },
    {
     "data": {
      "text/html": [
       "<pre style=\"white-space:pre;overflow-x:auto;line-height:normal;font-family:Menlo,'DejaVu Sans Mono',consolas,'Courier New',monospace\"></pre>\n"
      ],
      "text/plain": []
     },
     "metadata": {},
     "output_type": "display_data"
    },
    {
     "data": {
      "text/html": [
       "<pre style=\"white-space:pre;overflow-x:auto;line-height:normal;font-family:Menlo,'DejaVu Sans Mono',consolas,'Courier New',monospace\">\n",
       "</pre>\n"
      ],
      "text/plain": [
       "\n"
      ]
     },
     "metadata": {},
     "output_type": "display_data"
    }
   ],
   "source": [
    "ep.pp.knn_impute(adata)"
   ]
  },
  {
   "cell_type": "code",
   "execution_count": 10,
   "id": "d73b7085",
   "metadata": {},
   "outputs": [
    {
     "name": "stdout",
     "output_type": "stream",
     "text": [
      "\u001b[1;35m2023-12-18 14:17:26,540\u001b[0m - \u001b[1;34mroot\u001b[0m \u001b[1;37mINFO - The original categorical values `['resource.performedPeriod.start', 'resource.started', 'resource.date', 'resource.custodian.reference', 'resource.maritalStatus.text', 'fullUrl', 'resource.class.code', 'resource.intent', 'resource.authoredOn', 'resource.requester.reference', 'resource.birthDate', 'resource.payment.amount.currency', 'resource.primarySource', 'resource.onsetDateTime', 'resource.gender', 'resource.deceasedDateTime', 'resource.created', 'resource.effectiveDateTime', 'resource.recordedDate', 'resource.valueQuantity.code', 'resource.location.reference', 'resource.medicationCodeableConcept.text', 'resource.outcome', 'resource.subject.reference', 'resource.context.period.start', 'resource.billablePeriod.end', 'resource.issued', 'resource.abatementDateTime', 'resource.provider.reference', 'resource.valueQuantity.unit', 'resource.claim.reference', 'resource.prescription.reference', 'resource.valueCodeableConcept.text', 'resource.context.period.end', 'resource.status', 'resource.multipleBirthBoolean', 'resource.performedPeriod.end', 'patientId', 'resource.period.end', 'resource.medicationReference.reference', 'request.url', 'resource.patient.reference', 'resource.serviceProvider.reference', 'resource.vaccineCode.text', 'resource.occurrenceDateTime', 'resource.total.currency', 'resource.use', 'resource.valueQuantity.system', 'resource.billablePeriod.start', 'resource.encounter.reference', 'resource.context.reference', 'request.method', 'resource.criticality', 'resource.resourceType', 'resource.text.status', 'resource.referral.reference', 'resource.facility.reference', 'resource.period.start', 'resource.class.system', 'resource.code.text']` were added to uns.\u001b[0m\n"
     ]
    },
    {
     "data": {
      "application/vnd.jupyter.widget-view+json": {
       "model_id": "db6f642183724de88a17a52275af46c5",
       "version_major": 2,
       "version_minor": 0
      },
      "text/plain": [
       "Output()"
      ]
     },
     "metadata": {},
     "output_type": "display_data"
    },
    {
     "name": "stdout",
     "output_type": "stream",
     "text": [
      "\u001b[1;35m2023-12-18 14:17:29,908\u001b[0m - \u001b[1;34mroot\u001b[0m \u001b[1;37mINFO - Encoding strings in X to save to .h5ad. Loading the file will reverse the encoding.\u001b[0m\n"
     ]
    },
    {
     "name": "stdout",
     "output_type": "stream",
     "text": [
      "\u001b[1;35m2023-12-18 14:17:29,996\u001b[0m - \u001b[1;34mroot\u001b[0m \u001b[1;37mINFO - Updated the original layer after encoding.\u001b[0m\n"
     ]
    },
    {
     "name": "stdout",
     "output_type": "stream",
     "text": [
      "\u001b[1;35m2023-12-18 14:17:32,026\u001b[0m - \u001b[1;34mroot\u001b[0m \u001b[1;37mINFO - The original categorical values `['resource.performedPeriod.start', 'resource.started', 'resource.date', 'resource.custodian.reference', 'resource.maritalStatus.text', 'fullUrl', 'resource.class.code', 'resource.intent', 'resource.authoredOn', 'resource.requester.reference', 'resource.birthDate', 'resource.payment.amount.currency', 'resource.primarySource', 'resource.onsetDateTime', 'resource.gender', 'resource.deceasedDateTime', 'resource.created', 'resource.effectiveDateTime', 'resource.recordedDate', 'resource.valueQuantity.code', 'resource.location.reference', 'resource.medicationCodeableConcept.text', 'resource.outcome', 'resource.subject.reference', 'resource.context.period.start', 'resource.billablePeriod.end', 'resource.issued', 'resource.abatementDateTime', 'resource.provider.reference', 'resource.valueQuantity.unit', 'resource.claim.reference', 'resource.prescription.reference', 'resource.valueCodeableConcept.text', 'resource.context.period.end', 'resource.status', 'resource.multipleBirthBoolean', 'resource.performedPeriod.end', 'patientId', 'resource.period.end', 'resource.medicationReference.reference', 'request.url', 'resource.patient.reference', 'resource.serviceProvider.reference', 'resource.vaccineCode.text', 'resource.occurrenceDateTime', 'resource.total.currency', 'resource.use', 'resource.valueQuantity.system', 'resource.billablePeriod.start', 'resource.encounter.reference', 'resource.context.reference', 'request.method', 'resource.criticality', 'resource.resourceType', 'resource.text.status', 'resource.referral.reference', 'resource.facility.reference', 'resource.period.start', 'resource.class.system', 'resource.code.text']` were added to obs.\u001b[0m\n"
     ]
    },
    {
     "data": {
      "text/html": [
       "<pre style=\"white-space:pre;overflow-x:auto;line-height:normal;font-family:Menlo,'DejaVu Sans Mono',consolas,'Courier New',monospace\"></pre>\n"
      ],
      "text/plain": []
     },
     "metadata": {},
     "output_type": "display_data"
    },
    {
     "data": {
      "text/html": [
       "<pre style=\"white-space:pre;overflow-x:auto;line-height:normal;font-family:Menlo,'DejaVu Sans Mono',consolas,'Courier New',monospace\">\n",
       "</pre>\n"
      ],
      "text/plain": [
       "\n"
      ]
     },
     "metadata": {},
     "output_type": "display_data"
    }
   ],
   "source": [
    "adata = ep.pp.encode(adata, autodetect=True)"
   ]
  },
  {
   "cell_type": "code",
   "execution_count": 11,
   "id": "a2232474",
   "metadata": {},
   "outputs": [],
   "source": [
    "ep.pp.pca(adata)\n",
    "ep.pp.neighbors(adata, n_pcs=10)\n",
    "ep.tl.umap(adata)\n",
    "ep.tl.leiden(adata, resolution=0.3, key_added=\"leiden_0_3\")"
   ]
  },
  {
   "cell_type": "code",
   "execution_count": 12,
   "id": "d3ec755c",
   "metadata": {},
   "outputs": [
    {
     "data": {
      "image/png": "[encoded data removed]",
      "text/plain": [
       "<Figure size 640x480 with 1 Axes>"
      ]
     },
     "metadata": {},
     "output_type": "display_data"
    }
   ],
   "source": [
    "ep.pl.umap(adata, color=[\"leiden_0_3\"], title=\"Leiden 0.3\", size=20)"
   ]
  }
 ],
 "metadata": {
  "kernelspec": {
   "display_name": "ehrapy",
   "language": "python",
   "name": "python3"
  },
  "language_info": {
   "codemirror_mode": {
    "name": "ipython",
    "version": 3
   },
   "file_extension": ".py",
   "mimetype": "text/x-python",
   "name": "python",
   "nbconvert_exporter": "python",
   "pygments_lexer": "ipython3",
   "version": "3.11.5"
  }
 },
 "nbformat": 4,
 "nbformat_minor": 5
}
