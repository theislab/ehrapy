{
 "cells": [
  {
   "cell_type": "code",
   "execution_count": 3,
   "id": "initial_id",
   "metadata": {
    "ExecuteTime": {
     "end_time": "2025-06-20T13:48:03.351685Z",
     "start_time": "2025-06-20T13:47:59.659999Z"
    },
    "collapsed": true
   },
   "outputs": [],
   "source": [
    "import matplotlib\n",
    "\n",
    "matplotlib.use(\"Agg\")\n",
    "matplotlib.rcParams.update(\n",
    "    {\n",
    "        \"figure.dpi\": 80,\n",
    "        \"savefig.dpi\": 80,\n",
    "        \"figure.figsize\": (6, 4),\n",
    "        \"font.family\": \"DejaVu Sans\",\n",
    "        \"font.size\": 10,\n",
    "        \"axes.titlesize\": 10,\n",
    "        \"axes.labelsize\": 10,\n",
    "        \"savefig.bbox\": \"tight\",\n",
    "        \"savefig.pad_inches\": 0.02,\n",
    "    }\n",
    ")\n",
    "\n",
    "import matplotlib.pyplot as plt\n",
    "\n",
    "import ehrapy as ep"
   ]
  },
  {
   "cell_type": "code",
   "execution_count": 4,
   "id": "5e9dd450bcfebe34",
   "metadata": {
    "ExecuteTime": {
     "end_time": "2025-06-20T13:48:30.831688Z",
     "start_time": "2025-06-20T13:48:30.797669Z"
    }
   },
   "outputs": [
    {
     "name": "stdout",
     "output_type": "stream",
     "text": [
      "The autoreload extension is already loaded. To reload it, use:\n",
      "  %reload_ext autoreload\n"
     ]
    }
   ],
   "source": [
    "%load_ext autoreload\n",
    "%autoreload 2"
   ]
  },
  {
   "cell_type": "code",
   "execution_count": 5,
   "id": "b16e651a0d3e99b4",
   "metadata": {
    "ExecuteTime": {
     "end_time": "2025-06-20T13:55:12.130847Z",
     "start_time": "2025-06-20T13:55:11.982479Z"
    }
   },
   "outputs": [
    {
     "data": {
      "text/html": [
       "<pre style=\"white-space:pre;overflow-x:auto;line-height:normal;font-family:Menlo,'DejaVu Sans Mono',consolas,'Courier New',monospace\"></pre>\n"
      ],
      "text/plain": []
     },
     "metadata": {},
     "output_type": "display_data"
    }
   ],
   "source": [
    "current_notebook_dir = %pwd\n",
    "\n",
    "_TEST_IMAGE_PATH = f\"{current_notebook_dir}/../plot/_images\"\n",
    "\n",
    "adata = ep.dt.mimic_2(encoded=True)\n",
    "adata_sample = adata[:200].copy()"
   ]
  },
  {
   "cell_type": "code",
   "execution_count": 6,
   "id": "7a339f5c4ef3eba6",
   "metadata": {
    "ExecuteTime": {
     "end_time": "2025-06-20T13:55:13.905191Z",
     "start_time": "2025-06-20T13:55:13.715255Z"
    }
   },
   "outputs": [],
   "source": [
    "ep.pl.tracksplot(\n",
    "    adata_sample,\n",
    "    var_names=[\"age\", \"gender_num\", \"weight_first\", \"bmi\", \"sapsi_first\", \"day_icu_intime_num\", \"hour_icu_intime\"],\n",
    "    groupby=\"service_unit\",\n",
    "    show=False,\n",
    ")\n",
    "\n",
    "plt.gcf().savefig(f\"{_TEST_IMAGE_PATH}/tracksplot_scanpy_plt_expected.png\", dpi=80)"
   ]
  },
  {
   "cell_type": "code",
   "execution_count": null,
   "id": "60fa9162bb14e7e3",
   "metadata": {},
   "outputs": [],
   "source": []
  }
 ],
 "metadata": {
  "kernelspec": {
   "display_name": "ehrapy_env",
   "language": "python",
   "name": "python3"
  },
  "language_info": {
   "codemirror_mode": {
    "name": "ipython",
    "version": 3
   },
   "file_extension": ".py",
   "mimetype": "text/x-python",
   "name": "python",
   "nbconvert_exporter": "python",
   "pygments_lexer": "ipython3",
   "version": "3.11.13"
  }
 },
 "nbformat": 4,
 "nbformat_minor": 5
}
