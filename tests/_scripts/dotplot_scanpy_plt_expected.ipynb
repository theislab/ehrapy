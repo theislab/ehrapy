{
 "cells": [
  {
   "cell_type": "code",
   "execution_count": null,
   "id": "initial_id",
   "metadata": {
    "collapsed": true
   },
   "outputs": [],
   "source": [
    "##Create expected plots for dotplot tests"
   ]
  },
  {
   "cell_type": "code",
   "execution_count": null,
   "id": "b6d5430f3bbc9540",
   "metadata": {},
   "outputs": [],
   "source": [
    "import matplotlib.pyplot as plt\n",
    "\n",
    "import ehrapy as ep"
   ]
  },
  {
   "cell_type": "code",
   "execution_count": null,
   "id": "c6f6211e88af699d",
   "metadata": {},
   "outputs": [],
   "source": [
    "%load_ext autoreload\n",
    "%autoreload 2"
   ]
  },
  {
   "cell_type": "code",
   "execution_count": null,
   "id": "ff1944ad7264ead2",
   "metadata": {},
   "outputs": [],
   "source": [
    "current_notebook_dir = %pwd\n",
    "_TEST_IMAGE_PATH = f\"{current_notebook_dir}/../plot/_images\""
   ]
  },
  {
   "cell_type": "code",
   "execution_count": null,
   "id": "ec87dbef3bf2eb6e",
   "metadata": {},
   "outputs": [],
   "source": [
    "adata = ep.dt.mimic_2(encoded=True)"
   ]
  },
  {
   "cell_type": "code",
   "execution_count": null,
   "id": "2bcaf2b5b28f77a0",
   "metadata": {},
   "outputs": [],
   "source": [
    "ep.pl.dotplot(\n",
    "    adata,\n",
    "    var_names=[\n",
    "        \"abg_count\",\n",
    "        \"wbc_first\",\n",
    "        \"hgb_first\",\n",
    "        \"potassium_first\",\n",
    "        \"tco2_first\",\n",
    "        \"bun_first\",\n",
    "        \"creatinine_first\",\n",
    "        \"pco2_first\",\n",
    "    ],\n",
    "    groupby=\"service_unit\",\n",
    "    show=False,\n",
    "    figsize=(5, 6),\n",
    ")\n",
    "\n",
    "plt.gcf().savefig(f\"{_TEST_IMAGE_PATH}/dotplot_scanpy_plt_expected.png\", dpi=80)"
   ]
  }
 ],
 "metadata": {
  "kernelspec": {
   "display_name": "Python 3",
   "language": "python",
   "name": "python3"
  },
  "language_info": {
   "codemirror_mode": {
    "name": "ipython",
    "version": 2
   },
   "file_extension": ".py",
   "mimetype": "text/x-python",
   "name": "python",
   "nbconvert_exporter": "python",
   "pygments_lexer": "ipython2",
   "version": "2.7.6"
  }
 },
 "nbformat": 4,
 "nbformat_minor": 5
}
