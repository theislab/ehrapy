{
 "cells": [
  {
   "cell_type": "code",
   "id": "initial_id",
   "metadata": {
    "collapsed": true
   },
   "source": "##Create expected plots for dotplot tests",
   "outputs": [],
   "execution_count": null
  },
  {
   "metadata": {},
   "cell_type": "code",
   "source": [
    "import matplotlib.pyplot as plt\n",
    "import ehrapy as ep"
   ],
   "id": "b6d5430f3bbc9540",
   "outputs": [],
   "execution_count": null
  },
  {
   "metadata": {},
   "cell_type": "code",
   "source": [
    "%load_ext autoreload\n",
    "%autoreload 2"
   ],
   "id": "c6f6211e88af699d",
   "outputs": [],
   "execution_count": null
  },
  {
   "metadata": {},
   "cell_type": "code",
   "source": [
    "current_notebook_dir = %pwd\n",
    "_TEST_IMAGE_PATH = f\"{current_notebook_dir}/../plot/_images\""
   ],
   "id": "ff1944ad7264ead2",
   "outputs": [],
   "execution_count": null
  },
  {
   "metadata": {},
   "cell_type": "code",
   "source": "adata = ep.dt.mimic_2(encoded=True)",
   "id": "ec87dbef3bf2eb6e",
   "outputs": [],
   "execution_count": null
  },
  {
   "metadata": {},
   "cell_type": "code",
   "source": [
    "ep.pl.dotplot(adata, var_names=[\n",
    "                    \"abg_count\",\n",
    "                    \"wbc_first\",\n",
    "                    \"hgb_first\",\n",
    "                    \"potassium_first\",\n",
    "                    \"tco2_first\",\n",
    "                    \"bun_first\",\n",
    "                    \"creatinine_first\",\n",
    "                    \"pco2_first\"],\n",
    "            groupby=\"service_unit\", show=False, figsize=(5, 6))\n",
    "\n",
    "plt.gcf().savefig(f\"{_TEST_IMAGE_PATH}/dotplot_scanpy_plt_expected.png\", dpi=80)"
   ],
   "id": "2bcaf2b5b28f77a0",
   "outputs": [],
   "execution_count": null
  }
 ],
 "metadata": {
  "kernelspec": {
   "display_name": "Python 3",
   "language": "python",
   "name": "python3"
  },
  "language_info": {
   "codemirror_mode": {
    "name": "ipython",
    "version": 2
   },
   "file_extension": ".py",
   "mimetype": "text/x-python",
   "name": "python",
   "nbconvert_exporter": "python",
   "pygments_lexer": "ipython2",
   "version": "2.7.6"
  }
 },
 "nbformat": 4,
 "nbformat_minor": 5
}
