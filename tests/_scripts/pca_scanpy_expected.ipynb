{
 "cells": [
  {
   "cell_type": "code",
   "execution_count": null,
   "id": "initial_id",
   "metadata": {
    "ExecuteTime": {
     "end_time": "2025-07-04T09:01:55.917894Z",
     "start_time": "2025-07-04T09:01:51.657126Z"
    },
    "collapsed": true
   },
   "outputs": [],
   "source": [
    "import matplotlib.pyplot as plt\n",
    "\n",
    "import ehrapy as ep\n",
    "import numpy as np"
   ]
  },
  {
   "cell_type": "code",
   "execution_count": null,
   "id": "2f777b887869e5d5",
   "metadata": {
    "ExecuteTime": {
     "end_time": "2025-07-04T09:01:57.369984Z",
     "start_time": "2025-07-04T09:01:57.337757Z"
    }
   },
   "outputs": [],
   "source": [
    "%load_ext autoreload\n",
    "%autoreload 2"
   ]
  },
  {
   "cell_type": "code",
   "execution_count": null,
   "id": "c8c0248ef4530197",
   "metadata": {
    "ExecuteTime": {
     "end_time": "2025-07-04T09:01:58.553008Z",
     "start_time": "2025-07-04T09:01:58.522359Z"
    }
   },
   "outputs": [],
   "source": [
    "current_notebook_dir = %pwd\n",
    "\n",
    "_TEST_IMAGE_PATH = f\"{current_notebook_dir}/../plot/_images\""
   ]
  },
  {
   "cell_type": "code",
   "execution_count": null,
   "id": "10e1a968da350038",
   "metadata": {
    "ExecuteTime": {
     "end_time": "2025-07-04T09:01:59.289865Z",
     "start_time": "2025-07-04T09:01:59.024423Z"
    }
   },
   "outputs": [],
   "source": [
    "adata_full= ep.dt.mimic_2(columns_obs_only=[\"service_unit\", \"day_icu_intime\"])\n",
    "adata_full = adata_full[~np.isnan(adata_full.X).any(axis=1)].copy()\n",
    "adata = adata_full[:200, :].copy()\n",
    "del adata_full\n",
    "adata = ep.pp.encode(adata, autodetect=True)"
   ]
  },
  {
   "cell_type": "code",
   "execution_count": null,
   "id": "e4735d6487006e35",
   "metadata": {
    "ExecuteTime": {
     "end_time": "2025-07-04T09:02:07.530119Z",
     "start_time": "2025-07-04T09:02:07.496056Z"
    }
   },
   "outputs": [],
   "source": [
    "ep.pp.pca(adata)\n",
    "ep.pp.neighbors(adata)"
   ]
  },
  {
   "cell_type": "code",
   "execution_count": null,
   "id": "6d4ee6ff",
   "metadata": {},
   "outputs": [],
   "source": [
    "ep.pl.pca(adata, color=\"service_unit\", show=False)\n",
    "\n",
    "plt.gcf().set_size_inches(8,6)\n",
    "plt.gcf().subplots_adjust(left=0.2, right=0.8, bottom=0.2, top=0.8)\n",
    "plt.gcf().savefig(f\"{_TEST_IMAGE_PATH}/pca_expected.png\", dpi=80)"
   ]
  }
 ],
 "metadata": {
  "kernelspec": {
   "display_name": "ehrapy_env",
   "language": "python",
   "name": "python3"
  },
  "language_info": {
   "codemirror_mode": {
    "name": "ipython",
    "version": 3
   },
   "file_extension": ".py",
   "mimetype": "text/x-python",
   "name": "python",
   "nbconvert_exporter": "python",
   "pygments_lexer": "ipython3",
   "version": "3.11.0"
  }
 },
 "nbformat": 4,
 "nbformat_minor": 5
}
