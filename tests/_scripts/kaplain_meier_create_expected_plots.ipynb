{
 "cells": [
  {
   "cell_type": "code",
   "execution_count": 1,
   "metadata": {},
   "outputs": [],
   "source": [
    "%load_ext autoreload\n",
    "%autoreload 2"
   ]
  },
  {
   "cell_type": "code",
   "execution_count": 2,
   "metadata": {},
   "outputs": [],
   "source": [
    "import numpy as np\n",
    "\n",
    "import ehrapy as ep\n",
    "\n",
    "current_notebook_dir = %pwd\n",
    "_TEST_IMAGE_PATH = f\"{current_notebook_dir}/../plot/_images\"\n",
    "mimic_2 = ep.dt.mimic_2(encoded=False)"
   ]
  },
  {
   "cell_type": "code",
   "execution_count": 3,
   "metadata": {},
   "outputs": [],
   "source": [
    "mimic_2[:, [\"censor_flg\"]].X = np.where(mimic_2[:, [\"censor_flg\"]].X == 0, 1, 0)\n",
    "groups = mimic_2[:, [\"service_unit\"]].X\n",
    "adata_ficu = mimic_2[groups == \"FICU\"]\n",
    "adata_micu = mimic_2[groups == \"MICU\"]\n",
    "kmf_1 = ep.tl.kaplan_meier(adata_ficu, duration_col=\"mort_day_censored\", event_col=\"censor_flg\", label=\"FICU\")\n",
    "kmf_2 = ep.tl.kaplan_meier(adata_micu, duration_col=\"mort_day_censored\", event_col=\"censor_flg\", label=\"MICU\")"
   ]
  },
  {
   "cell_type": "code",
   "execution_count": null,
   "metadata": {},
   "outputs": [],
   "source": [
    "fig, ax = ep.pl.kaplan_meier(\n",
    "    [kmf_1, kmf_2],\n",
    "    ci_show=[False, False, False],\n",
    "    color=[\"k\", \"r\"],\n",
    "    xlim=[0, 750],\n",
    "    ylim=[0, 1],\n",
    "    xlabel=\"Days\",\n",
    "    ylabel=\"Proportion Survived\",\n",
    ")"
   ]
  },
  {
   "cell_type": "code",
   "execution_count": 5,
   "metadata": {},
   "outputs": [],
   "source": [
    "fig.savefig(f\"{_TEST_IMAGE_PATH}/kaplan_meier_expected.png\", dpi=80)"
   ]
  },
  {
   "cell_type": "code",
   "execution_count": null,
   "metadata": {},
   "outputs": [],
   "source": [
    "fig, ax = ep.pl.kaplan_meier(\n",
    "    [kmf_1, kmf_2],\n",
    "    ci_show=[False, False, False],\n",
    "    color=[\"k\", \"r\"],\n",
    "    xlim=[0, 750],\n",
    "    ylim=[0, 1],\n",
    "    xlabel=\"Days\",\n",
    "    ylabel=\"Proportion Survived\",\n",
    "    display_survival_statistics=True,\n",
    "    grid=True,\n",
    ")"
   ]
  },
  {
   "cell_type": "code",
   "execution_count": 7,
   "metadata": {},
   "outputs": [],
   "source": [
    "fig.savefig(f\"{_TEST_IMAGE_PATH}/kaplan_meier_table_expected.png\", dpi=80)"
   ]
  }
 ],
 "metadata": {
  "kernelspec": {
   "display_name": "Python 3",
   "language": "python",
   "name": "python3"
  },
  "language_info": {
   "codemirror_mode": {
    "name": "ipython",
    "version": 3
   },
   "file_extension": ".py",
   "mimetype": "text/x-python",
   "name": "python",
   "nbconvert_exporter": "python",
   "pygments_lexer": "ipython3",
   "version": "3.11.10"
  }
 },
 "nbformat": 4,
 "nbformat_minor": 2
}
