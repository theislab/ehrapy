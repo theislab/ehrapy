{
 "cells": [
  {
   "cell_type": "code",
   "id": "initial_id",
   "metadata": {
    "collapsed": true
   },
   "source": [
    "import matplotlib.pyplot as plt\n",
    "import ehrapy as ep"
   ],
   "outputs": [],
   "execution_count": null
  },
  {
   "metadata": {},
   "cell_type": "code",
   "source": [
    "%load_ext autoreload\n",
    "%autoreload 2"
   ],
   "id": "98d1c8e30b90318e",
   "outputs": [],
   "execution_count": null
  },
  {
   "metadata": {},
   "cell_type": "code",
   "source": [
    "current_notebook_dir = %pwd\n",
    "_TEST_DATA_PATH = f\"/Users/oykusuoglu/projects/helmholtz/typo-fix/tests/data/dataset1.csv\"\n",
    "_TEST_IMAGE_PATH = f\"{current_notebook_dir}/../plot/_images\""
   ],
   "id": "93aba3263fa65a55",
   "outputs": [],
   "execution_count": null
  },
  {
   "metadata": {},
   "cell_type": "code",
   "source": [
    "adata_mini = ep.io.read_csv(_TEST_DATA_PATH, columns_obs_only=[\"sys_bp_entry\",\"dia_bp_entry\",\"glucose\",\"weight\",\"in_days\",\"disease\"])\n",
    "adata_features = adata_mini[:, [var for var in adata_mini.var_names if var != \"idx\" and var != \"station\"]].copy()"
   ],
   "id": "ea9a22eac5f0da4d",
   "outputs": [],
   "execution_count": null
  },
  {
   "metadata": {},
   "cell_type": "code",
   "source": "print({var: adata_mini[:, var].X.dtype for var in adata_mini.var_names})",
   "id": "857605f04507ae97",
   "outputs": [],
   "execution_count": null
  },
  {
   "metadata": {},
   "cell_type": "code",
   "source": [
    "ep.pl.dendrogram(adata_features, groupby=\"disease\")\n",
    "\n",
    "plt.gcf().savefig(f\"{_TEST_IMAGE_PATH}/dendogram_expected.png\", dpi=80)"
   ],
   "id": "ccd954c0a0d254ec",
   "outputs": [],
   "execution_count": null
  }
 ],
 "metadata": {
  "kernelspec": {
   "display_name": "Python 3",
   "language": "python",
   "name": "python3"
  },
  "language_info": {
   "codemirror_mode": {
    "name": "ipython",
    "version": 2
   },
   "file_extension": ".py",
   "mimetype": "text/x-python",
   "name": "python",
   "nbconvert_exporter": "python",
   "pygments_lexer": "ipython2",
   "version": "2.7.6"
  }
 },
 "nbformat": 4,
 "nbformat_minor": 5
}
