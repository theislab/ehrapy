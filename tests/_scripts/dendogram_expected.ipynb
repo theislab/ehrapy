{
 "cells": [
  {
   "cell_type": "code",
   "execution_count": 1,
   "id": "initial_id",
   "metadata": {
    "ExecuteTime": {
     "end_time": "2025-06-23T13:18:50.159456Z",
     "start_time": "2025-06-23T13:18:46.085765Z"
    },
    "collapsed": true
   },
   "outputs": [],
   "source": [
    "import matplotlib.pyplot as plt\n",
    "\n",
    "import ehrapy as ep"
   ]
  },
  {
   "cell_type": "code",
   "execution_count": 2,
   "id": "98d1c8e30b90318e",
   "metadata": {
    "ExecuteTime": {
     "end_time": "2025-06-23T13:18:55.861936Z",
     "start_time": "2025-06-23T13:18:55.826961Z"
    }
   },
   "outputs": [],
   "source": [
    "%load_ext autoreload\n",
    "%autoreload 2"
   ]
  },
  {
   "cell_type": "code",
   "execution_count": 3,
   "id": "93aba3263fa65a55",
   "metadata": {
    "ExecuteTime": {
     "end_time": "2025-06-23T13:18:56.568571Z",
     "start_time": "2025-06-23T13:18:56.539854Z"
    }
   },
   "outputs": [],
   "source": [
    "current_notebook_dir = %pwd\n",
    "_TEST_IMAGE_PATH = f\"{current_notebook_dir}/../plot/_images\""
   ]
  },
  {
   "cell_type": "code",
   "execution_count": 4,
   "id": "ea9a22eac5f0da4d",
   "metadata": {
    "ExecuteTime": {
     "end_time": "2025-06-23T13:18:57.056540Z",
     "start_time": "2025-06-23T13:18:56.974019Z"
    }
   },
   "outputs": [
    {
     "data": {
      "application/vnd.jupyter.widget-view+json": {
       "model_id": "c13ce300da20413ba0846842dff8f625",
       "version_major": 2,
       "version_minor": 0
      },
      "text/plain": [
       "Output()"
      ]
     },
     "metadata": {},
     "output_type": "display_data"
    },
    {
     "data": {
      "text/html": [
       "<pre style=\"white-space:pre;overflow-x:auto;line-height:normal;font-family:Menlo,'DejaVu Sans Mono',consolas,'Courier New',monospace\"></pre>\n"
      ],
      "text/plain": []
     },
     "metadata": {},
     "output_type": "display_data"
    }
   ],
   "source": [
    "adata = ep.dt.mimic_2(encoded=True)"
   ]
  },
  {
   "cell_type": "code",
   "execution_count": 5,
   "id": "857605f04507ae97",
   "metadata": {
    "ExecuteTime": {
     "end_time": "2025-06-23T13:18:57.580879Z",
     "start_time": "2025-06-23T13:18:57.558384Z"
    }
   },
   "outputs": [],
   "source": [
    "adata_sample = adata[\n",
    "    :200,\n",
    "    [\n",
    "        \"abg_count\",\n",
    "        \"wbc_first\",\n",
    "        \"hgb_first\",\n",
    "        \"potassium_first\",\n",
    "        \"tco2_first\",\n",
    "        \"bun_first\",\n",
    "        \"creatinine_first\",\n",
    "        \"pco2_first\",\n",
    "    ],\n",
    "].copy()"
   ]
  },
  {
   "cell_type": "code",
   "execution_count": 9,
   "id": "ccd954c0a0d254ec",
   "metadata": {
    "ExecuteTime": {
     "end_time": "2025-06-23T13:30:28.391335Z",
     "start_time": "2025-06-23T13:30:28.262584Z"
    }
   },
   "outputs": [
    {
     "data": {
      "image/png": "[encoded data removed]",
      "text/plain": [
       "<Figure size 640x480 with 1 Axes>"
      ]
     },
     "metadata": {},
     "output_type": "display_data"
    }
   ],
   "source": [
    "ep.pl.dendrogram(adata_sample, groupby=\"day_icu_intime\", show=False)\n",
    "\n",
    "plt.gcf().savefig(f\"{_TEST_IMAGE_PATH}/dendogram_expected.png\", dpi=80)"
   ]
  },
  {
   "cell_type": "code",
   "execution_count": null,
   "id": "5327fbac33dc4114",
   "metadata": {},
   "outputs": [],
   "source": []
  }
 ],
 "metadata": {
  "kernelspec": {
   "display_name": "Python 3",
   "language": "python",
   "name": "python3"
  },
  "language_info": {
   "codemirror_mode": {
    "name": "ipython",
    "version": 2
   },
   "file_extension": ".py",
   "mimetype": "text/x-python",
   "name": "python",
   "nbconvert_exporter": "python",
   "pygments_lexer": "ipython2",
   "version": "2.7.6"
  }
 },
 "nbformat": 4,
 "nbformat_minor": 5
}
