{
 "cells": [
  {
   "cell_type": "code",
   "execution_count": null,
   "id": "initial_id",
   "metadata": {
    "collapsed": true
   },
   "outputs": [],
   "source": [
    "import matplotlib.pyplot as plt\n",
    "\n",
    "import ehrapy as ep"
   ]
  },
  {
   "cell_type": "code",
   "execution_count": null,
   "id": "98d1c8e30b90318e",
   "metadata": {},
   "outputs": [],
   "source": [
    "%load_ext autoreload\n",
    "%autoreload 2"
   ]
  },
  {
   "cell_type": "code",
   "execution_count": null,
   "id": "93aba3263fa65a55",
   "metadata": {},
   "outputs": [],
   "source": [
    "current_notebook_dir = %pwd\n",
    "_TEST_DATA_PATH = \"/Users/oykusuoglu/projects/helmholtz/typo-fix/tests/data/dataset1.csv\"\n",
    "_TEST_IMAGE_PATH = f\"{current_notebook_dir}/../plot/_images\""
   ]
  },
  {
   "cell_type": "code",
   "execution_count": null,
   "id": "ea9a22eac5f0da4d",
   "metadata": {},
   "outputs": [],
   "source": [
    "adata_mini = ep.io.read_csv(\n",
    "    _TEST_DATA_PATH, columns_obs_only=[\"sys_bp_entry\", \"dia_bp_entry\", \"glucose\", \"weight\", \"in_days\", \"disease\"]\n",
    ")\n",
    "adata_features = adata_mini[:, [var for var in adata_mini.var_names if var != \"idx\" and var != \"station\"]].copy()"
   ]
  },
  {
   "cell_type": "code",
   "execution_count": null,
   "id": "857605f04507ae97",
   "metadata": {},
   "outputs": [],
   "source": [
    "print({var: adata_mini[:, var].X.dtype for var in adata_mini.var_names})"
   ]
  },
  {
   "cell_type": "code",
   "execution_count": null,
   "id": "ccd954c0a0d254ec",
   "metadata": {},
   "outputs": [],
   "source": [
    "ep.pl.dendrogram(adata_features, groupby=\"disease\")\n",
    "\n",
    "plt.gcf().savefig(f\"{_TEST_IMAGE_PATH}/dendogram_expected.png\", dpi=80)"
   ]
  }
 ],
 "metadata": {
  "kernelspec": {
   "display_name": "Python 3",
   "language": "python",
   "name": "python3"
  },
  "language_info": {
   "codemirror_mode": {
    "name": "ipython",
    "version": 2
   },
   "file_extension": ".py",
   "mimetype": "text/x-python",
   "name": "python",
   "nbconvert_exporter": "python",
   "pygments_lexer": "ipython2",
   "version": "2.7.6"
  }
 },
 "nbformat": 4,
 "nbformat_minor": 5
}
