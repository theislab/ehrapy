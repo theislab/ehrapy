{
 "cells": [
  {
   "cell_type": "code",
   "execution_count": 1,
   "id": "initial_id",
   "metadata": {
    "ExecuteTime": {
     "end_time": "2025-06-27T17:32:26.405274Z",
     "start_time": "2025-06-27T17:32:26.373259Z"
    }
   },
   "outputs": [],
   "source": [
    "import matplotlib as mpl\n",
    "import matplotlib.pyplot as plt\n",
    "\n",
    "import ehrapy as ep\n",
    "\n",
    "mpl.use(\"Agg\", force=True)\n",
    "mpl.rcParams.update(\n",
    "    {\n",
    "        \"figure.figsize\": (8, 6),\n",
    "        \"figure.dpi\": 80,\n",
    "        \"savefig.dpi\": 80,\n",
    "        \"savefig.facecolor\": \"white\",\n",
    "        \"axes.facecolor\": \"white\",\n",
    "        \"font.family\": \"DejaVu Sans\",\n",
    "        \"font.sans-serif\": [\"DejaVu Sans\"],\n",
    "        \"mathtext.fontset\": \"dejavusans\",\n",
    "        \"text.antialiased\": False,\n",
    "    }\n",
    ")"
   ]
  },
  {
   "cell_type": "code",
   "execution_count": 2,
   "id": "e2f7304a5b48d0f9",
   "metadata": {
    "ExecuteTime": {
     "end_time": "2025-06-27T17:32:26.429228Z",
     "start_time": "2025-06-27T17:32:26.406757Z"
    }
   },
   "outputs": [],
   "source": [
    "%load_ext autoreload\n",
    "%autoreload 2"
   ]
  },
  {
   "cell_type": "code",
   "execution_count": 3,
   "id": "6b5effc1a5712055",
   "metadata": {
    "ExecuteTime": {
     "end_time": "2025-06-27T17:32:26.488770Z",
     "start_time": "2025-06-27T17:32:26.429912Z"
    }
   },
   "outputs": [
    {
     "data": {
      "text/html": [
       "<pre style=\"white-space:pre;overflow-x:auto;line-height:normal;font-family:Menlo,'DejaVu Sans Mono',consolas,'Courier New',monospace\"></pre>\n"
      ],
      "text/plain": []
     },
     "metadata": {},
     "output_type": "display_data"
    }
   ],
   "source": [
    "current_notebook_dir = %pwd\n",
    "\n",
    "_TEST_IMAGE_PATH = f\"{current_notebook_dir}/../plot/_images\"\n",
    "\n",
    "adata = ep.dt.mimic_2(encoded=True)"
   ]
  },
  {
   "cell_type": "code",
   "execution_count": 4,
   "id": "39e502600db58b3d",
   "metadata": {
    "ExecuteTime": {
     "end_time": "2025-06-27T17:32:26.511200Z",
     "start_time": "2025-06-27T17:32:26.490139Z"
    }
   },
   "outputs": [],
   "source": [
    "adata_sample = adata[\n",
    "    :200,\n",
    "    [\n",
    "        \"abg_count\",\n",
    "        \"wbc_first\",\n",
    "        \"hgb_first\",\n",
    "        \"potassium_first\",\n",
    "        \"tco2_first\",\n",
    "        \"bun_first\",\n",
    "        \"creatinine_first\",\n",
    "        \"pco2_first\",\n",
    "    ],\n",
    "].copy()"
   ]
  },
  {
   "cell_type": "code",
   "execution_count": 5,
   "id": "d910f4d2a01b213e",
   "metadata": {
    "ExecuteTime": {
     "end_time": "2025-06-27T17:32:26.606936Z",
     "start_time": "2025-06-27T17:32:26.511973Z"
    }
   },
   "outputs": [],
   "source": [
    "ep.tl.rank_features_groups(adata_sample, groupby=\"service_unit\")\n",
    "ep.pl.rank_features_groups(adata_sample, key=\"rank_features_groups\", groups=[\"MICU\"], show=False)\n",
    "\n",
    "plt.gcf().set_size_inches(8, 6)\n",
    "plt.gcf().subplots_adjust(left=0.2, right=0.8, bottom=0.2, top=0.8)\n",
    "\n",
    "plt.gcf().savefig(f\"{_TEST_IMAGE_PATH}/rank_features_groups_scanpy_plt_expected.png\", dpi=80)"
   ]
  },
  {
   "cell_type": "code",
   "execution_count": null,
   "id": "3b9903ea233a2572",
   "metadata": {
    "ExecuteTime": {
     "end_time": "2025-06-27T17:32:26.609636Z",
     "start_time": "2025-06-27T17:32:26.607792Z"
    }
   },
   "outputs": [],
   "source": []
  }
 ],
 "metadata": {
  "kernelspec": {
   "display_name": "ehrapy_env_clean",
   "language": "python",
   "name": "python3"
  },
  "language_info": {
   "codemirror_mode": {
    "name": "ipython",
    "version": 3
   },
   "file_extension": ".py",
   "mimetype": "text/x-python",
   "name": "python",
   "nbconvert_exporter": "python",
   "pygments_lexer": "ipython3",
   "version": "3.11.8"
  }
 },
 "nbformat": 4,
 "nbformat_minor": 5
}
