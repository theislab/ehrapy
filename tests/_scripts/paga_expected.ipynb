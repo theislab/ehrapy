{
 "cells": [
  {
   "cell_type": "code",
   "execution_count": 11,
   "id": "00c2608d",
   "metadata": {},
   "outputs": [],
   "source": [
    "import matplotlib.pyplot as plt\n",
    "import numpy as np\n",
    "\n",
    "import ehrapy as ep"
   ]
  },
  {
   "cell_type": "code",
   "execution_count": 12,
   "id": "40b66010",
   "metadata": {},
   "outputs": [
    {
     "name": "stdout",
     "output_type": "stream",
     "text": [
      "The autoreload extension is already loaded. To reload it, use:\n",
      "  %reload_ext autoreload\n"
     ]
    }
   ],
   "source": [
    "%load_ext autoreload\n",
    "%autoreload 2"
   ]
  },
  {
   "cell_type": "code",
   "execution_count": 13,
   "id": "5e1e4948",
   "metadata": {},
   "outputs": [],
   "source": [
    "current_notebook_dir = %pwd\n",
    "\n",
    "_TEST_IMAGE_PATH = f\"{current_notebook_dir}/../plot/_images\""
   ]
  },
  {
   "cell_type": "code",
   "execution_count": 14,
   "id": "af88ecc1",
   "metadata": {},
   "outputs": [
    {
     "name": "stdout",
     "output_type": "stream",
     "text": [
      "\u001b[93m!\u001b[0m Features 'aline_flg', 'gender_num', 'service_num', 'day_icu_intime_num', 'hour_icu_intime', 'hosp_exp_flg', 'icu_exp_flg', 'day_28_flg', 'censor_flg', 'sepsis_flg', 'chf_flg', 'afib_flg', 'renal_flg', 'liver_flg', 'copd_flg', 'cad_flg', 'stroke_flg', 'mal_flg', 'resp_flg' were detected as categorical features stored numerically.Please verify and correct using `ep.ad.replace_feature_types` if necessary.\n",
      "\u001b[93m!\u001b[0m Feature types were inferred and stored in adata.var[feature_type]. Please verify using `ep.ad.feature_type_overview` and adjust if necessary using `ep.ad.replace_feature_types`.\n",
      "\u001b[93m!\u001b[0m Detected no columns that need to be encoded. Leaving passed AnnData object unchanged.\n"
     ]
    },
    {
     "data": {
      "text/html": [
       "<pre style=\"white-space:pre;overflow-x:auto;line-height:normal;font-family:Menlo,'DejaVu Sans Mono',consolas,'Courier New',monospace\"></pre>\n"
      ],
      "text/plain": []
     },
     "metadata": {},
     "output_type": "display_data"
    },
    {
     "data": {
      "text/plain": [
       "AnnData object with n_obs × n_vars = 200 × 44\n",
       "    obs: 'service_unit', 'day_icu_intime', 'missing_values_abs', 'missing_values_pct'\n",
       "    var: 'feature_type', 'missing_values_abs', 'missing_values_pct', 'mean', 'median', 'standard_deviation', 'min', 'max', 'iqr_outliers'\n",
       "    uns: 'normalization'\n",
       "    layers: 'original', 'raw_norm'"
      ]
     },
     "execution_count": 14,
     "metadata": {},
     "output_type": "execute_result"
    }
   ],
   "source": [
    "adata_full = ep.dt.mimic_2(columns_obs_only=[\"service_unit\", \"day_icu_intime\"])\n",
    "adata_full = adata_full[~np.isnan(adata_full.X).any(axis=1)].copy()\n",
    "adata = adata_full[:200, :].copy()\n",
    "del adata_full\n",
    "\n",
    "adata = ep.pp.encode(adata, autodetect=True)\n",
    "ep.pp.simple_impute(adata)\n",
    "ep.pp.log_norm(adata, offset=1)"
   ]
  },
  {
   "cell_type": "code",
   "execution_count": 15,
   "id": "38c00a23",
   "metadata": {},
   "outputs": [],
   "source": [
    "ep.pp.neighbors(adata, random_state=0)\n",
    "ep.tl.leiden(adata, resolution=0.5, key_added=\"leiden_0_5\", random_state=0)\n",
    "ep.tl.paga(adata, groups=\"leiden_0_5\")"
   ]
  },
  {
   "cell_type": "code",
   "execution_count": 16,
   "id": "a33d281b",
   "metadata": {},
   "outputs": [],
   "source": [
    "plt.gcf().set_size_inches(16, 6)\n",
    "ep.pl.paga(\n",
    "    adata,\n",
    "    color=[\"leiden_0_5\", \"day_28_flg\"],\n",
    "    threshold=0.5,\n",
    "    max_edge_width=1.0,\n",
    "    random_state=0,\n",
    "    cmap=ep.pl.Colormaps.grey_red.value,\n",
    "    title=[\"Leiden 0.5\", \"Died in less than 28 days\"],\n",
    "    show=False,\n",
    ")\n",
    "\n",
    "plt.gcf().subplots_adjust(left=0.2, right=0.8, bottom=0.2, top=0.8)\n",
    "\n",
    "plt.gcf().savefig(f\"{_TEST_IMAGE_PATH}/paga_expected.png\", dpi=80)\n",
    "plt.close(\"all\")"
   ]
  }
 ],
 "metadata": {
  "kernelspec": {
   "display_name": "ehrapy_env_clean",
   "language": "python",
   "name": "python3"
  },
  "language_info": {
   "codemirror_mode": {
    "name": "ipython",
    "version": 3
   },
   "file_extension": ".py",
   "mimetype": "text/x-python",
   "name": "python",
   "nbconvert_exporter": "python",
   "pygments_lexer": "ipython3",
   "version": "3.11.8"
  }
 },
 "nbformat": 4,
 "nbformat_minor": 5
}
