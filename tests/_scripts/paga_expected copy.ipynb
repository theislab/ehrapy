{
 "cells": [
  {
   "cell_type": "code",
   "execution_count": 2,
   "id": "00c2608d",
   "metadata": {},
   "outputs": [],
   "source": [
    "import matplotlib.pyplot as plt\n",
    "import numpy as np\n",
    "\n",
    "import ehrapy as ep"
   ]
  },
  {
   "cell_type": "code",
   "execution_count": 3,
   "id": "40b66010",
   "metadata": {},
   "outputs": [],
   "source": [
    "%load_ext autoreload\n",
    "%autoreload 2"
   ]
  },
  {
   "cell_type": "code",
   "execution_count": 4,
   "id": "5e1e4948",
   "metadata": {},
   "outputs": [],
   "source": [
    "current_notebook_dir = %pwd\n",
    "\n",
    "_TEST_IMAGE_PATH = f\"{current_notebook_dir}/../plot/_images\""
   ]
  },
  {
   "cell_type": "code",
   "execution_count": null,
   "id": "a33d281b",
   "metadata": {},
   "outputs": [
    {
     "data": {
      "text/html": [
       "<pre style=\"white-space:pre;overflow-x:auto;line-height:normal;font-family:Menlo,'DejaVu Sans Mono',consolas,'Courier New',monospace\"></pre>\n"
      ],
      "text/plain": []
     },
     "metadata": {},
     "output_type": "display_data"
    },
    {
     "data": {
      "text/html": [
       "<pre style=\"white-space:pre;overflow-x:auto;line-height:normal;font-family:Menlo,'DejaVu Sans Mono',consolas,'Courier New',monospace\"></pre>\n"
      ],
      "text/plain": []
     },
     "metadata": {},
     "output_type": "display_data"
    }
   ],
   "source": [
    "adata = ep.dt.mimic_2(encoded=True)\n",
    "ep.pp.knn_impute(adata)\n",
    "ep.pp.log_norm(adata, offset=1)\n",
    "ep.pp.neighbors(adata)\n",
    "ep.tl.leiden(adata, resolution=0.5, key_added=\"leiden_0_5\")\n",
    "ep.tl.paga(adata, groups=\"leiden_0_5\")\n",
    "ep.pl.paga(\n",
    "    adata,\n",
    "    color=[\"leiden_0_5\", \"day_28_flg\"],\n",
    "    cmap=ep.pl.Colormaps.grey_red.value,\n",
    "    title=[\"Leiden 0.5\", \"Died in less than 28 days\"],\n",
    "    show=False,\n",
    ")\n",
    "\n",
    "plt.gcf().savefig(f\"{_TEST_IMAGE_PATH}/paga_expected.png\", dpi=80)\n",
    "plt.close(\"all\")"
   ]
  }
 ],
 "metadata": {
  "kernelspec": {
   "display_name": "ehrapy_env_clean",
   "language": "python",
   "name": "python3"
  },
  "language_info": {
   "codemirror_mode": {
    "name": "ipython",
    "version": 3
   },
   "file_extension": ".py",
   "mimetype": "text/x-python",
   "name": "python",
   "nbconvert_exporter": "python",
   "pygments_lexer": "ipython3",
   "version": "3.11.8"
  }
 },
 "nbformat": 4,
 "nbformat_minor": 5
}
