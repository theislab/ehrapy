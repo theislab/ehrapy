{
 "cells": [
  {
   "cell_type": "code",
   "id": "initial_id",
   "metadata": {
    "collapsed": true
   },
   "source": [
    "import matplotlib.pyplot as plt\n",
    "import ehrapy as ep"
   ],
   "outputs": [],
   "execution_count": null
  },
  {
   "metadata": {},
   "cell_type": "code",
   "source": [
    "%load_ext autoreload\n",
    "%autoreload 2"
   ],
   "id": "c1048f7df9c6886a",
   "outputs": [],
   "execution_count": null
  },
  {
   "metadata": {},
   "cell_type": "code",
   "source": [
    "current_notebook_dir = %pwd\n",
    "\n",
    "_TEST_IMAGE_PATH = f\"{current_notebook_dir}/../plot/_images\"\n",
    "\n",
    "adata = ep.dt.mimic_2(encoded=True)\n",
    "adata_sample = adata[:200].copy()"
   ],
   "id": "323cbc567b099976",
   "outputs": [],
   "execution_count": null
  },
  {
   "metadata": {},
   "cell_type": "code",
   "source": [
    "ep.pl.stacked_violin(adata_sample,\n",
    "                     var_names= \n",
    "                        [\"icu_los_day\",\n",
    "                        \"hospital_los_day\",\n",
    "                        \"age\",\n",
    "                        \"gender_num\",\n",
    "                        \"weight_first\",\n",
    "                         \"bmi\"], \n",
    "                     groupby=\"service_unit\", \n",
    "                     show=False)\n",
    "plt.gcf().savefig(f\"{_TEST_IMAGE_PATH}/stacked_violin_scanpy_plt_expected.png\", dpi=80)"
   ],
   "id": "28f422d2dfe0ac52",
   "outputs": [],
   "execution_count": null
  },
  {
   "metadata": {},
   "cell_type": "code",
   "source": "",
   "id": "a2b780748cf18cc0",
   "outputs": [],
   "execution_count": null
  }
 ],
 "metadata": {
  "kernelspec": {
   "display_name": "Python 3",
   "language": "python",
   "name": "python3"
  },
  "language_info": {
   "codemirror_mode": {
    "name": "ipython",
    "version": 2
   },
   "file_extension": ".py",
   "mimetype": "text/x-python",
   "name": "python",
   "nbconvert_exporter": "python",
   "pygments_lexer": "ipython2",
   "version": "2.7.6"
  }
 },
 "nbformat": 4,
 "nbformat_minor": 5
}
