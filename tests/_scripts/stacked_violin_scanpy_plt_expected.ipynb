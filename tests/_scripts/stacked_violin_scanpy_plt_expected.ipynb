{
 "cells": [
  {
   "cell_type": "code",
   "execution_count": null,
   "id": "initial_id",
   "metadata": {
    "collapsed": true
   },
   "outputs": [],
   "source": [
    "import matplotlib.pyplot as plt\n",
    "\n",
    "import ehrapy as ep"
   ]
  },
  {
   "cell_type": "code",
   "execution_count": null,
   "id": "c1048f7df9c6886a",
   "metadata": {},
   "outputs": [],
   "source": [
    "%load_ext autoreload\n",
    "%autoreload 2"
   ]
  },
  {
   "cell_type": "code",
   "execution_count": null,
   "id": "323cbc567b099976",
   "metadata": {},
   "outputs": [],
   "source": [
    "current_notebook_dir = %pwd\n",
    "\n",
    "_TEST_IMAGE_PATH = f\"{current_notebook_dir}/../plot/_images\"\n",
    "\n",
    "adata = ep.dt.mimic_2(encoded=True)\n",
    "adata_sample = adata[:200].copy()"
   ]
  },
  {
   "cell_type": "code",
   "execution_count": null,
   "id": "28f422d2dfe0ac52",
   "metadata": {},
   "outputs": [],
   "source": [
    "ep.pl.stacked_violin(\n",
    "    adata_sample,\n",
    "    var_names=[\"icu_los_day\", \"hospital_los_day\", \"age\", \"gender_num\", \"weight_first\", \"bmi\"],\n",
    "    groupby=\"service_unit\",\n",
    "    show=False,\n",
    ")\n",
    "plt.gcf().savefig(f\"{_TEST_IMAGE_PATH}/stacked_violin_scanpy_plt_expected.png\", dpi=80)"
   ]
  },
  {
   "cell_type": "code",
   "execution_count": null,
   "id": "a2b780748cf18cc0",
   "metadata": {},
   "outputs": [],
   "source": []
  }
 ],
 "metadata": {
  "kernelspec": {
   "display_name": "Python 3",
   "language": "python",
   "name": "python3"
  },
  "language_info": {
   "codemirror_mode": {
    "name": "ipython",
    "version": 2
   },
   "file_extension": ".py",
   "mimetype": "text/x-python",
   "name": "python",
   "nbconvert_exporter": "python",
   "pygments_lexer": "ipython2",
   "version": "2.7.6"
  }
 },
 "nbformat": 4,
 "nbformat_minor": 5
}
