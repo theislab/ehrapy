{
 "cells": [
  {
   "cell_type": "code",
   "execution_count": 3,
   "id": "initial_id",
   "metadata": {
    "collapsed": true
   },
   "outputs": [],
   "source": [
    "import matplotlib\n",
    "\n",
    "matplotlib.use(\"Agg\") \n",
    "\n",
    "matplotlib.rcParams.update({\n",
    "    \"figure.dpi\":          80,\n",
    "    \"savefig.dpi\":         80,\n",
    "    \"figure.figsize\":      (6, 4),        \n",
    "    \"font.family\":         \"DejaVu Sans\", \n",
    "    \"font.size\":           10,\n",
    "    \"axes.titlesize\":      10,\n",
    "    \"axes.labelsize\":      10,\n",
    "    \"savefig.bbox\":        \"tight\",\n",
    "    \"savefig.pad_inches\":  0.02,\n",
    "})\n",
    "\n",
    "import matplotlib.pyplot as plt\n",
    "\n",
    "import ehrapy as ep"
   ]
  },
  {
   "cell_type": "code",
   "execution_count": 4,
   "id": "c1048f7df9c6886a",
   "metadata": {},
   "outputs": [
    {
     "name": "stdout",
     "output_type": "stream",
     "text": [
      "The autoreload extension is already loaded. To reload it, use:\n",
      "  %reload_ext autoreload\n"
     ]
    }
   ],
   "source": [
    "%load_ext autoreload\n",
    "%autoreload 2"
   ]
  },
  {
   "cell_type": "code",
   "execution_count": 5,
   "id": "323cbc567b099976",
   "metadata": {},
   "outputs": [
    {
     "data": {
      "text/html": [
       "<pre style=\"white-space:pre;overflow-x:auto;line-height:normal;font-family:Menlo,'DejaVu Sans Mono',consolas,'Courier New',monospace\"></pre>\n"
      ],
      "text/plain": []
     },
     "metadata": {},
     "output_type": "display_data"
    }
   ],
   "source": [
    "current_notebook_dir = %pwd\n",
    "\n",
    "_TEST_IMAGE_PATH = f\"{current_notebook_dir}/../plot/_images\"\n",
    "\n",
    "adata = ep.dt.mimic_2(encoded=True)\n",
    "adata_sample = adata[:200].copy()"
   ]
  },
  {
   "cell_type": "code",
   "execution_count": 6,
   "id": "28f422d2dfe0ac52",
   "metadata": {},
   "outputs": [],
   "source": [
    "ep.pl.stacked_violin(\n",
    "    adata_sample,\n",
    "    var_names=[\"icu_los_day\", \"hospital_los_day\", \"age\", \"gender_num\", \"weight_first\", \"bmi\"],\n",
    "    groupby=\"service_unit\",\n",
    "    show=False,\n",
    ")\n",
    "plt.gcf().savefig(f\"{_TEST_IMAGE_PATH}/stacked_violin_scanpy_plt_expected.png\", dpi=80)"
   ]
  },
  {
   "cell_type": "code",
   "execution_count": null,
   "id": "a2b780748cf18cc0",
   "metadata": {},
   "outputs": [],
   "source": []
  }
 ],
 "metadata": {
  "kernelspec": {
   "display_name": "ehrapy_env",
   "language": "python",
   "name": "python3"
  },
  "language_info": {
   "codemirror_mode": {
    "name": "ipython",
    "version": 3
   },
   "file_extension": ".py",
   "mimetype": "text/x-python",
   "name": "python",
   "nbconvert_exporter": "python",
   "pygments_lexer": "ipython3",
   "version": "3.11.13"
  }
 },
 "nbformat": 4,
 "nbformat_minor": 5
}
