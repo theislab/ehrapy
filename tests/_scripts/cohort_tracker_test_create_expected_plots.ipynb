{
 "cells": [
  {
   "cell_type": "markdown",
   "metadata": {},
   "source": [
    "### Create expected plots for CohortTracker Tests"
   ]
  },
  {
   "cell_type": "code",
   "execution_count": null,
   "metadata": {},
   "outputs": [],
   "source": [
    "import matplotlib.pyplot as plt\n",
    "import ehrapy as ep"
   ]
  },
  {
   "cell_type": "code",
   "execution_count": null,
   "metadata": {},
   "outputs": [],
   "source": [
    "%load_ext autoreload\n",
    "%autoreload 2"
   ]
  },
  {
   "cell_type": "code",
   "execution_count": null,
   "metadata": {},
   "outputs": [],
   "source": [
    "_TEST_DATA_PATH = \"/Users/eljasroellin/Documents/ehrapy_clean/ehrapy/tests/tools/ehrapy_data/dataset1.csv\"\n",
    "_TEST_IMAGE_PATH = \"/Users/eljasroellin/Documents/ehrapy_clean/ehrapy/tests/tools/_images\"\n",
    "adata_mini = ep.io.read_csv(_TEST_DATA_PATH, columns_obs_only=[\"glucose\", \"weight\", \"disease\", \"station\"])"
   ]
  },
  {
   "cell_type": "code",
   "execution_count": null,
   "metadata": {},
   "outputs": [],
   "source": [
    "ct = ep.tl.CohortTracker(adata_mini)\n",
    "\n",
    "ct(adata_mini, label=\"First step\", operations_done=\"Some operations\")\n",
    "fig1, ax1 = ct.plot_cohort_barplot(show=False)\n",
    "ct(adata_mini, label=\"Second step\", operations_done=\"Some other operations\")\n",
    "fig2, ax2 = ct.plot_cohort_barplot(show=False)\n",
    "\n",
    "fig1.tight_layout()\n",
    "fig1.savefig(\n",
    "    f\"{_TEST_IMAGE_PATH}/cohorttracker_adata_mini_step1_vanilla_expected.png\",\n",
    "    dpi=80,\n",
    ")\n",
    "\n",
    "fig2.tight_layout()\n",
    "fig2.savefig(\n",
    "    f\"{_TEST_IMAGE_PATH}/cohorttracker_adata_mini_step2_vanilla_expected.png\",\n",
    "    dpi=80,\n",
    ")"
   ]
  },
  {
   "cell_type": "code",
   "execution_count": null,
   "metadata": {},
   "outputs": [],
   "source": [
    "ct = ep.tl.CohortTracker(adata_mini)\n",
    "ct(adata_mini, label=\"First step\", operations_done=\"Some operations\")\n",
    "fig1_use_settings, _ = ct.plot_cohort_barplot(\n",
    "    show=False,\n",
    "    yticks_labels={\"weight\": \"wgt\"},\n",
    "    legend_labels={\"A\": \"Dis. A\", \"weight\": \"(kg)\"},\n",
    ")\n",
    "\n",
    "fig1_use_settings.tight_layout()\n",
    "fig1_use_settings.savefig(\n",
    "    f\"{_TEST_IMAGE_PATH}/cohorttracker_adata_mini_step1_use_settings_expected.png\",\n",
    "    dpi=80,\n",
    ")"
   ]
  },
  {
   "cell_type": "code",
   "execution_count": null,
   "metadata": {},
   "outputs": [],
   "source": [
    "ct = ep.tl.CohortTracker(adata_mini)\n",
    "ct(adata_mini, label=\"First step\", operations_done=\"Some operations\")\n",
    "fig1_use_settings_big, _ = ct.plot_cohort_barplot(\n",
    "    show=False,\n",
    "    yticks_labels={\"weight\": \"wgt\"},\n",
    "    legend_labels={\"A\": \"Dis. A\", \"weight\": \"(kg)\"},\n",
    "    legend_subtitles=True,\n",
    "    legend_subtitles_names={\"station\": \"\", \"disease\": \"dis\", \"weight\": \"wgt\", \"glucose\": \"glc\"},\n",
    ")\n",
    "\n",
    "fig1_use_settings_big.tight_layout()\n",
    "fig1_use_settings_big.savefig(\n",
    "    f\"{_TEST_IMAGE_PATH}/cohorttracker_adata_mini_step1_use_settings_big_expected.png\",\n",
    "    dpi=80,\n",
    ")"
   ]
  },
  {
   "cell_type": "code",
   "execution_count": null,
   "metadata": {},
   "outputs": [],
   "source": [
    "adata_mini_loose_category = adata_mini.copy()\n",
    "ct = ep.tl.CohortTracker(adata_mini_loose_category)\n",
    "ct(adata_mini_loose_category, label=\"First step\", operations_done=\"Some operations\")\n",
    "\n",
    "adata_mini_loose_category = adata_mini_loose_category[adata_mini_loose_category.obs.disease == \"A\", :]\n",
    "ct(adata_mini_loose_category)\n",
    "\n",
    "fig_loose_category, _ = ct.plot_cohort_barplot(color_palette=\"colorblind\", show=False)\n",
    "\n",
    "fig_loose_category.tight_layout()\n",
    "fig_loose_category.savefig(\n",
    "    f\"{_TEST_IMAGE_PATH}/cohorttracker_adata_mini_step2_loose_category_expected.png\",\n",
    "    dpi=80,\n",
    ")"
   ]
  },
  {
   "cell_type": "code",
   "execution_count": null,
   "metadata": {},
   "outputs": [],
   "source": [
    "ct = ep.tl.CohortTracker(adata_mini)\n",
    "\n",
    "ct(adata_mini, label=\"Base Cohort\")\n",
    "ct(adata_mini, operations_done=\"Some processing\")\n",
    "\n",
    "fig, ax = ct.plot_flowchart(\n",
    "    show=False,\n",
    ")\n",
    "\n",
    "fig.tight_layout()\n",
    "fig.savefig(\n",
    "    f\"{_TEST_IMAGE_PATH}/cohorttracker_adata_mini_flowchart_expected.png\",\n",
    "    dpi=80,\n",
    ")"
   ]
  }
 ],
 "metadata": {
  "kernelspec": {
   "display_name": "ehrapy_venv_feb",
   "language": "python",
   "name": "python3"
  },
  "language_info": {
   "codemirror_mode": {
    "name": "ipython",
    "version": 3
   },
   "file_extension": ".py",
   "mimetype": "text/x-python",
   "name": "python",
   "nbconvert_exporter": "python",
   "pygments_lexer": "ipython3",
   "version": "3.11.8"
  }
 },
 "nbformat": 4,
 "nbformat_minor": 2
}
