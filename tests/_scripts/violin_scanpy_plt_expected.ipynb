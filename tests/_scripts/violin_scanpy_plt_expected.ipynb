{
 "cells": [
  {
   "cell_type": "code",
   "execution_count": null,
   "id": "initial_id",
   "metadata": {
    "ExecuteTime": {
     "end_time": "2025-06-27T13:27:00.337372Z",
     "start_time": "2025-06-27T13:27:00.262196Z"
    },
    "collapsed": true
   },
   "outputs": [],
   "source": [
    "import matplotlib\n",
    "\n",
    "matplotlib.use(\"Agg\") \n",
    "\n",
    "matplotlib.rcParams.update({\n",
    "    \"figure.dpi\":          80,\n",
    "    \"savefig.dpi\":         80,\n",
    "    \"figure.figsize\":      (6, 4),        \n",
    "    \"font.family\":         \"DejaVu Sans\", \n",
    "    \"font.size\":           10,\n",
    "    \"axes.titlesize\":      10,\n",
    "    \"axes.labelsize\":      10,\n",
    "    \"savefig.bbox\":        \"tight\",\n",
    "    \"savefig.pad_inches\":  0.02,\n",
    "})\n",
    "\n",
    "import matplotlib.pyplot as plt\n",
    "\n",
    "import ehrapy as ep"
   ]
  },
  {
   "cell_type": "code",
   "execution_count": 6,
   "id": "867130904ceb5958",
   "metadata": {
    "ExecuteTime": {
     "end_time": "2025-06-27T13:27:00.359830Z",
     "start_time": "2025-06-27T13:27:00.338518Z"
    }
   },
   "outputs": [
    {
     "name": "stdout",
     "output_type": "stream",
     "text": [
      "The autoreload extension is already loaded. To reload it, use:\n",
      "  %reload_ext autoreload\n"
     ]
    }
   ],
   "source": [
    "%load_ext autoreload\n",
    "%autoreload 2"
   ]
  },
  {
   "cell_type": "code",
   "execution_count": 7,
   "id": "6c9d910be097ba1a",
   "metadata": {
    "ExecuteTime": {
     "end_time": "2025-06-27T13:27:00.431098Z",
     "start_time": "2025-06-27T13:27:00.360492Z"
    }
   },
   "outputs": [
    {
     "data": {
      "text/html": [
       "<pre style=\"white-space:pre;overflow-x:auto;line-height:normal;font-family:Menlo,'DejaVu Sans Mono',consolas,'Courier New',monospace\"></pre>\n"
      ],
      "text/plain": []
     },
     "metadata": {},
     "output_type": "display_data"
    }
   ],
   "source": [
    "current_notebook_dir = %pwd\n",
    "\n",
    "_TEST_IMAGE_PATH = f\"{current_notebook_dir}/../plot/_images\"\n",
    "\n",
    "adata = ep.dt.mimic_2(encoded=True)\n",
    "adata_sample = adata[:200].copy()"
   ]
  },
  {
   "cell_type": "code",
   "execution_count": 8,
   "id": "ab7d0abb0ac87abd",
   "metadata": {
    "ExecuteTime": {
     "end_time": "2025-06-27T13:27:00.566968Z",
     "start_time": "2025-06-27T13:27:00.432370Z"
    }
   },
   "outputs": [],
   "source": [
    "ep.pl.violin(adata_sample, keys=\"age\", groupby=\"service_unit\", show=False, jitter=False)\n",
    "plt.gcf().savefig(f\"{_TEST_IMAGE_PATH}/violin_scanpy_plt_expected.png\", dpi=80)"
   ]
  }
 ],
 "metadata": {
  "kernelspec": {
   "display_name": "ehrapy_env",
   "language": "python",
   "name": "python3"
  },
  "language_info": {
   "codemirror_mode": {
    "name": "ipython",
    "version": 3
   },
   "file_extension": ".py",
   "mimetype": "text/x-python",
   "name": "python",
   "nbconvert_exporter": "python",
   "pygments_lexer": "ipython3",
   "version": "3.11.13"
  }
 },
 "nbformat": 4,
 "nbformat_minor": 5
}
