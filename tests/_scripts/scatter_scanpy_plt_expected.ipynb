{
 "cells": [
  {
   "cell_type": "code",
   "id": "initial_id",
   "metadata": {
    "collapsed": true
   },
   "source": [
    "import matplotlib.pyplot as plt\n",
    "import ehrapy as ep"
   ],
   "outputs": [],
   "execution_count": null
  },
  {
   "metadata": {},
   "cell_type": "code",
   "source": [
    "%load_ext autoreload\n",
    "%autoreload 2"
   ],
   "id": "5a19a25586d58914",
   "outputs": [],
   "execution_count": null
  },
  {
   "metadata": {},
   "cell_type": "code",
   "source": [
    "current_notebook_dir = %pwd\n",
    "\n",
    "_TEST_IMAGE_PATH = f\"{current_notebook_dir}/../plot/_images\"\n",
    "\n",
    "adata = ep.dt.mimic_2(encoded=True)\n"
   ],
   "id": "b719f3cca898dd30",
   "outputs": [],
   "execution_count": null
  },
  {
   "metadata": {},
   "cell_type": "code",
   "source": [
    "ep.pl.scatter(adata, x=\"age\", y=\"icu_los_day\", color=\"#fe57a1\", show=False)\n",
    "\n",
    "plt.gcf().savefig(f\"{_TEST_IMAGE_PATH}/scatter_scanpy_plt_expected.png\", dpi=80)"
   ],
   "id": "a7b8bde28ceb12dc",
   "outputs": [],
   "execution_count": null
  }
 ],
 "metadata": {
  "kernelspec": {
   "display_name": "Python 3",
   "language": "python",
   "name": "python3"
  },
  "language_info": {
   "codemirror_mode": {
    "name": "ipython",
    "version": 2
   },
   "file_extension": ".py",
   "mimetype": "text/x-python",
   "name": "python",
   "nbconvert_exporter": "python",
   "pygments_lexer": "ipython2",
   "version": "2.7.6"
  }
 },
 "nbformat": 4,
 "nbformat_minor": 5
}
