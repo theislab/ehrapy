{
 "cells": [
  {
   "cell_type": "code",
   "id": "initial_id",
   "metadata": {
    "collapsed": true
   },
   "source": "##Create expected plots for heatmap tests",
   "outputs": [],
   "execution_count": null
  },
  {
   "metadata": {},
   "cell_type": "code",
   "source": [
    "import matplotlib.pyplot as plt\n",
    "import ehrapy as ep"
   ],
   "id": "1f1ec83d3b4ada90",
   "outputs": [],
   "execution_count": null
  },
  {
   "metadata": {},
   "cell_type": "code",
   "source": [
    "%load_ext autoreload\n",
    "%autoreload 2"
   ],
   "id": "201ba2622be9a456",
   "outputs": [],
   "execution_count": null
  },
  {
   "metadata": {},
   "cell_type": "code",
   "source": [
    "current_notebook_dir = %pwd\n",
    "\n",
    "_TEST_DATA_PATH = f\"/Users/oykusuoglu/projects/helmholtz/typo-fix/tests/data/dataset1.csv\"\n",
    "_TEST_IMAGE_PATH = f\"{current_notebook_dir}/../plot/_images\"\n",
    "\n",
    "adata_mini = ep.io.read_csv(_TEST_DATA_PATH, columns_obs_only=[\"idx\",\"sys_bp_entry\",\"dia_bp_entry\",\"glucose\",\"weight\",\"in_days\",\"station\"])"
   ],
   "id": "c074cb111a8c81",
   "outputs": [],
   "execution_count": null
  },
  {
   "metadata": {},
   "cell_type": "code",
   "source": [
    "ep.pl.heatmap(adata_mini, var_names=[\"idx\",\"sys_bp_entry\",\"dia_bp_entry\",\"glucose\",\"weight\",\"in_days\"],\n",
    "            groupby=\"station\", show=False, figsize=(5, 6))\n",
    "\n",
    "plt.gcf().savefig(f\"{_TEST_IMAGE_PATH}/heatmap_scanpy_plt_expected.png\", dpi=80)"
   ],
   "id": "9c7acee5ff29763f",
   "outputs": [],
   "execution_count": null
  },
  {
   "metadata": {},
   "cell_type": "code",
   "source": "",
   "id": "dff1d94f323ef741",
   "outputs": [],
   "execution_count": null
  }
 ],
 "metadata": {
  "kernelspec": {
   "display_name": "Python 3",
   "language": "python",
   "name": "python3"
  },
  "language_info": {
   "codemirror_mode": {
    "name": "ipython",
    "version": 2
   },
   "file_extension": ".py",
   "mimetype": "text/x-python",
   "name": "python",
   "nbconvert_exporter": "python",
   "pygments_lexer": "ipython2",
   "version": "2.7.6"
  }
 },
 "nbformat": 4,
 "nbformat_minor": 5
}
